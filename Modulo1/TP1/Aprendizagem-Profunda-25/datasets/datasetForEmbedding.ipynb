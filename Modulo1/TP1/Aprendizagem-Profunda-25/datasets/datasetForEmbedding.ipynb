{
 "cells": [
  {
   "cell_type": "code",
   "execution_count": 1,
   "metadata": {},
   "outputs": [],
   "source": [
    "import numpy as np\n",
    "import pandas as pd\n",
    "import os\n",
    "import random\n",
    "import pandas as pd\n",
    "import numpy as np\n",
    "from tensorflow.keras.preprocessing.sequence import pad_sequences\n",
    "\n",
    "def set_seed(seed: int):\n",
    "    random.seed(seed) # Python\n",
    "    np.random.seed(seed)  # Numpy, é o gerador utilizado pelo sklearn\n",
    "    os.environ[\"PYTHONHASHSEED\"] = str(seed)  # sistema operativo\n",
    "\n",
    "set_seed(25)"
   ]
  },
  {
   "cell_type": "code",
   "execution_count": 2,
   "metadata": {},
   "outputs": [],
   "source": [
    "def load_glove_embeddings(file_path, word_index, embedding_dim=100):\n",
    "    \"\"\"Load GloVe vectors and create an embedding matrix.\"\"\"\n",
    "    embeddings_index = {}\n",
    "    with open(file_path, 'r', encoding='utf-8') as f:\n",
    "        for line in f:\n",
    "            values = line.split()\n",
    "            word = values[0]\n",
    "            vector = np.asarray(values[1:], dtype='float32')\n",
    "            embeddings_index[word] = vector\n",
    "    \n",
    "    vocab_size = len(word_index) + 1  # +1 for padding index\n",
    "    embedding_matrix = np.zeros((vocab_size, embedding_dim))\n",
    "\n",
    "    for word, i in word_index.items():\n",
    "        if word in embeddings_index:\n",
    "            embedding_matrix[i] = embeddings_index[word]  # Use pre-trained GloVe vector\n",
    "        else:\n",
    "            embedding_matrix[i] = np.random.normal(scale=0.6, size=(embedding_dim,))  # Random init\n",
    "\n",
    "    return embedding_matrix\n",
    "\n",
    "def tokenize_and_index(texts):\n",
    "    \"\"\"Tokenizes text and creates a word index mapping.\"\"\"\n",
    "    word_index = {}\n",
    "    tokenized_texts = []\n",
    "\n",
    "    for sentence in texts:\n",
    "        words = sentence.lower().split()  # Basic tokenization\n",
    "        indexed_sentence = []\n",
    "        \n",
    "        for word in words:\n",
    "            if word not in word_index:\n",
    "                word_index[word] = len(word_index) + 1  # Start index from 1\n",
    "            indexed_sentence.append(word_index[word])\n",
    "\n",
    "        tokenized_texts.append(indexed_sentence)\n",
    "    \n",
    "    return tokenized_texts, word_index\n"
   ]
  },
  {
   "cell_type": "code",
   "execution_count": null,
   "metadata": {},
   "outputs": [],
   "source": [
    "from sklearn.model_selection import train_test_split\n",
    "df = pd.read_csv(\"datasets/human_or_ai_dataset.csv\")\n",
    "df = df.dropna()"
   ]
  },
  {
   "cell_type": "code",
   "execution_count": 4,
   "metadata": {},
   "outputs": [
    {
     "name": "stdout",
     "output_type": "stream",
     "text": [
      "source\n",
      "human    16019\n",
      "ai       11188\n",
      "Name: count, dtype: int64\n"
     ]
    }
   ],
   "source": [
    "# Split data into df_tail (98.6%) and df_head (1.2%) using stratified sampling\n",
    "df_tail, df_head = train_test_split(df, test_size=0.008, random_state=25, stratify=df[\"source\"])\n",
    "df = df_head\n",
    "print(df[\"source\"].value_counts())\n"
   ]
  },
  {
   "cell_type": "code",
   "execution_count": 5,
   "metadata": {},
   "outputs": [],
   "source": [
    "# Encode the source column, \"human\" = 0, \"ai\" = 1\n",
    "df[\"source\"] = df[\"source\"].apply(lambda x: 0 if x == \"human\" else 1)\n",
    "df = df.rename(columns={\"source\": \"targetLabel\"})"
   ]
  },
  {
   "cell_type": "code",
   "execution_count": 6,
   "metadata": {},
   "outputs": [
    {
     "name": "stdout",
     "output_type": "stream",
     "text": [
      "<class 'pandas.core.frame.DataFrame'>\n",
      "Index: 27207 entries, 860790 to 170303\n",
      "Data columns (total 2 columns):\n",
      " #   Column       Non-Null Count  Dtype \n",
      "---  ------       --------------  ----- \n",
      " 0   text         27207 non-null  object\n",
      " 1   targetLabel  27207 non-null  int64 \n",
      "dtypes: int64(1), object(1)\n",
      "memory usage: 637.7+ KB\n"
     ]
    }
   ],
   "source": [
    "df.info()"
   ]
  },
  {
   "cell_type": "code",
   "execution_count": 7,
   "metadata": {},
   "outputs": [
    {
     "data": {
      "text/html": [
       "<div>\n",
       "<style scoped>\n",
       "    .dataframe tbody tr th:only-of-type {\n",
       "        vertical-align: middle;\n",
       "    }\n",
       "\n",
       "    .dataframe tbody tr th {\n",
       "        vertical-align: top;\n",
       "    }\n",
       "\n",
       "    .dataframe thead th {\n",
       "        text-align: right;\n",
       "    }\n",
       "</style>\n",
       "<table border=\"1\" class=\"dataframe\">\n",
       "  <thead>\n",
       "    <tr style=\"text-align: right;\">\n",
       "      <th></th>\n",
       "      <th>text</th>\n",
       "      <th>targetLabel</th>\n",
       "    </tr>\n",
       "  </thead>\n",
       "  <tbody>\n",
       "    <tr>\n",
       "      <th>860790</th>\n",
       "      <td>r mother! I did it in your own basement, you n...</td>\n",
       "      <td>0</td>\n",
       "    </tr>\n",
       "    <tr>\n",
       "      <th>1343844</th>\n",
       "      <td>How about by grabbing a bowl and mixing togeth...</td>\n",
       "      <td>1</td>\n",
       "    </tr>\n",
       "    <tr>\n",
       "      <th>3012376</th>\n",
       "      <td>On one side, they want their children to exper...</td>\n",
       "      <td>1</td>\n",
       "    </tr>\n",
       "    <tr>\n",
       "      <th>1311978</th>\n",
       "      <td>Tottenham manager Mauricio Pochettino was not ...</td>\n",
       "      <td>1</td>\n",
       "    </tr>\n",
       "    <tr>\n",
       "      <th>625756</th>\n",
       "      <td>``Harold, I'm bored.'' \\n \\n ``Would you kindl...</td>\n",
       "      <td>0</td>\n",
       "    </tr>\n",
       "  </tbody>\n",
       "</table>\n",
       "</div>"
      ],
      "text/plain": [
       "                                                      text  targetLabel\n",
       "860790   r mother! I did it in your own basement, you n...            0\n",
       "1343844  How about by grabbing a bowl and mixing togeth...            1\n",
       "3012376  On one side, they want their children to exper...            1\n",
       "1311978  Tottenham manager Mauricio Pochettino was not ...            1\n",
       "625756   ``Harold, I'm bored.'' \\n \\n ``Would you kindl...            0"
      ]
     },
     "execution_count": 7,
     "metadata": {},
     "output_type": "execute_result"
    }
   ],
   "source": [
    "df.head()"
   ]
  },
  {
   "cell_type": "code",
   "execution_count": 8,
   "metadata": {},
   "outputs": [],
   "source": [
    "tokenized_texts, word_index = tokenize_and_index(df[\"text\"])  # Convert text to indices"
   ]
  },
  {
   "cell_type": "code",
   "execution_count": null,
   "metadata": {},
   "outputs": [],
   "source": [
    "max_length = max(len(seq) for seq in tokenized_texts)  # Find longest sequence\n",
    "padded_sequences = pad_sequences(tokenized_texts, maxlen=max_length, padding=\"post\")\n",
    "glove_path = \"../glove.6B.100d.txt\"  # Path to your GloVe file\n",
    "embedding_matrix = load_glove_embeddings(glove_path, word_index, embedding_dim=100)\n",
    "processed_df = pd.DataFrame(padded_sequences)  # Convert to Pandas DataFrame"
   ]
  },
  {
   "cell_type": "code",
   "execution_count": 10,
   "metadata": {},
   "outputs": [],
   "source": [
    "import json\n",
    "\n",
    "# Save word_index as a JSON file\n",
    "with open(\"word_index.json\", \"w\") as f:\n",
    "    json.dump(word_index, f)"
   ]
  },
  {
   "cell_type": "code",
   "execution_count": 11,
   "metadata": {},
   "outputs": [],
   "source": [
    "processed_df[\"targetLabel\"] = df[\"targetLabel\"].values   # Add the target column back"
   ]
  },
  {
   "cell_type": "code",
   "execution_count": 12,
   "metadata": {},
   "outputs": [
    {
     "data": {
      "text/html": [
       "<div>\n",
       "<style scoped>\n",
       "    .dataframe tbody tr th:only-of-type {\n",
       "        vertical-align: middle;\n",
       "    }\n",
       "\n",
       "    .dataframe tbody tr th {\n",
       "        vertical-align: top;\n",
       "    }\n",
       "\n",
       "    .dataframe thead th {\n",
       "        text-align: right;\n",
       "    }\n",
       "</style>\n",
       "<table border=\"1\" class=\"dataframe\">\n",
       "  <thead>\n",
       "    <tr style=\"text-align: right;\">\n",
       "      <th></th>\n",
       "      <th>0</th>\n",
       "      <th>1</th>\n",
       "      <th>2</th>\n",
       "      <th>3</th>\n",
       "      <th>4</th>\n",
       "      <th>5</th>\n",
       "      <th>6</th>\n",
       "      <th>7</th>\n",
       "      <th>8</th>\n",
       "      <th>9</th>\n",
       "      <th>...</th>\n",
       "      <th>55996</th>\n",
       "      <th>55997</th>\n",
       "      <th>55998</th>\n",
       "      <th>55999</th>\n",
       "      <th>56000</th>\n",
       "      <th>56001</th>\n",
       "      <th>56002</th>\n",
       "      <th>56003</th>\n",
       "      <th>56004</th>\n",
       "      <th>targetLabel</th>\n",
       "    </tr>\n",
       "  </thead>\n",
       "  <tbody>\n",
       "    <tr>\n",
       "      <th>0</th>\n",
       "      <td>1</td>\n",
       "      <td>2</td>\n",
       "      <td>3</td>\n",
       "      <td>4</td>\n",
       "      <td>5</td>\n",
       "      <td>6</td>\n",
       "      <td>7</td>\n",
       "      <td>8</td>\n",
       "      <td>9</td>\n",
       "      <td>10</td>\n",
       "      <td>...</td>\n",
       "      <td>0</td>\n",
       "      <td>0</td>\n",
       "      <td>0</td>\n",
       "      <td>0</td>\n",
       "      <td>0</td>\n",
       "      <td>0</td>\n",
       "      <td>0</td>\n",
       "      <td>0</td>\n",
       "      <td>0</td>\n",
       "      <td>0</td>\n",
       "    </tr>\n",
       "    <tr>\n",
       "      <th>1</th>\n",
       "      <td>133</td>\n",
       "      <td>134</td>\n",
       "      <td>100</td>\n",
       "      <td>135</td>\n",
       "      <td>74</td>\n",
       "      <td>136</td>\n",
       "      <td>30</td>\n",
       "      <td>137</td>\n",
       "      <td>138</td>\n",
       "      <td>139</td>\n",
       "      <td>...</td>\n",
       "      <td>0</td>\n",
       "      <td>0</td>\n",
       "      <td>0</td>\n",
       "      <td>0</td>\n",
       "      <td>0</td>\n",
       "      <td>0</td>\n",
       "      <td>0</td>\n",
       "      <td>0</td>\n",
       "      <td>0</td>\n",
       "      <td>1</td>\n",
       "    </tr>\n",
       "    <tr>\n",
       "      <th>2</th>\n",
       "      <td>42</td>\n",
       "      <td>197</td>\n",
       "      <td>198</td>\n",
       "      <td>199</td>\n",
       "      <td>168</td>\n",
       "      <td>200</td>\n",
       "      <td>201</td>\n",
       "      <td>17</td>\n",
       "      <td>202</td>\n",
       "      <td>32</td>\n",
       "      <td>...</td>\n",
       "      <td>0</td>\n",
       "      <td>0</td>\n",
       "      <td>0</td>\n",
       "      <td>0</td>\n",
       "      <td>0</td>\n",
       "      <td>0</td>\n",
       "      <td>0</td>\n",
       "      <td>0</td>\n",
       "      <td>0</td>\n",
       "      <td>1</td>\n",
       "    </tr>\n",
       "    <tr>\n",
       "      <th>3</th>\n",
       "      <td>345</td>\n",
       "      <td>346</td>\n",
       "      <td>347</td>\n",
       "      <td>348</td>\n",
       "      <td>181</td>\n",
       "      <td>349</td>\n",
       "      <td>134</td>\n",
       "      <td>17</td>\n",
       "      <td>147</td>\n",
       "      <td>350</td>\n",
       "      <td>...</td>\n",
       "      <td>0</td>\n",
       "      <td>0</td>\n",
       "      <td>0</td>\n",
       "      <td>0</td>\n",
       "      <td>0</td>\n",
       "      <td>0</td>\n",
       "      <td>0</td>\n",
       "      <td>0</td>\n",
       "      <td>0</td>\n",
       "      <td>1</td>\n",
       "    </tr>\n",
       "    <tr>\n",
       "      <th>4</th>\n",
       "      <td>486</td>\n",
       "      <td>62</td>\n",
       "      <td>487</td>\n",
       "      <td>488</td>\n",
       "      <td>10</td>\n",
       "      <td>489</td>\n",
       "      <td>490</td>\n",
       "      <td>32</td>\n",
       "      <td>491</td>\n",
       "      <td>492</td>\n",
       "      <td>...</td>\n",
       "      <td>0</td>\n",
       "      <td>0</td>\n",
       "      <td>0</td>\n",
       "      <td>0</td>\n",
       "      <td>0</td>\n",
       "      <td>0</td>\n",
       "      <td>0</td>\n",
       "      <td>0</td>\n",
       "      <td>0</td>\n",
       "      <td>0</td>\n",
       "    </tr>\n",
       "  </tbody>\n",
       "</table>\n",
       "<p>5 rows × 56006 columns</p>\n",
       "</div>"
      ],
      "text/plain": [
       "     0    1    2    3    4    5    6    7    8    9  ...  55996  55997  55998  \\\n",
       "0    1    2    3    4    5    6    7    8    9   10  ...      0      0      0   \n",
       "1  133  134  100  135   74  136   30  137  138  139  ...      0      0      0   \n",
       "2   42  197  198  199  168  200  201   17  202   32  ...      0      0      0   \n",
       "3  345  346  347  348  181  349  134   17  147  350  ...      0      0      0   \n",
       "4  486   62  487  488   10  489  490   32  491  492  ...      0      0      0   \n",
       "\n",
       "   55999  56000  56001  56002  56003  56004  targetLabel  \n",
       "0      0      0      0      0      0      0            0  \n",
       "1      0      0      0      0      0      0            1  \n",
       "2      0      0      0      0      0      0            1  \n",
       "3      0      0      0      0      0      0            1  \n",
       "4      0      0      0      0      0      0            0  \n",
       "\n",
       "[5 rows x 56006 columns]"
      ]
     },
     "execution_count": 12,
     "metadata": {},
     "output_type": "execute_result"
    }
   ],
   "source": [
    "processed_df.head()"
   ]
  },
  {
   "cell_type": "code",
   "execution_count": 13,
   "metadata": {},
   "outputs": [
    {
     "name": "stdout",
     "output_type": "stream",
     "text": [
      "targetLabel\n",
      "0    11213\n",
      "1     7831\n",
      "Name: count, dtype: int64\n",
      "targetLabel\n",
      "0    3204\n",
      "1    2238\n",
      "Name: count, dtype: int64\n",
      "targetLabel\n",
      "0    1602\n",
      "1    1119\n",
      "Name: count, dtype: int64\n"
     ]
    }
   ],
   "source": [
    "# Split the data: First separate out 20% as the test set.\n",
    "df_train_val, df_test = train_test_split(processed_df, test_size=0.2, random_state=25,stratify=processed_df[\"targetLabel\"])\n",
    "\n",
    "# Now split the remaining 80% into training and validation sets.\n",
    "# Since we want a total of 10% of the original data for validation, we split 12.5% of the remaining data.\n",
    "df_train, df_val = train_test_split(df_train_val, test_size=0.125, random_state=25,stratify=df_train_val[\"targetLabel\"])\n",
    "\n",
    "print(df_train[\"targetLabel\"].value_counts())\n",
    "print(df_test[\"targetLabel\"].value_counts())\n",
    "print(df_val[\"targetLabel\"].value_counts())"
   ]
  },
  {
   "cell_type": "code",
   "execution_count": 14,
   "metadata": {},
   "outputs": [],
   "source": [
    "# Write each DataFrame split to CSV files.\n",
    "df_train.to_csv('train_emb.csv', index=False)\n",
    "df_val.to_csv('validation_emb.csv', index=False)\n",
    "df_test.to_csv('test_emb.csv', index=False)"
   ]
  },
  {
   "cell_type": "code",
   "execution_count": 15,
   "metadata": {},
   "outputs": [
    {
     "name": "stdout",
     "output_type": "stream",
     "text": [
      "56005\n"
     ]
    }
   ],
   "source": [
    "print(max_length)"
   ]
  }
 ],
 "metadata": {
  "kernelspec": {
   "display_name": "Python 3 (ipykernel)",
   "language": "python",
   "name": "python3"
  },
  "language_info": {
   "codemirror_mode": {
    "name": "ipython",
    "version": 3
   },
   "file_extension": ".py",
   "mimetype": "text/x-python",
   "name": "python",
   "nbconvert_exporter": "python",
   "pygments_lexer": "ipython3",
   "version": "3.12.2"
  }
 },
 "nbformat": 4,
 "nbformat_minor": 4
}

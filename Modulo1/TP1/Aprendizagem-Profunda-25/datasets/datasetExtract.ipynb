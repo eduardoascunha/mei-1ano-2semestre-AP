{
 "cells": [
  {
   "cell_type": "markdown",
   "metadata": {},
   "source": [
    "# Segunda etapa, extração"
   ]
  },
  {
   "cell_type": "code",
   "execution_count": 2,
   "metadata": {},
   "outputs": [],
   "source": [
    "import numpy as np\n",
    "import pandas as pd\n",
    "import os\n",
    "import random\n",
    "def set_seed(seed: int):\n",
    "    random.seed(seed) # Python\n",
    "    np.random.seed(seed)  # Numpy, é o gerador utilizado pelo sklearn\n",
    "    os.environ[\"PYTHONHASHSEED\"] = str(seed)  # sistema operativo\n",
    "\n",
    "set_seed(25)"
   ]
  },
  {
   "cell_type": "code",
   "execution_count": 3,
   "metadata": {},
   "outputs": [],
   "source": [
    "import pandas as pd\n",
    "\n",
    "df = pd.read_csv(\"human_or_ai_dataset_small_research_only.csv\")"
   ]
  },
  {
   "cell_type": "code",
   "execution_count": 4,
   "metadata": {},
   "outputs": [
    {
     "data": {
      "text/html": [
       "<div>\n",
       "<style scoped>\n",
       "    .dataframe tbody tr th:only-of-type {\n",
       "        vertical-align: middle;\n",
       "    }\n",
       "\n",
       "    .dataframe tbody tr th {\n",
       "        vertical-align: top;\n",
       "    }\n",
       "\n",
       "    .dataframe thead th {\n",
       "        text-align: right;\n",
       "    }\n",
       "</style>\n",
       "<table border=\"1\" class=\"dataframe\">\n",
       "  <thead>\n",
       "    <tr style=\"text-align: right;\">\n",
       "      <th></th>\n",
       "      <th>text</th>\n",
       "      <th>source</th>\n",
       "    </tr>\n",
       "  </thead>\n",
       "  <tbody>\n",
       "    <tr>\n",
       "      <th>0</th>\n",
       "      <td>Advanced electromagnetic potentials are indi...</td>\n",
       "      <td>human</td>\n",
       "    </tr>\n",
       "    <tr>\n",
       "      <th>1</th>\n",
       "      <td>This research paper investigates the question ...</td>\n",
       "      <td>ai</td>\n",
       "    </tr>\n",
       "    <tr>\n",
       "      <th>2</th>\n",
       "      <td>We give an algorithm for finding network enc...</td>\n",
       "      <td>human</td>\n",
       "    </tr>\n",
       "    <tr>\n",
       "      <th>3</th>\n",
       "      <td>The paper presents an efficient centralized bi...</td>\n",
       "      <td>ai</td>\n",
       "    </tr>\n",
       "    <tr>\n",
       "      <th>4</th>\n",
       "      <td>We introduce an exponential random graph mod...</td>\n",
       "      <td>human</td>\n",
       "    </tr>\n",
       "  </tbody>\n",
       "</table>\n",
       "</div>"
      ],
      "text/plain": [
       "                                                text source\n",
       "0    Advanced electromagnetic potentials are indi...  human\n",
       "1  This research paper investigates the question ...     ai\n",
       "2    We give an algorithm for finding network enc...  human\n",
       "3  The paper presents an efficient centralized bi...     ai\n",
       "4    We introduce an exponential random graph mod...  human"
      ]
     },
     "execution_count": 4,
     "metadata": {},
     "output_type": "execute_result"
    }
   ],
   "source": [
    "df.head()"
   ]
  },
  {
   "cell_type": "markdown",
   "metadata": {},
   "source": [
    "## Tentar com outras libs"
   ]
  },
  {
   "cell_type": "code",
   "execution_count": 5,
   "metadata": {},
   "outputs": [],
   "source": [
    "# Encode the source column, \"human\" = 0, \"ai\" = 1\n",
    "df[\"source\"] = df[\"source\"].apply(lambda x: 0 if x == \"human\" else 1)"
   ]
  },
  {
   "cell_type": "code",
   "execution_count": 6,
   "metadata": {},
   "outputs": [
    {
     "name": "stdout",
     "output_type": "stream",
     "text": [
      "<class 'pandas.core.frame.DataFrame'>\n",
      "RangeIndex: 5051 entries, 0 to 5050\n",
      "Data columns (total 2 columns):\n",
      " #   Column  Non-Null Count  Dtype \n",
      "---  ------  --------------  ----- \n",
      " 0   text    5051 non-null   object\n",
      " 1   source  5051 non-null   int64 \n",
      "dtypes: int64(1), object(1)\n",
      "memory usage: 79.1+ KB\n",
      "None\n",
      "source\n",
      "1    2753\n",
      "0    2298\n",
      "Name: count, dtype: int64\n",
      "source\n",
      "1    27\n",
      "0    23\n",
      "Name: count, dtype: int64\n",
      "source\n",
      "1    2726\n",
      "0    2275\n",
      "Name: count, dtype: int64\n",
      "<class 'pandas.core.frame.DataFrame'>\n",
      "RangeIndex: 5001 entries, 0 to 5000\n",
      "Columns: 10001 entries, 000 to targetLabel\n",
      "dtypes: int64(1), int8(10000)\n",
      "memory usage: 47.7 MB\n",
      "None\n",
      "   000  001  02  03  04  05  09  10  100  1000  ...  zeros  zeta  zeus  \\\n",
      "0    0    0   0   0   0   0   0   0    0     0  ...      0     0     0   \n",
      "1    0    0   0   0   0   0   0   0    0     0  ...      0     0     0   \n",
      "2    0    0   0   0   0   0   0   0    0     0  ...      0     0     0   \n",
      "3    0    0   0   0   0   0   0   0    0     0  ...      0     0     0   \n",
      "4    0    0   0   0   0   0   0   0    0     0  ...      0     0     0   \n",
      "\n",
      "   zigzag  zinc  zipf  zn  zone  zones  targetLabel  \n",
      "0       0     0     0   0     0      0            1  \n",
      "1       0     0     0   0     0      0            1  \n",
      "2       0     0     0   0     0      0            0  \n",
      "3       0     0     0   0     0      0            1  \n",
      "4       0     0     0   0     0      0            1  \n",
      "\n",
      "[5 rows x 10001 columns]\n"
     ]
    }
   ],
   "source": [
    "import pandas as pd\n",
    "from sklearn.feature_extraction.text import CountVectorizer\n",
    "from sklearn.model_selection import train_test_split\n",
    "\n",
    "# Assume df is your original DataFrame (loaded from a CSV)\n",
    "print(df.info())\n",
    "\n",
    "# Initialize CountVectorizer with binary features\n",
    "vectorizer = CountVectorizer(max_features=10000, binary=True)\n",
    "print(df[\"source\"].value_counts())\n",
    "\n",
    "# Split data into df_tail (98.6%) and df_head (1.2%) using stratified sampling\n",
    "df_tail, df_head = train_test_split(df, test_size=0.99, random_state=25, stratify=df[\"source\"])\n",
    "\n",
    "print(df_tail[\"source\"].value_counts())\n",
    "print(df_head[\"source\"].value_counts())\n",
    "\n",
    "# Rename \"source\" to \"targetLabel\"\n",
    "df_head = df_head.rename(columns={\"source\": \"targetLabel\"})\n",
    "\n",
    "# Fit and transform the text data (using df_head)\n",
    "X = vectorizer.fit_transform(df_head['text'])\n",
    "\n",
    "# Convert the sparse matrix to a DataFrame\n",
    "df_encoded = pd.DataFrame(\n",
    "    X.astype(\"int8\").toarray(),\n",
    "    columns=vectorizer.get_feature_names_out()\n",
    ")\n",
    "\n",
    "# Add the \"targetLabel\" column at the last position\n",
    "df_encoded[\"targetLabel\"] = df_head[\"targetLabel\"].values\n",
    "\n",
    "# Final check\n",
    "print(df_encoded.info())\n",
    "print(df_encoded.head())\n"
   ]
  },
  {
   "cell_type": "code",
   "execution_count": 7,
   "metadata": {},
   "outputs": [
    {
     "name": "stdout",
     "output_type": "stream",
     "text": [
      "<class 'pandas.core.frame.DataFrame'>\n",
      "RangeIndex: 5001 entries, 0 to 5000\n",
      "Columns: 10001 entries, 000 to targetLabel\n",
      "dtypes: int64(1), int8(10000)\n",
      "memory usage: 47.7 MB\n"
     ]
    },
    {
     "data": {
      "text/html": [
       "<div>\n",
       "<style scoped>\n",
       "    .dataframe tbody tr th:only-of-type {\n",
       "        vertical-align: middle;\n",
       "    }\n",
       "\n",
       "    .dataframe tbody tr th {\n",
       "        vertical-align: top;\n",
       "    }\n",
       "\n",
       "    .dataframe thead th {\n",
       "        text-align: right;\n",
       "    }\n",
       "</style>\n",
       "<table border=\"1\" class=\"dataframe\">\n",
       "  <thead>\n",
       "    <tr style=\"text-align: right;\">\n",
       "      <th></th>\n",
       "      <th>000</th>\n",
       "      <th>001</th>\n",
       "      <th>02</th>\n",
       "      <th>03</th>\n",
       "      <th>04</th>\n",
       "      <th>05</th>\n",
       "      <th>09</th>\n",
       "      <th>10</th>\n",
       "      <th>100</th>\n",
       "      <th>1000</th>\n",
       "      <th>...</th>\n",
       "      <th>zeros</th>\n",
       "      <th>zeta</th>\n",
       "      <th>zeus</th>\n",
       "      <th>zigzag</th>\n",
       "      <th>zinc</th>\n",
       "      <th>zipf</th>\n",
       "      <th>zn</th>\n",
       "      <th>zone</th>\n",
       "      <th>zones</th>\n",
       "      <th>targetLabel</th>\n",
       "    </tr>\n",
       "  </thead>\n",
       "  <tbody>\n",
       "    <tr>\n",
       "      <th>0</th>\n",
       "      <td>0</td>\n",
       "      <td>0</td>\n",
       "      <td>0</td>\n",
       "      <td>0</td>\n",
       "      <td>0</td>\n",
       "      <td>0</td>\n",
       "      <td>0</td>\n",
       "      <td>0</td>\n",
       "      <td>0</td>\n",
       "      <td>0</td>\n",
       "      <td>...</td>\n",
       "      <td>0</td>\n",
       "      <td>0</td>\n",
       "      <td>0</td>\n",
       "      <td>0</td>\n",
       "      <td>0</td>\n",
       "      <td>0</td>\n",
       "      <td>0</td>\n",
       "      <td>0</td>\n",
       "      <td>0</td>\n",
       "      <td>1</td>\n",
       "    </tr>\n",
       "    <tr>\n",
       "      <th>1</th>\n",
       "      <td>0</td>\n",
       "      <td>0</td>\n",
       "      <td>0</td>\n",
       "      <td>0</td>\n",
       "      <td>0</td>\n",
       "      <td>0</td>\n",
       "      <td>0</td>\n",
       "      <td>0</td>\n",
       "      <td>0</td>\n",
       "      <td>0</td>\n",
       "      <td>...</td>\n",
       "      <td>0</td>\n",
       "      <td>0</td>\n",
       "      <td>0</td>\n",
       "      <td>0</td>\n",
       "      <td>0</td>\n",
       "      <td>0</td>\n",
       "      <td>0</td>\n",
       "      <td>0</td>\n",
       "      <td>0</td>\n",
       "      <td>1</td>\n",
       "    </tr>\n",
       "    <tr>\n",
       "      <th>2</th>\n",
       "      <td>0</td>\n",
       "      <td>0</td>\n",
       "      <td>0</td>\n",
       "      <td>0</td>\n",
       "      <td>0</td>\n",
       "      <td>0</td>\n",
       "      <td>0</td>\n",
       "      <td>0</td>\n",
       "      <td>0</td>\n",
       "      <td>0</td>\n",
       "      <td>...</td>\n",
       "      <td>0</td>\n",
       "      <td>0</td>\n",
       "      <td>0</td>\n",
       "      <td>0</td>\n",
       "      <td>0</td>\n",
       "      <td>0</td>\n",
       "      <td>0</td>\n",
       "      <td>0</td>\n",
       "      <td>0</td>\n",
       "      <td>0</td>\n",
       "    </tr>\n",
       "    <tr>\n",
       "      <th>3</th>\n",
       "      <td>0</td>\n",
       "      <td>0</td>\n",
       "      <td>0</td>\n",
       "      <td>0</td>\n",
       "      <td>0</td>\n",
       "      <td>0</td>\n",
       "      <td>0</td>\n",
       "      <td>0</td>\n",
       "      <td>0</td>\n",
       "      <td>0</td>\n",
       "      <td>...</td>\n",
       "      <td>0</td>\n",
       "      <td>0</td>\n",
       "      <td>0</td>\n",
       "      <td>0</td>\n",
       "      <td>0</td>\n",
       "      <td>0</td>\n",
       "      <td>0</td>\n",
       "      <td>0</td>\n",
       "      <td>0</td>\n",
       "      <td>1</td>\n",
       "    </tr>\n",
       "    <tr>\n",
       "      <th>4</th>\n",
       "      <td>0</td>\n",
       "      <td>0</td>\n",
       "      <td>0</td>\n",
       "      <td>0</td>\n",
       "      <td>0</td>\n",
       "      <td>0</td>\n",
       "      <td>0</td>\n",
       "      <td>0</td>\n",
       "      <td>0</td>\n",
       "      <td>0</td>\n",
       "      <td>...</td>\n",
       "      <td>0</td>\n",
       "      <td>0</td>\n",
       "      <td>0</td>\n",
       "      <td>0</td>\n",
       "      <td>0</td>\n",
       "      <td>0</td>\n",
       "      <td>0</td>\n",
       "      <td>0</td>\n",
       "      <td>0</td>\n",
       "      <td>1</td>\n",
       "    </tr>\n",
       "  </tbody>\n",
       "</table>\n",
       "<p>5 rows × 10001 columns</p>\n",
       "</div>"
      ],
      "text/plain": [
       "   000  001  02  03  04  05  09  10  100  1000  ...  zeros  zeta  zeus  \\\n",
       "0    0    0   0   0   0   0   0   0    0     0  ...      0     0     0   \n",
       "1    0    0   0   0   0   0   0   0    0     0  ...      0     0     0   \n",
       "2    0    0   0   0   0   0   0   0    0     0  ...      0     0     0   \n",
       "3    0    0   0   0   0   0   0   0    0     0  ...      0     0     0   \n",
       "4    0    0   0   0   0   0   0   0    0     0  ...      0     0     0   \n",
       "\n",
       "   zigzag  zinc  zipf  zn  zone  zones  targetLabel  \n",
       "0       0     0     0   0     0      0            1  \n",
       "1       0     0     0   0     0      0            1  \n",
       "2       0     0     0   0     0      0            0  \n",
       "3       0     0     0   0     0      0            1  \n",
       "4       0     0     0   0     0      0            1  \n",
       "\n",
       "[5 rows x 10001 columns]"
      ]
     },
     "execution_count": 7,
     "metadata": {},
     "output_type": "execute_result"
    }
   ],
   "source": [
    "df_encoded.info()\n",
    "df_encoded.head()"
   ]
  },
  {
   "cell_type": "code",
   "execution_count": 8,
   "metadata": {},
   "outputs": [
    {
     "name": "stdout",
     "output_type": "stream",
     "text": [
      "targetLabel\n",
      "1    2726\n",
      "0    2275\n",
      "Name: count, dtype: int64\n"
     ]
    }
   ],
   "source": [
    "print(df_encoded[\"targetLabel\"].value_counts())"
   ]
  },
  {
   "cell_type": "code",
   "execution_count": 9,
   "metadata": {},
   "outputs": [
    {
     "name": "stdout",
     "output_type": "stream",
     "text": [
      "targetLabel\n",
      "1    1908\n",
      "0    1592\n",
      "Name: count, dtype: int64\n",
      "targetLabel\n",
      "1    546\n",
      "0    455\n",
      "Name: count, dtype: int64\n",
      "targetLabel\n",
      "1    272\n",
      "0    228\n",
      "Name: count, dtype: int64\n"
     ]
    }
   ],
   "source": [
    "# Split the data: First separate out 20% as the test set.\n",
    "df_train_val, df_test = train_test_split(df_encoded, test_size=0.2, random_state=25,stratify=df_encoded[\"targetLabel\"])\n",
    "\n",
    "# Now split the remaining 80% into training and validation sets.\n",
    "# Since we want a total of 10% of the original data for validation, we split 12.5% of the remaining data.\n",
    "df_train, df_val = train_test_split(df_train_val, test_size=0.125, random_state=25,stratify=df_train_val[\"targetLabel\"])\n",
    "\n",
    "print(df_train[\"targetLabel\"].value_counts())\n",
    "print(df_test[\"targetLabel\"].value_counts())\n",
    "print(df_val[\"targetLabel\"].value_counts())"
   ]
  },
  {
   "cell_type": "code",
   "execution_count": 11,
   "metadata": {},
   "outputs": [],
   "source": [
    "# Write each DataFrame split to CSV files.\n",
    "df_train.to_csv('train.csv', index=False)\n",
    "df_val.to_csv('validation.csv', index=False)\n",
    "df_test.to_csv('test.csv', index=False)"
   ]
  },
  {
   "cell_type": "markdown",
   "metadata": {},
   "source": [
    "# Stor"
   ]
  },
  {
   "cell_type": "code",
   "execution_count": 19,
   "metadata": {},
   "outputs": [
    {
     "data": {
      "text/html": [
       "<div>\n",
       "<style scoped>\n",
       "    .dataframe tbody tr th:only-of-type {\n",
       "        vertical-align: middle;\n",
       "    }\n",
       "\n",
       "    .dataframe tbody tr th {\n",
       "        vertical-align: top;\n",
       "    }\n",
       "\n",
       "    .dataframe thead th {\n",
       "        text-align: right;\n",
       "    }\n",
       "</style>\n",
       "<table border=\"1\" class=\"dataframe\">\n",
       "  <thead>\n",
       "    <tr style=\"text-align: right;\">\n",
       "      <th></th>\n",
       "      <th>Text</th>\n",
       "    </tr>\n",
       "  </thead>\n",
       "  <tbody>\n",
       "    <tr>\n",
       "      <th>0</th>\n",
       "      <td>The Solar System faces a dramatic future over ...</td>\n",
       "    </tr>\n",
       "    <tr>\n",
       "      <th>1</th>\n",
       "      <td>Spermidine is an aliphatic polyamine. Spermidi...</td>\n",
       "    </tr>\n",
       "    <tr>\n",
       "      <th>2</th>\n",
       "      <td>The feasibility of extraterrestrial life is a ...</td>\n",
       "    </tr>\n",
       "    <tr>\n",
       "      <th>3</th>\n",
       "      <td>Many cross sectional and prospective studies h...</td>\n",
       "    </tr>\n",
       "    <tr>\n",
       "      <th>4</th>\n",
       "      <td>There were observations of spectral lines. Tha...</td>\n",
       "    </tr>\n",
       "  </tbody>\n",
       "</table>\n",
       "</div>"
      ],
      "text/plain": [
       "                                                Text\n",
       "0  The Solar System faces a dramatic future over ...\n",
       "1  Spermidine is an aliphatic polyamine. Spermidi...\n",
       "2  The feasibility of extraterrestrial life is a ...\n",
       "3  Many cross sectional and prospective studies h...\n",
       "4  There were observations of spectral lines. Tha..."
      ]
     },
     "execution_count": 19,
     "metadata": {},
     "output_type": "execute_result"
    }
   ],
   "source": [
    "df_in = pd.read_csv(\"dataset2_inputs.csv\", sep=\";\")\n",
    "df_in.drop(columns=[\"ID\"], inplace=True)\n",
    "# df_in.dropna(subset=[\"Text\"], inplace=True)\n",
    "df_in.head()"
   ]
  },
  {
   "cell_type": "code",
   "execution_count": 20,
   "metadata": {},
   "outputs": [
    {
     "name": "stdout",
     "output_type": "stream",
     "text": [
      "<class 'pandas.core.frame.DataFrame'>\n",
      "RangeIndex: 100 entries, 0 to 99\n",
      "Data columns (total 1 columns):\n",
      " #   Column  Non-Null Count  Dtype \n",
      "---  ------  --------------  ----- \n",
      " 0   Text    100 non-null    object\n",
      "dtypes: object(1)\n",
      "memory usage: 932.0+ bytes\n"
     ]
    }
   ],
   "source": [
    "df_in.info()"
   ]
  },
  {
   "cell_type": "code",
   "execution_count": 21,
   "metadata": {},
   "outputs": [
    {
     "name": "stdout",
     "output_type": "stream",
     "text": [
      "<class 'pandas.core.frame.DataFrame'>\n",
      "RangeIndex: 100 entries, 0 to 99\n",
      "Columns: 10000 entries, 000 to zones\n",
      "dtypes: int8(10000)\n",
      "memory usage: 976.7 KB\n",
      "None\n",
      "   000  001  02  03  04  05  09  10  100  1000  ...  zero  zeros  zeta  zeus  \\\n",
      "0    0    0   0   0   0   0   0   0    0     0  ...     0      0     0     0   \n",
      "1    0    0   0   0   0   0   0   0    0     0  ...     0      0     0     0   \n",
      "2    0    0   0   0   0   0   0   0    0     0  ...     0      0     0     0   \n",
      "3    0    0   0   0   0   0   0   0    0     0  ...     0      0     0     0   \n",
      "4    0    0   0   0   0   0   0   0    0     0  ...     0      0     0     0   \n",
      "\n",
      "   zigzag  zinc  zipf  zn  zone  zones  \n",
      "0       0     0     0   0     0      0  \n",
      "1       0     0     0   0     0      0  \n",
      "2       0     0     0   0     1      0  \n",
      "3       0     0     0   0     0      0  \n",
      "4       0     0     0   0     0      0  \n",
      "\n",
      "[5 rows x 10000 columns]\n"
     ]
    }
   ],
   "source": [
    "# Rename \"Text\" to \"text\"\n",
    "df_in = df_in.rename(columns={\"Text\": \"text\"})\n",
    "\n",
    "# Fit and transform the text data\n",
    "X_in = vectorizer.transform(df_in['text'])\n",
    "\n",
    "# Convert the sparse matrix to a DataFrame\n",
    "df_in_encoded = pd.DataFrame(\n",
    "    X_in.astype(\"int8\").toarray(),\n",
    "    columns=vectorizer.get_feature_names_out()\n",
    ")\n",
    "\n",
    "# Final check\n",
    "print(df_in_encoded.info())\n",
    "print(df_in_encoded.head())"
   ]
  },
  {
   "cell_type": "code",
   "execution_count": 22,
   "metadata": {},
   "outputs": [],
   "source": [
    "df_in_encoded.to_csv('dataset2_inputs_proc.csv', index=False)"
   ]
  }
 ],
 "metadata": {
  "kernelspec": {
   "display_name": "Python 3",
   "language": "python",
   "name": "python3"
  },
  "language_info": {
   "codemirror_mode": {
    "name": "ipython",
    "version": 3
   },
   "file_extension": ".py",
   "mimetype": "text/x-python",
   "name": "python",
   "nbconvert_exporter": "python",
   "pygments_lexer": "ipython3",
   "version": "3.11.5"
  }
 },
 "nbformat": 4,
 "nbformat_minor": 4
}

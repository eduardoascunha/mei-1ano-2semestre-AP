{
 "cells": [
  {
   "cell_type": "code",
   "execution_count": 1,
   "metadata": {},
   "outputs": [
    {
     "name": "stderr",
     "output_type": "stream",
     "text": [
      "2025-03-25 15:19:32.539022: I tensorflow/core/platform/cpu_feature_guard.cc:193] This TensorFlow binary is optimized with oneAPI Deep Neural Network Library (oneDNN) to use the following CPU instructions in performance-critical operations:  SSE4.1 SSE4.2 AVX AVX2 FMA\n",
      "To enable them in other operations, rebuild TensorFlow with the appropriate compiler flags.\n"
     ]
    }
   ],
   "source": [
    "import numpy as np\n",
    "import pandas as pd\n",
    "import os\n",
    "import random\n",
    "from tensorflow.keras import models, layers, Input"
   ]
  },
  {
   "cell_type": "code",
   "execution_count": 2,
   "metadata": {},
   "outputs": [],
   "source": [
    "def set_seed(seed: int):\n",
    "    random.seed(seed) # Python\n",
    "    np.random.seed(seed)  # Numpy, é o gerador utilizado pelo sklearn\n",
    "    os.environ[\"PYTHONHASHSEED\"] = str(seed)  # sistema operativo\n",
    "\n",
    "set_seed(25)"
   ]
  },
  {
   "cell_type": "code",
   "execution_count": 7,
   "metadata": {},
   "outputs": [
    {
     "name": "stdout",
     "output_type": "stream",
     "text": [
      "Done reading!\n"
     ]
    }
   ],
   "source": [
    "# Load datasets\n",
    "def load_data(file_path):\n",
    "    data = pd.read_csv(file_path)\n",
    "    features = data.drop(columns=['targetLabel']).values  \n",
    "    labels = data['targetLabel'].values\n",
    "    return features, labels\n",
    "\n",
    "train_data, train_targets = load_data('../../datasets/trainSmall.csv')\n",
    "test_data, test_targets = load_data('../../datasets/testSmall.csv')\n",
    "print(\"Done reading!\")"
   ]
  },
  {
   "cell_type": "code",
   "execution_count": 8,
   "metadata": {},
   "outputs": [
    {
     "name": "stdout",
     "output_type": "stream",
     "text": [
      "Train targets shape: (3500,)\n",
      "Test targets shape: (1001,)\n"
     ]
    }
   ],
   "source": [
    "print(\"Train targets shape:\", train_targets.shape)\n",
    "print(\"Test targets shape:\", test_targets.shape)"
   ]
  },
  {
   "cell_type": "code",
   "execution_count": 9,
   "metadata": {},
   "outputs": [
    {
     "name": "stdout",
     "output_type": "stream",
     "text": [
      "Model: \"sequential\"\n",
      "_________________________________________________________________\n",
      " Layer (type)                Output Shape              Param #   \n",
      "=================================================================\n",
      " dense (Dense)               (None, 128)               1280128   \n",
      "                                                                 \n",
      " dropout (Dropout)           (None, 128)               0         \n",
      "                                                                 \n",
      " dense_1 (Dense)             (None, 64)                8256      \n",
      "                                                                 \n",
      " dropout_1 (Dropout)         (None, 64)                0         \n",
      "                                                                 \n",
      " dense_2 (Dense)             (None, 32)                2080      \n",
      "                                                                 \n",
      " dense_3 (Dense)             (None, 1)                 33        \n",
      "                                                                 \n",
      "=================================================================\n",
      "Total params: 1,290,497\n",
      "Trainable params: 1,290,497\n",
      "Non-trainable params: 0\n",
      "_________________________________________________________________\n"
     ]
    },
    {
     "name": "stderr",
     "output_type": "stream",
     "text": [
      "2025-03-25 15:23:28.225434: I tensorflow/core/platform/cpu_feature_guard.cc:193] This TensorFlow binary is optimized with oneAPI Deep Neural Network Library (oneDNN) to use the following CPU instructions in performance-critical operations:  SSE4.1 SSE4.2 AVX AVX2 FMA\n",
      "To enable them in other operations, rebuild TensorFlow with the appropriate compiler flags.\n",
      "2025-03-25 15:23:28.231090: I tensorflow/core/common_runtime/process_util.cc:146] Creating new thread pool with default inter op setting: 2. Tune using inter_op_parallelism_threads for best performance.\n"
     ]
    }
   ],
   "source": [
    "# Build the model\n",
    "def build_model():\n",
    "    model = models.Sequential()\n",
    "    model.add(Input(shape=(train_data.shape[1],)))\n",
    "    model.add(layers.Dense(128, activation='relu'))\n",
    "    model.add(layers.Dropout(0.5))\n",
    "    model.add(layers.Dense(64, activation='sigmoid'))\n",
    "    model.add(layers.Dropout(0.5))\n",
    "    model.add(layers.Dense(32, activation='sigmoid'))\n",
    "    model.add(layers.Dense(1)) \n",
    "    model.compile(optimizer='rmsprop', loss='mse', metrics=['accuracy'])\n",
    "    return model \n",
    "\n",
    "model = build_model()\n",
    "\n",
    "model.summary()"
   ]
  },
  {
   "cell_type": "code",
   "execution_count": 10,
   "metadata": {},
   "outputs": [
    {
     "name": "stdout",
     "output_type": "stream",
     "text": [
      "Epoch 1/10\n",
      "28/28 [==============================] - 2s 44ms/step - loss: 0.2010 - accuracy: 0.6871\n",
      "Epoch 2/10\n",
      "28/28 [==============================] - 1s 37ms/step - loss: 0.0868 - accuracy: 0.9089\n",
      "Epoch 3/10\n",
      "28/28 [==============================] - 1s 43ms/step - loss: 0.0610 - accuracy: 0.9517\n",
      "Epoch 4/10\n",
      "28/28 [==============================] - 1s 50ms/step - loss: 0.0484 - accuracy: 0.9697\n",
      "Epoch 5/10\n",
      "28/28 [==============================] - 1s 33ms/step - loss: 0.0385 - accuracy: 0.9783\n",
      "Epoch 6/10\n",
      "28/28 [==============================] - 1s 52ms/step - loss: 0.0320 - accuracy: 0.9840\n",
      "Epoch 7/10\n",
      "28/28 [==============================] - 1s 36ms/step - loss: 0.0271 - accuracy: 0.9880\n",
      "Epoch 8/10\n",
      "28/28 [==============================] - 1s 31ms/step - loss: 0.0215 - accuracy: 0.9929\n",
      "Epoch 9/10\n",
      "28/28 [==============================] - 1s 38ms/step - loss: 0.0184 - accuracy: 0.9951\n",
      "Epoch 10/10\n",
      "28/28 [==============================] - 2s 59ms/step - loss: 0.0143 - accuracy: 0.9969\n"
     ]
    },
    {
     "data": {
      "text/plain": [
       "<keras.callbacks.History at 0x7fd34afb1180>"
      ]
     },
     "execution_count": 10,
     "metadata": {},
     "output_type": "execute_result"
    }
   ],
   "source": [
    "model.fit(train_data, train_targets, epochs=10, batch_size=128, verbose=1)"
   ]
  },
  {
   "cell_type": "code",
   "execution_count": 11,
   "metadata": {},
   "outputs": [
    {
     "name": "stdout",
     "output_type": "stream",
     "text": [
      "32/32 [==============================] - 1s 42ms/step - loss: 0.0363 - accuracy: 0.9500\n",
      "Test Loss: 0.03625244274735451, Test Accuracy: 0.9500499367713928\n"
     ]
    }
   ],
   "source": [
    "# Evaluate the model on test data\n",
    "test_loss, test_accuracy = model.evaluate(test_data, test_targets)\n",
    "print(f\"Test Loss: {test_loss}, Test Accuracy: {test_accuracy}\")\n"
   ]
  },
  {
   "cell_type": "code",
   "execution_count": 13,
   "metadata": {},
   "outputs": [
    {
     "name": "stdout",
     "output_type": "stream",
     "text": [
      "Processing fold # 0\n",
      "Processing fold # 1\n",
      "Processing fold # 2\n",
      "Processing fold # 3\n",
      "Processing fold # 4\n",
      "All Accuracy scores: [0.9557142853736877, 0.9571428298950195, 0.9257143139839172, 0.9385714530944824, 0.9557142853736877]\n",
      "Mean Accuracy: 0.946571433544159\n"
     ]
    }
   ],
   "source": [
    "# Cross-validation \n",
    "# codigo adaptado do codigo do stor\n",
    "\n",
    "k = 5\n",
    "num_val_samples = len(train_data) // k\n",
    "num_epochs = 10\n",
    "all_scores = []\n",
    "\n",
    "for i in range(k):\n",
    "    print('Processing fold #', i)\n",
    "    val_data = train_data[i * num_val_samples: (i + 1) * num_val_samples]\n",
    "    val_targets = train_targets[i * num_val_samples: (i + 1) * num_val_samples]\n",
    "    partial_train_data = np.concatenate([train_data[:i * num_val_samples], train_data[(i + 1) * num_val_samples:]], axis=0)\n",
    "    partial_train_targets = np.concatenate([train_targets[:i * num_val_samples], train_targets[(i + 1) * num_val_samples:]], axis=0)\n",
    "    \n",
    "    model = build_model()\n",
    "    model.fit(partial_train_data, partial_train_targets, epochs=num_epochs, batch_size=1, verbose=0)\n",
    "    val_loss, val_accuracy = model.evaluate(val_data, val_targets, verbose=0)\n",
    "    all_scores.append(val_accuracy)\n",
    "\n",
    "print(f\"All Accuracy scores: {all_scores}\")\n",
    "print(f\"Mean Accuracy: {np.mean(all_scores)}\")"
   ]
  },
  {
   "cell_type": "code",
   "execution_count": 15,
   "metadata": {},
   "outputs": [
    {
     "name": "stdout",
     "output_type": "stream",
     "text": [
      "Done reading validation data!\n",
      "16/16 [==============================] - 1s 52ms/step\n",
      "Validation Accuracy: 0.9559999704360962\n"
     ]
    }
   ],
   "source": [
    "# Load validation dataset\n",
    "val_data, val_targets = load_data('../../datasets/validationSmall.csv')\n",
    "print(\"Done reading validation data!\")\n",
    "\n",
    "# Get predictions\n",
    "val_predictions = model.predict(val_data)\n",
    "val_predictions = (val_predictions > 0.5).astype(int)  # Convert probabilities to binary predictions (0 or 1)\n",
    "\n",
    "# Save results with header\n",
    "output_data = np.column_stack((val_targets, val_predictions.flatten()))\n",
    "np.savetxt('validations_predictions_manual_nn.csv', output_data, delimiter=',', header=\"real,predicted\", comments='')\n",
    "\n",
    "# Print validation accuracy\n",
    "val_loss, val_accuracy = model.evaluate(val_data, val_targets, verbose=0)\n",
    "print(f\"Validation Accuracy: {val_accuracy}\")"
   ]
  },
  {
   "cell_type": "markdown",
   "metadata": {},
   "source": [
    "Testar varias configurações, codigo do stor adaptado\n"
   ]
  },
  {
   "cell_type": "code",
   "execution_count": 16,
   "metadata": {},
   "outputs": [],
   "source": [
    "from tensorflow.keras import Sequential\n",
    "\n",
    "def create_model(hidden_layers=[128, 64, 32], dropout_rate=0.3, activation='relu', optimizer='adam'):\n",
    "    model = Sequential()\n",
    "    model.add(layers.Dense(hidden_layers[0], activation=activation, input_shape=(train_data.shape[1],)))\n",
    "    \n",
    "    for units in hidden_layers[1:]:\n",
    "        model.add(layers.Dropout(dropout_rate))\n",
    "        model.add(layers.Dense(units, activation=activation))\n",
    "    \n",
    "    model.add(layers.Dense(1, activation='sigmoid'))  # Binary classification output layer\n",
    "    model.compile(optimizer=optimizer, loss='binary_crossentropy', metrics=['accuracy'])\n",
    "    return model"
   ]
  },
  {
   "cell_type": "code",
   "execution_count": 17,
   "metadata": {},
   "outputs": [
    {
     "name": "stdout",
     "output_type": "stream",
     "text": [
      "\n",
      "Testing topology: [128, 64, 32]\n",
      "Epoch 1/5\n",
      "28/28 [==============================] - 2s 54ms/step - loss: 0.4194 - accuracy: 0.8369 - val_loss: 0.1504 - val_accuracy: 0.9461\n",
      "Epoch 2/5\n",
      "28/28 [==============================] - 2s 65ms/step - loss: 0.0758 - accuracy: 0.9717 - val_loss: 0.1445 - val_accuracy: 0.9461\n",
      "Epoch 3/5\n",
      "28/28 [==============================] - 2s 69ms/step - loss: 0.0322 - accuracy: 0.9900 - val_loss: 0.1568 - val_accuracy: 0.9550\n",
      "Epoch 4/5\n",
      "28/28 [==============================] - 2s 62ms/step - loss: 0.0172 - accuracy: 0.9957 - val_loss: 0.1743 - val_accuracy: 0.9491\n",
      "Epoch 5/5\n",
      "28/28 [==============================] - 1s 32ms/step - loss: 0.0066 - accuracy: 0.9983 - val_loss: 0.1858 - val_accuracy: 0.9510\n",
      "32/32 [==============================] - 2s 49ms/step - loss: 0.1858 - accuracy: 0.9510\n",
      "Test Accuracy: 0.9510\n",
      "\n",
      "Testing topology: [256, 128, 64]\n",
      "Epoch 1/5\n",
      "28/28 [==============================] - 2s 68ms/step - loss: 0.3632 - accuracy: 0.8326 - val_loss: 0.1462 - val_accuracy: 0.9461\n",
      "Epoch 2/5\n",
      "28/28 [==============================] - 2s 65ms/step - loss: 0.0511 - accuracy: 0.9806 - val_loss: 0.1344 - val_accuracy: 0.9520\n",
      "Epoch 3/5\n",
      "28/28 [==============================] - 2s 69ms/step - loss: 0.0182 - accuracy: 0.9943 - val_loss: 0.1712 - val_accuracy: 0.9560\n",
      "Epoch 4/5\n",
      "28/28 [==============================] - 2s 56ms/step - loss: 0.0109 - accuracy: 0.9966 - val_loss: 0.1673 - val_accuracy: 0.9540\n",
      "Epoch 5/5\n",
      "28/28 [==============================] - 2s 68ms/step - loss: 0.0081 - accuracy: 0.9971 - val_loss: 0.1897 - val_accuracy: 0.9550\n",
      "32/32 [==============================] - 1s 21ms/step - loss: 0.1897 - accuracy: 0.9550\n",
      "Test Accuracy: 0.9550\n",
      "\n",
      "Testing topology: [512, 256, 128, 64]\n",
      "Epoch 1/5\n",
      "28/28 [==============================] - 3s 85ms/step - loss: 0.3323 - accuracy: 0.8643 - val_loss: 0.1325 - val_accuracy: 0.9451\n",
      "Epoch 2/5\n",
      "28/28 [==============================] - 2s 76ms/step - loss: 0.0565 - accuracy: 0.9806 - val_loss: 0.1448 - val_accuracy: 0.9530\n",
      "Epoch 3/5\n",
      "28/28 [==============================] - 2s 70ms/step - loss: 0.0195 - accuracy: 0.9929 - val_loss: 0.1919 - val_accuracy: 0.9500\n",
      "Epoch 4/5\n",
      "28/28 [==============================] - 2s 67ms/step - loss: 0.0085 - accuracy: 0.9971 - val_loss: 0.2446 - val_accuracy: 0.9500\n",
      "Epoch 5/5\n",
      "28/28 [==============================] - 2s 66ms/step - loss: 0.0074 - accuracy: 0.9974 - val_loss: 0.2502 - val_accuracy: 0.9510\n",
      "32/32 [==============================] - 0s 14ms/step - loss: 0.2502 - accuracy: 0.9510\n",
      "Test Accuracy: 0.9510\n",
      "\n",
      "Testing topology: [128, 64]\n",
      "Epoch 1/5\n",
      "28/28 [==============================] - 2s 49ms/step - loss: 0.3525 - accuracy: 0.8714 - val_loss: 0.1355 - val_accuracy: 0.9461\n",
      "Epoch 2/5\n",
      "28/28 [==============================] - 2s 76ms/step - loss: 0.0558 - accuracy: 0.9800 - val_loss: 0.1283 - val_accuracy: 0.9500\n",
      "Epoch 3/5\n",
      "28/28 [==============================] - 1s 53ms/step - loss: 0.0202 - accuracy: 0.9946 - val_loss: 0.1409 - val_accuracy: 0.9491\n",
      "Epoch 4/5\n",
      "28/28 [==============================] - 1s 43ms/step - loss: 0.0089 - accuracy: 0.9980 - val_loss: 0.1564 - val_accuracy: 0.9510\n",
      "Epoch 5/5\n",
      "28/28 [==============================] - 1s 29ms/step - loss: 0.0053 - accuracy: 0.9989 - val_loss: 0.1572 - val_accuracy: 0.9520\n",
      "32/32 [==============================] - 1s 44ms/step - loss: 0.1572 - accuracy: 0.9520\n",
      "Test Accuracy: 0.9520\n"
     ]
    }
   ],
   "source": [
    "# Experiment with different architectures\n",
    "topologies = [\n",
    "    [128, 64, 32],  # Baseline\n",
    "    [256, 128, 64],  # Deeper model\n",
    "    [512, 256, 128, 64],  # Very deep model\n",
    "    [128, 64],  # Simpler model\n",
    "]\n",
    "\n",
    "for topology in topologies:\n",
    "    print(f\"\\nTesting topology: {topology}\")\n",
    "    model = create_model(hidden_layers=topology)\n",
    "    model.fit(train_data, train_targets, epochs=5, batch_size=128, validation_data=(test_data, test_targets), verbose=1)\n",
    "    test_loss, test_acc = model.evaluate(test_data, test_targets)\n",
    "    print(f\"Test Accuracy: {test_acc:.4f}\")"
   ]
  },
  {
   "cell_type": "code",
   "execution_count": 19,
   "metadata": {},
   "outputs": [
    {
     "name": "stdout",
     "output_type": "stream",
     "text": [
      "\n",
      "Testing optimizer: adam\n",
      "Epoch 1/10\n",
      "55/55 [==============================] - 4s 61ms/step - loss: 0.3265 - accuracy: 0.8586 - val_loss: 0.1398 - val_accuracy: 0.9401\n",
      "Epoch 2/10\n",
      "55/55 [==============================] - 5s 86ms/step - loss: 0.0704 - accuracy: 0.9757 - val_loss: 0.1371 - val_accuracy: 0.9471\n",
      "Epoch 3/10\n",
      "55/55 [==============================] - 5s 86ms/step - loss: 0.0275 - accuracy: 0.9926 - val_loss: 0.1712 - val_accuracy: 0.9491\n",
      "Epoch 4/10\n",
      "55/55 [==============================] - 4s 68ms/step - loss: 0.0150 - accuracy: 0.9963 - val_loss: 0.1798 - val_accuracy: 0.9580\n",
      "Epoch 5/10\n",
      "55/55 [==============================] - 4s 78ms/step - loss: 0.0080 - accuracy: 0.9969 - val_loss: 0.2403 - val_accuracy: 0.9540\n",
      "Epoch 6/10\n",
      "55/55 [==============================] - 4s 68ms/step - loss: 0.0111 - accuracy: 0.9974 - val_loss: 0.1955 - val_accuracy: 0.9491\n",
      "Epoch 7/10\n",
      "55/55 [==============================] - 3s 58ms/step - loss: 0.0092 - accuracy: 0.9971 - val_loss: 0.2262 - val_accuracy: 0.9461\n",
      "Epoch 8/10\n",
      "55/55 [==============================] - 3s 62ms/step - loss: 0.0142 - accuracy: 0.9963 - val_loss: 0.2290 - val_accuracy: 0.9481\n",
      "Epoch 9/10\n",
      "55/55 [==============================] - 4s 77ms/step - loss: 0.0109 - accuracy: 0.9971 - val_loss: 0.1717 - val_accuracy: 0.9560\n",
      "Epoch 10/10\n",
      "55/55 [==============================] - 4s 77ms/step - loss: 0.0084 - accuracy: 0.9977 - val_loss: 0.1961 - val_accuracy: 0.9520\n",
      "32/32 [==============================] - 2s 50ms/step - loss: 0.1961 - accuracy: 0.9520\n",
      "Test Accuracy with adam: 0.9520\n",
      "\n",
      "Testing optimizer: sgd\n",
      "Epoch 1/10\n",
      "55/55 [==============================] - 3s 45ms/step - loss: 0.6903 - accuracy: 0.5329 - val_loss: 0.6832 - val_accuracy: 0.5934\n",
      "Epoch 2/10\n",
      "55/55 [==============================] - 3s 58ms/step - loss: 0.6778 - accuracy: 0.5883 - val_loss: 0.6660 - val_accuracy: 0.5784\n",
      "Epoch 3/10\n",
      "55/55 [==============================] - 1s 17ms/step - loss: 0.6571 - accuracy: 0.6100 - val_loss: 0.6372 - val_accuracy: 0.6364\n",
      "Epoch 4/10\n",
      "55/55 [==============================] - 4s 78ms/step - loss: 0.6244 - accuracy: 0.6840 - val_loss: 0.5888 - val_accuracy: 0.7852\n",
      "Epoch 5/10\n",
      "55/55 [==============================] - 3s 58ms/step - loss: 0.5723 - accuracy: 0.7926 - val_loss: 0.5194 - val_accuracy: 0.8681\n",
      "Epoch 6/10\n",
      "55/55 [==============================] - 3s 64ms/step - loss: 0.5092 - accuracy: 0.8449 - val_loss: 0.4364 - val_accuracy: 0.9011\n",
      "Epoch 7/10\n",
      "55/55 [==============================] - 5s 83ms/step - loss: 0.4276 - accuracy: 0.8834 - val_loss: 0.3532 - val_accuracy: 0.9171\n",
      "Epoch 8/10\n",
      "55/55 [==============================] - 3s 51ms/step - loss: 0.3579 - accuracy: 0.9003 - val_loss: 0.2837 - val_accuracy: 0.9211\n",
      "Epoch 9/10\n",
      "55/55 [==============================] - 3s 63ms/step - loss: 0.3019 - accuracy: 0.9069 - val_loss: 0.2351 - val_accuracy: 0.9271\n",
      "Epoch 10/10\n",
      "55/55 [==============================] - 3s 56ms/step - loss: 0.2534 - accuracy: 0.9203 - val_loss: 0.2029 - val_accuracy: 0.9271\n",
      "32/32 [==============================] - 2s 56ms/step - loss: 0.2029 - accuracy: 0.9271\n",
      "Test Accuracy with sgd: 0.9271\n",
      "\n",
      "Testing optimizer: rmsprop\n",
      "Epoch 1/10\n",
      "55/55 [==============================] - 6s 96ms/step - loss: 0.3014 - accuracy: 0.8774 - val_loss: 0.1400 - val_accuracy: 0.9411\n",
      "Epoch 2/10\n",
      "55/55 [==============================] - 4s 71ms/step - loss: 0.0702 - accuracy: 0.9760 - val_loss: 0.1351 - val_accuracy: 0.9590\n",
      "Epoch 3/10\n",
      "55/55 [==============================] - 4s 66ms/step - loss: 0.0285 - accuracy: 0.9900 - val_loss: 0.1591 - val_accuracy: 0.9550\n",
      "Epoch 4/10\n",
      "55/55 [==============================] - 4s 74ms/step - loss: 0.0151 - accuracy: 0.9954 - val_loss: 0.2269 - val_accuracy: 0.9530\n",
      "Epoch 5/10\n",
      "55/55 [==============================] - 3s 49ms/step - loss: 0.0079 - accuracy: 0.9977 - val_loss: 0.1920 - val_accuracy: 0.9520\n",
      "Epoch 6/10\n",
      "55/55 [==============================] - 4s 72ms/step - loss: 0.0043 - accuracy: 0.9991 - val_loss: 0.2239 - val_accuracy: 0.9550\n",
      "Epoch 7/10\n",
      "55/55 [==============================] - 4s 72ms/step - loss: 0.0022 - accuracy: 0.9994 - val_loss: 0.2277 - val_accuracy: 0.9580\n",
      "Epoch 8/10\n",
      "55/55 [==============================] - 5s 84ms/step - loss: 0.0032 - accuracy: 0.9989 - val_loss: 0.2433 - val_accuracy: 0.9580\n",
      "Epoch 9/10\n",
      "55/55 [==============================] - 3s 62ms/step - loss: 0.0044 - accuracy: 0.9989 - val_loss: 0.2596 - val_accuracy: 0.9610\n",
      "Epoch 10/10\n",
      "55/55 [==============================] - 3s 58ms/step - loss: 7.5196e-04 - accuracy: 0.9997 - val_loss: 0.2762 - val_accuracy: 0.9640\n",
      "32/32 [==============================] - 2s 55ms/step - loss: 0.2762 - accuracy: 0.9640\n",
      "Test Accuracy with rmsprop: 0.9640\n"
     ]
    }
   ],
   "source": [
    "optimizers = ['adam', 'sgd', 'rmsprop']\n",
    "for opt in optimizers:\n",
    "    print(f\"\\nTesting optimizer: {opt}\")\n",
    "    model = create_model(optimizer=opt)\n",
    "    model.fit(train_data, train_targets, epochs=10, batch_size=64, validation_data=(test_data, test_targets), verbose=1)\n",
    "    test_loss, test_acc = model.evaluate(test_data, test_targets)\n",
    "    print(f\"Test Accuracy with {opt}: {test_acc:.4f}\")"
   ]
  },
  {
   "cell_type": "code",
   "execution_count": 20,
   "metadata": {},
   "outputs": [
    {
     "name": "stdout",
     "output_type": "stream",
     "text": [
      "\n",
      "Testing batch_size=16, epochs=2\n",
      "Epoch 1/2\n",
      "219/219 [==============================] - 23s 101ms/step - loss: 0.2424 - accuracy: 0.9029 - val_loss: 0.1191 - val_accuracy: 0.9431\n",
      "Epoch 2/2\n",
      "219/219 [==============================] - 19s 89ms/step - loss: 0.0585 - accuracy: 0.9786 - val_loss: 0.1405 - val_accuracy: 0.9500\n",
      "32/32 [==============================] - 1s 47ms/step - loss: 0.1405 - accuracy: 0.9500\n",
      "Test Accuracy: 0.9500\n",
      "\n",
      "Testing batch_size=16, epochs=5\n",
      "Epoch 1/5\n",
      "219/219 [==============================] - 20s 91ms/step - loss: 0.2322 - accuracy: 0.9089 - val_loss: 0.1227 - val_accuracy: 0.9520\n",
      "Epoch 2/5\n",
      "219/219 [==============================] - 20s 94ms/step - loss: 0.0583 - accuracy: 0.9780 - val_loss: 0.1417 - val_accuracy: 0.9481\n",
      "Epoch 3/5\n",
      "219/219 [==============================] - 25s 113ms/step - loss: 0.0311 - accuracy: 0.9886 - val_loss: 0.1904 - val_accuracy: 0.9441\n",
      "Epoch 4/5\n",
      "219/219 [==============================] - 25s 116ms/step - loss: 0.0266 - accuracy: 0.9923 - val_loss: 0.1940 - val_accuracy: 0.9451\n",
      "Epoch 5/5\n",
      "219/219 [==============================] - 26s 118ms/step - loss: 0.0151 - accuracy: 0.9937 - val_loss: 0.1977 - val_accuracy: 0.9530\n",
      "32/32 [==============================] - 2s 56ms/step - loss: 0.1977 - accuracy: 0.9530\n",
      "Test Accuracy: 0.9530\n",
      "\n",
      "Testing batch_size=16, epochs=10\n",
      "Epoch 1/10\n",
      "219/219 [==============================] - 23s 102ms/step - loss: 0.2441 - accuracy: 0.8989 - val_loss: 0.1322 - val_accuracy: 0.9451\n",
      "Epoch 2/10\n",
      "219/219 [==============================] - 20s 93ms/step - loss: 0.0544 - accuracy: 0.9780 - val_loss: 0.1498 - val_accuracy: 0.9451\n",
      "Epoch 3/10\n",
      "219/219 [==============================] - 26s 117ms/step - loss: 0.0264 - accuracy: 0.9897 - val_loss: 0.1750 - val_accuracy: 0.9491\n",
      "Epoch 4/10\n",
      "219/219 [==============================] - 22s 103ms/step - loss: 0.0188 - accuracy: 0.9931 - val_loss: 0.1562 - val_accuracy: 0.9491\n",
      "Epoch 5/10\n",
      "219/219 [==============================] - 24s 109ms/step - loss: 0.0158 - accuracy: 0.9951 - val_loss: 0.1796 - val_accuracy: 0.9451\n",
      "Epoch 6/10\n",
      "219/219 [==============================] - 24s 110ms/step - loss: 0.0125 - accuracy: 0.9969 - val_loss: 0.2501 - val_accuracy: 0.9491\n",
      "Epoch 7/10\n",
      "219/219 [==============================] - 24s 109ms/step - loss: 0.0108 - accuracy: 0.9963 - val_loss: 0.2162 - val_accuracy: 0.9530\n",
      "Epoch 8/10\n",
      "219/219 [==============================] - 25s 115ms/step - loss: 0.0082 - accuracy: 0.9969 - val_loss: 0.2325 - val_accuracy: 0.9570\n",
      "Epoch 9/10\n",
      "219/219 [==============================] - 23s 106ms/step - loss: 0.0025 - accuracy: 0.9991 - val_loss: 0.2908 - val_accuracy: 0.9421\n",
      "Epoch 10/10\n",
      "219/219 [==============================] - 22s 101ms/step - loss: 0.0090 - accuracy: 0.9980 - val_loss: 0.2158 - val_accuracy: 0.9560\n",
      "32/32 [==============================] - 1s 36ms/step - loss: 0.2158 - accuracy: 0.9560\n",
      "Test Accuracy: 0.9560\n",
      "\n",
      "Testing batch_size=32, epochs=2\n",
      "Epoch 1/2\n",
      "110/110 [==============================] - 12s 108ms/step - loss: 0.2663 - accuracy: 0.8937 - val_loss: 0.1321 - val_accuracy: 0.9540\n",
      "Epoch 2/2\n",
      "110/110 [==============================] - 14s 124ms/step - loss: 0.0594 - accuracy: 0.9803 - val_loss: 0.1510 - val_accuracy: 0.9491\n",
      "32/32 [==============================] - 2s 60ms/step - loss: 0.1510 - accuracy: 0.9491\n",
      "Test Accuracy: 0.9491\n",
      "\n",
      "Testing batch_size=32, epochs=5\n",
      "Epoch 1/5\n",
      "110/110 [==============================] - 12s 103ms/step - loss: 0.2666 - accuracy: 0.9077 - val_loss: 0.1251 - val_accuracy: 0.9461\n",
      "Epoch 2/5\n",
      "110/110 [==============================] - 12s 107ms/step - loss: 0.0528 - accuracy: 0.9823 - val_loss: 0.1590 - val_accuracy: 0.9491\n",
      "Epoch 3/5\n",
      "110/110 [==============================] - 14s 124ms/step - loss: 0.0292 - accuracy: 0.9917 - val_loss: 0.1474 - val_accuracy: 0.9520\n",
      "Epoch 4/5\n",
      "110/110 [==============================] - 13s 121ms/step - loss: 0.0169 - accuracy: 0.9934 - val_loss: 0.1677 - val_accuracy: 0.9560\n",
      "Epoch 5/5\n",
      "110/110 [==============================] - 11s 100ms/step - loss: 0.0139 - accuracy: 0.9966 - val_loss: 0.1821 - val_accuracy: 0.9500\n",
      "32/32 [==============================] - 2s 72ms/step - loss: 0.1821 - accuracy: 0.9500\n",
      "Test Accuracy: 0.9500\n",
      "\n",
      "Testing batch_size=32, epochs=10\n",
      "Epoch 1/10\n",
      "110/110 [==============================] - 12s 108ms/step - loss: 0.2879 - accuracy: 0.8934 - val_loss: 0.1231 - val_accuracy: 0.9500\n",
      "Epoch 2/10\n",
      "110/110 [==============================] - 10s 91ms/step - loss: 0.0547 - accuracy: 0.9791 - val_loss: 0.1502 - val_accuracy: 0.9580\n",
      "Epoch 3/10\n",
      "110/110 [==============================] - 13s 115ms/step - loss: 0.0310 - accuracy: 0.9897 - val_loss: 0.2055 - val_accuracy: 0.9451\n",
      "Epoch 4/10\n",
      "110/110 [==============================] - 9s 82ms/step - loss: 0.0244 - accuracy: 0.9926 - val_loss: 0.1844 - val_accuracy: 0.9570\n",
      "Epoch 5/10\n",
      "110/110 [==============================] - 12s 113ms/step - loss: 0.0082 - accuracy: 0.9977 - val_loss: 0.2033 - val_accuracy: 0.9540\n",
      "Epoch 6/10\n",
      "110/110 [==============================] - 9s 84ms/step - loss: 0.0061 - accuracy: 0.9983 - val_loss: 0.2131 - val_accuracy: 0.9570\n",
      "Epoch 7/10\n",
      "110/110 [==============================] - 13s 116ms/step - loss: 0.0095 - accuracy: 0.9974 - val_loss: 0.2757 - val_accuracy: 0.9471\n",
      "Epoch 8/10\n",
      "110/110 [==============================] - 13s 118ms/step - loss: 0.0060 - accuracy: 0.9986 - val_loss: 0.2093 - val_accuracy: 0.9520\n",
      "Epoch 9/10\n",
      "110/110 [==============================] - 11s 100ms/step - loss: 0.0059 - accuracy: 0.9986 - val_loss: 0.2930 - val_accuracy: 0.9500\n",
      "Epoch 10/10\n",
      "110/110 [==============================] - 11s 100ms/step - loss: 0.0117 - accuracy: 0.9980 - val_loss: 0.2194 - val_accuracy: 0.9540\n",
      "32/32 [==============================] - 2s 51ms/step - loss: 0.2194 - accuracy: 0.9540\n",
      "Test Accuracy: 0.9540\n",
      "\n",
      "Testing batch_size=128, epochs=2\n",
      "Epoch 1/2\n",
      "28/28 [==============================] - 2s 59ms/step - loss: 0.4046 - accuracy: 0.8551 - val_loss: 0.1472 - val_accuracy: 0.9411\n",
      "Epoch 2/2\n",
      "28/28 [==============================] - 1s 43ms/step - loss: 0.0861 - accuracy: 0.9686 - val_loss: 0.1371 - val_accuracy: 0.9530\n",
      "32/32 [==============================] - 1s 45ms/step - loss: 0.1371 - accuracy: 0.9530\n",
      "Test Accuracy: 0.9530\n",
      "\n",
      "Testing batch_size=128, epochs=5\n",
      "Epoch 1/5\n",
      "28/28 [==============================] - 2s 44ms/step - loss: 0.4207 - accuracy: 0.8257 - val_loss: 0.1429 - val_accuracy: 0.9401\n",
      "Epoch 2/5\n",
      "28/28 [==============================] - 2s 59ms/step - loss: 0.0937 - accuracy: 0.9694 - val_loss: 0.1379 - val_accuracy: 0.9580\n",
      "Epoch 3/5\n",
      "28/28 [==============================] - 2s 58ms/step - loss: 0.0295 - accuracy: 0.9914 - val_loss: 0.1352 - val_accuracy: 0.9481\n",
      "Epoch 4/5\n",
      "28/28 [==============================] - 2s 55ms/step - loss: 0.0144 - accuracy: 0.9966 - val_loss: 0.1511 - val_accuracy: 0.9560\n",
      "Epoch 5/5\n",
      "28/28 [==============================] - 2s 63ms/step - loss: 0.0086 - accuracy: 0.9983 - val_loss: 0.1751 - val_accuracy: 0.9530\n",
      "32/32 [==============================] - 2s 55ms/step - loss: 0.1751 - accuracy: 0.9530\n",
      "Test Accuracy: 0.9530\n",
      "\n",
      "Testing batch_size=128, epochs=10\n",
      "Epoch 1/10\n",
      "28/28 [==============================] - 2s 73ms/step - loss: 0.4529 - accuracy: 0.8277 - val_loss: 0.1584 - val_accuracy: 0.9441\n",
      "Epoch 2/10\n",
      "28/28 [==============================] - 1s 53ms/step - loss: 0.0953 - accuracy: 0.9674 - val_loss: 0.1382 - val_accuracy: 0.9481\n",
      "Epoch 3/10\n",
      "28/28 [==============================] - 2s 59ms/step - loss: 0.0333 - accuracy: 0.9883 - val_loss: 0.1701 - val_accuracy: 0.9500\n",
      "Epoch 4/10\n",
      "28/28 [==============================] - 1s 41ms/step - loss: 0.0143 - accuracy: 0.9954 - val_loss: 0.2040 - val_accuracy: 0.9471\n",
      "Epoch 5/10\n",
      "28/28 [==============================] - 2s 61ms/step - loss: 0.0095 - accuracy: 0.9971 - val_loss: 0.2341 - val_accuracy: 0.9491\n",
      "Epoch 6/10\n",
      "28/28 [==============================] - 2s 55ms/step - loss: 0.0096 - accuracy: 0.9977 - val_loss: 0.2143 - val_accuracy: 0.9500\n",
      "Epoch 7/10\n",
      "28/28 [==============================] - 2s 60ms/step - loss: 0.0084 - accuracy: 0.9971 - val_loss: 0.2253 - val_accuracy: 0.9510\n",
      "Epoch 8/10\n",
      "28/28 [==============================] - 1s 47ms/step - loss: 0.0047 - accuracy: 0.9989 - val_loss: 0.2154 - val_accuracy: 0.9520\n",
      "Epoch 9/10\n",
      "28/28 [==============================] - 2s 60ms/step - loss: 0.0028 - accuracy: 0.9994 - val_loss: 0.2541 - val_accuracy: 0.9510\n",
      "Epoch 10/10\n",
      "28/28 [==============================] - 1s 45ms/step - loss: 0.0050 - accuracy: 0.9986 - val_loss: 0.2551 - val_accuracy: 0.9520\n",
      "32/32 [==============================] - 2s 65ms/step - loss: 0.2551 - accuracy: 0.9520\n",
      "Test Accuracy: 0.9520\n"
     ]
    }
   ],
   "source": [
    "batch_sizes = [16, 32, 128]\n",
    "epochs_list = [2, 5, 10]\n",
    "\n",
    "for batch in batch_sizes:\n",
    "    for epochs in epochs_list:\n",
    "        print(f\"\\nTesting batch_size={batch}, epochs={epochs}\")\n",
    "        model = create_model()\n",
    "        model.fit(train_data, train_targets, epochs=epochs, batch_size=batch, validation_data=(test_data, test_targets), verbose=1)\n",
    "        test_loss, test_acc = model.evaluate(test_data, test_targets)\n",
    "        print(f\"Test Accuracy: {test_acc:.4f}\")"
   ]
  }
 ],
 "metadata": {
  "kernelspec": {
   "display_name": "env",
   "language": "python",
   "name": "python3"
  },
  "language_info": {
   "codemirror_mode": {
    "name": "ipython",
    "version": 3
   },
   "file_extension": ".py",
   "mimetype": "text/x-python",
   "name": "python",
   "nbconvert_exporter": "python",
   "pygments_lexer": "ipython3",
   "version": "3.10.13"
  }
 },
 "nbformat": 4,
 "nbformat_minor": 2
}

{
 "cells": [
  {
   "cell_type": "markdown",
   "metadata": {},
   "source": [
    "# Gerar a output para o professor"
   ]
  },
  {
   "cell_type": "code",
   "execution_count": 6,
   "metadata": {},
   "outputs": [],
   "source": [
    "import sys\n",
    "import os\n",
    "\n",
    "# Get the absolute path to the nn_manual folder\n",
    "project_root = os.path.abspath(os.path.join(os.getcwd(), \"..\"))\n",
    "nn_manual_path = os.path.join(project_root, \"code\", \"nn_manual\")\n",
    "\n",
    "# Add nn_manual to sys.path\n",
    "sys.path.append(nn_manual_path)\n",
    "\n",
    "from data import read_csv\n",
    "from neuralnet import NeuralNetwork"
   ]
  },
  {
   "cell_type": "code",
   "execution_count": 7,
   "metadata": {},
   "outputs": [],
   "source": [
    "import numpy as np\n",
    "import os\n",
    "import random\n",
    "\n",
    "def set_seed(seed: int):\n",
    "    random.seed(seed) # Python\n",
    "    np.random.seed(seed)  # Numpy, é o gerador utilizado pelo sklearn\n",
    "    os.environ[\"PYTHONHASHSEED\"] = str(seed)  # sistema operativo\n",
    "set_seed(25)"
   ]
  },
  {
   "cell_type": "code",
   "execution_count": 8,
   "metadata": {},
   "outputs": [],
   "source": [
    "# Load ao dataset ( já no formato bag of words 10k)\n",
    "dataset_stor = read_csv('dataset2_inputs_proc.csv', sep=',', features=True, label=False)"
   ]
  },
  {
   "cell_type": "code",
   "execution_count": null,
   "metadata": {},
   "outputs": [],
   "source": [
    "# Load do modelo\n",
    "import pickle\n",
    "\n",
    "# Load the trained model\n",
    "# Modelo treinado no ficheiro \"model1.py\"\n",
    "with open('trained_model1.pkl', 'rb') as f:\n",
    "    net = pickle.load(f)\n"
   ]
  },
  {
   "cell_type": "code",
   "execution_count": 10,
   "metadata": {},
   "outputs": [],
   "source": [
    "binary_conv = {0: \"Human\", 1: \"AI\"}\n",
    "\n",
    "# Get predictions\n",
    "out = net.predict(dataset_stor, binary=True)\n",
    "\n",
    "# Convert numerical predictions to labels\n",
    "out_labels = np.vectorize(binary_conv.get)(out)\n",
    "\n",
    "# Create row IDs (D1-1, D1-2, ..., D1-N)\n",
    "num_samples = len(out_labels)\n",
    "ids = [f\"D2-{i+1}\" for i in range(num_samples)]\n",
    "\n",
    "# Stack IDs and labels into a single 2D array\n",
    "output_array = np.column_stack((ids, out_labels))\n",
    "\n",
    "# Save to file with header\n",
    "np.savetxt('submissao1-grupo1.csv', output_array, delimiter='\\t', fmt='%s', header=\"ID\\tLabel\", comments='')"
   ]
  }
 ],
 "metadata": {
  "kernelspec": {
   "display_name": "Python 3",
   "language": "python",
   "name": "python3"
  },
  "language_info": {
   "codemirror_mode": {
    "name": "ipython",
    "version": 3
   },
   "file_extension": ".py",
   "mimetype": "text/x-python",
   "name": "python",
   "nbconvert_exporter": "python",
   "pygments_lexer": "ipython3",
   "version": "3.11.5"
  }
 },
 "nbformat": 4,
 "nbformat_minor": 2
}

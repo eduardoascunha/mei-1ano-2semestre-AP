{
 "cells": [
  {
   "cell_type": "code",
   "execution_count": 1,
   "id": "22d4d96c-e253-458b-bd8a-91fef87dd706",
   "metadata": {},
   "outputs": [],
   "source": [
    "import os\n",
    "import shutil\n",
    "from pathlib import Path\n",
    "import numpy as np\n",
    "import random\n",
    "\n",
    "np.random.seed(0) \n",
    "random.seed(0)\n"
   ]
  },
  {
   "cell_type": "code",
   "execution_count": 10,
   "id": "8b8edb5d-0622-479c-9f9a-03c9097606fb",
   "metadata": {},
   "outputs": [],
   "source": [
    "import yaml\n",
    "import shutil\n",
    "import json\n",
    "import numpy as np\n",
    "from pathlib import Path\n",
    "\n",
    "try:\n",
    "    import torch\n",
    "    from ultralytics import YOLO\n",
    "    torch_available = True\n",
    "except ImportError:\n",
    "    print(\"PyTorch/YOLO não disponível - apenas processamento de dataset\")\n",
    "    torch_available = False\n",
    "\n",
    "try:\n",
    "    import cv2\n",
    "    cv2_available = True\n",
    "except ImportError:\n",
    "    cv2_available = False\n",
    "\n",
    "try:\n",
    "    from PIL import Image\n",
    "    pil_available = True\n",
    "except ImportError:\n",
    "    print(\"PIL não disponível\")\n",
    "    pil_available = False\n",
    "\n",
    "try:\n",
    "    import mediapipe as mp\n",
    "    mediapipe_available = True\n",
    "except ImportError:\n",
    "    print(\"MediaPipe não disponível\")\n",
    "    mediapipe_available = False\n",
    "\n",
    "class SurgicalHandsIntegrator:\n",
    "    def __init__(self, hands_dataset_path):\n",
    "        \"\"\"\n",
    "        Integrador para dataset de mãos cirúrgicas com anotações JSON\n",
    "        \n",
    "        Args:\n",
    "            hands_dataset_path: Caminho para o dataset surgical_hands_realise\n",
    "        \"\"\"\n",
    "        self.hands_dataset_path = Path(hands_dataset_path)\n",
    "        self.images_dir = self.hands_dataset_path / \"images\"\n",
    "        self.annotations_file = self.hands_dataset_path / \"annotations.json\"\n",
    "        \n",
    "        # Backup: MediaPipe para casos sem anotações\n",
    "        if mediapipe_available:\n",
    "            self.mp_hands = mp.solutions.hands\n",
    "            self.hands = self.mp_hands.Hands(\n",
    "                static_image_mode=True,\n",
    "                max_num_hands=4,\n",
    "                min_detection_confidence=0.5,\n",
    "                min_tracking_confidence=0.5\n",
    "            )\n",
    "            self.mediapipe_available = True\n",
    "        else:\n",
    "            self.mediapipe_available = False\n",
    "            print(\"MediaPipe não disponível - usando apenas anotações JSON\")\n",
    "\n",
    "    def find_all_images(self):\n",
    "        \"\"\"Encontra todas as imagens em todas as subpastas\"\"\"\n",
    "        image_extensions = ['*.jpg', '*.jpeg', '*.png', '*.bmp', '*.tiff']\n",
    "        all_images = []\n",
    "        \n",
    "        print(f\"Procurando imagens em: {self.images_dir}\")\n",
    "        \n",
    "        for subfolder in self.images_dir.iterdir():\n",
    "            if subfolder.is_dir():\n",
    "                print(f\"Verificando pasta: {subfolder.name}\")\n",
    "                folder_images = []\n",
    "                \n",
    "                for ext in image_extensions:\n",
    "                    folder_images.extend(list(subfolder.glob(ext)))\n",
    "                    folder_images.extend(list(subfolder.glob(ext.upper())))\n",
    "                \n",
    "                print(f\"  Encontradas {len(folder_images)} imagens\")\n",
    "                all_images.extend(folder_images)\n",
    "        \n",
    "        print(f\"Total de imagens encontradas: {len(all_images)}\")\n",
    "        return all_images\n",
    "\n",
    "    def load_hand_annotations(self):\n",
    "        \"\"\"Carrega e analisa anotações JSON\"\"\"\n",
    "        try:\n",
    "            print(f\"Carregando anotações de: {self.annotations_file}\")\n",
    "            with open(self.annotations_file, 'r', encoding='utf-8') as f:\n",
    "                annotations = json.load(f)\n",
    "            \n",
    "            print(f\"✅ Anotações carregadas com sucesso\")\n",
    "            print(f\"Tipo de dados: {type(annotations)}\")\n",
    "            \n",
    "            # Analisar estrutura das anotações\n",
    "            if isinstance(annotations, dict):\n",
    "                print(f\"Chaves disponíveis: {list(annotations.keys())}\")\n",
    "                if 'images' in annotations:\n",
    "                    print(f\"Número de imagens anotadas: {len(annotations['images'])}\")\n",
    "                if 'annotations' in annotations:\n",
    "                    print(f\"Número de anotações: {len(annotations['annotations'])}\")\n",
    "            elif isinstance(annotations, list):\n",
    "                print(f\"Lista com {len(annotations)} elementos\")\n",
    "                if annotations:\n",
    "                    print(f\"Exemplo de elemento: {list(annotations[0].keys()) if isinstance(annotations[0], dict) else type(annotations[0])}\")\n",
    "            \n",
    "            return annotations\n",
    "        except Exception as e:\n",
    "            print(f\"❌ Erro ao carregar anotações: {e}\")\n",
    "            return None\n",
    "\n",
    "    def create_annotation_mapping(self, annotations):\n",
    "        \"\"\"Cria mapeamento eficiente das anotações JSON\"\"\"\n",
    "        annotation_map = {}\n",
    "        \n",
    "        if isinstance(annotations, dict):\n",
    "            if 'images' in annotations and 'annotations' in annotations:\n",
    "                # Formato COCO\n",
    "                print(\"📋 Detectado formato COCO\")\n",
    "                image_map = {img['id']: img['file_name'] for img in annotations['images']}\n",
    "                \n",
    "                for ann in annotations['annotations']:\n",
    "                    image_id = ann['image_id']\n",
    "                    if image_id in image_map:\n",
    "                        filename = image_map[image_id]\n",
    "                        if filename not in annotation_map:\n",
    "                            annotation_map[filename] = []\n",
    "                        annotation_map[filename].append(ann)\n",
    "            else:\n",
    "                # Formato direto\n",
    "                print(\"📋 Detectado formato direto\")\n",
    "                annotation_map = annotations\n",
    "        elif isinstance(annotations, list):\n",
    "            # Lista de anotações\n",
    "            print(\"📋 Detectado formato de lista\")\n",
    "            for ann in annotations:\n",
    "                if isinstance(ann, dict):\n",
    "                    filename = ann.get('filename', ann.get('file_name', ann.get('image_name', '')))\n",
    "                    if filename:\n",
    "                        annotation_map[filename] = ann\n",
    "        \n",
    "        print(f\"📋 Mapeamento criado para {len(annotation_map)} imagens\")\n",
    "        return annotation_map\n",
    "\n",
    "    def convert_json_to_yolo(self, annotation, image_width, image_height):\n",
    "        \"\"\"\n",
    "        Converte anotação JSON para formato YOLO\n",
    "        \"\"\"\n",
    "        yolo_annotations = []\n",
    "        \n",
    "        # Se a anotação for uma lista de objetos\n",
    "        if isinstance(annotation, list):\n",
    "            objects = annotation\n",
    "        elif isinstance(annotation, dict):\n",
    "            if 'annotations' in annotation:\n",
    "                objects = annotation['annotations']\n",
    "            elif 'bbox' in annotation or 'x' in annotation:\n",
    "                objects = [annotation]\n",
    "            else:\n",
    "                objects = []\n",
    "        else:\n",
    "            objects = []\n",
    "        \n",
    "        for obj in objects:\n",
    "            try:\n",
    "                # Extrair informações da anotação\n",
    "                if 'bbox' in obj:\n",
    "                    bbox = obj['bbox']\n",
    "                    if len(bbox) >= 4:\n",
    "                        x, y, w, h = bbox[:4]\n",
    "                    else:\n",
    "                        continue\n",
    "                elif 'x' in obj and 'y' in obj:\n",
    "                    x, y = obj['x'], obj['y']\n",
    "                    w, h = obj.get('width', obj.get('w', 50)), obj.get('height', obj.get('h', 50))\n",
    "                else:\n",
    "                    continue\n",
    "                \n",
    "                # Determinar classe da mão\n",
    "                category = str(obj.get('category_name', obj.get('label', obj.get('class', obj.get('name', '')))))\n",
    "                \n",
    "                if any(word in category.lower() for word in ['left', 'esquerda', 'l_hand']):\n",
    "                    class_id = 4  # left_hand\n",
    "                elif any(word in category.lower() for word in ['right', 'direita', 'r_hand']):\n",
    "                    class_id = 5  # right_hand\n",
    "                elif 'hand' in category.lower() or 'mao' in category.lower():\n",
    "                    # Se não especificado, usar heurística baseada na posição\n",
    "                    class_id = 4 if (x + w/2) < image_width / 2 else 5\n",
    "                else:\n",
    "                    # Se não é claramente uma mão, pular\n",
    "                    continue\n",
    "                \n",
    "                # Converter para formato YOLO (normalizado)\n",
    "                x_center = (x + w / 2) / image_width\n",
    "                y_center = (y + h / 2) / image_height\n",
    "                width_norm = w / image_width\n",
    "                height_norm = h / image_height\n",
    "                \n",
    "                # Validar coordenadas\n",
    "                if 0 <= x_center <= 1 and 0 <= y_center <= 1 and 0 < width_norm <= 1 and 0 < height_norm <= 1:\n",
    "                    yolo_annotations.append([class_id, x_center, y_center, width_norm, height_norm])\n",
    "                \n",
    "            except Exception as e:\n",
    "                print(f\"⚠️ Erro ao processar anotação: {e}\")\n",
    "                continue\n",
    "        \n",
    "        return yolo_annotations\n",
    "\n",
    "    def create_hand_detection_mediapipe(self, image_path):\n",
    "        \"\"\"Cria detecção de mão usando MediaPipe como fallback\"\"\"\n",
    "        if not self.mediapipe_available or not pil_available:\n",
    "            return []\n",
    "        \n",
    "        try:\n",
    "            # Carregar imagem\n",
    "            pil_image = Image.open(image_path).convert('RGB')\n",
    "            image_array = np.array(pil_image)\n",
    "            \n",
    "            # Processar com MediaPipe\n",
    "            results = self.hands.process(image_array)\n",
    "            \n",
    "            hand_detections = []\n",
    "            if results.multi_hand_landmarks:\n",
    "                h, w = image_array.shape[:2]\n",
    "                \n",
    "                for idx, hand_landmarks in enumerate(results.multi_hand_landmarks):\n",
    "                    # Calcular bounding box\n",
    "                    x_coords = [landmark.x * w for landmark in hand_landmarks.landmark]\n",
    "                    y_coords = [landmark.y * h for landmark in hand_landmarks.landmark]\n",
    "                    \n",
    "                    x1, y1 = int(min(x_coords)), int(min(y_coords))\n",
    "                    x2, y2 = int(max(x_coords)), int(max(y_coords))\n",
    "                    \n",
    "                    # Padding\n",
    "                    padding = 30\n",
    "                    x1 = max(0, x1 - padding)\n",
    "                    y1 = max(0, y1 - padding)\n",
    "                    x2 = min(w, x2 + padding)\n",
    "                    y2 = min(h, y2 + padding)\n",
    "                    \n",
    "                    # Determinar lateralidade baseada na posição\n",
    "                    center_x = (x1 + x2) / 2\n",
    "                    class_id = 4 if center_x < w / 2 else 5  # left_hand : right_hand\n",
    "                    \n",
    "                    # Converter para formato YOLO\n",
    "                    x_center = (x1 + x2) / 2 / w\n",
    "                    y_center = (y1 + y2) / 2 / h\n",
    "                    width = (x2 - x1) / w\n",
    "                    height = (y2 - y1) / h\n",
    "                    \n",
    "                    hand_detections.append([class_id, x_center, y_center, width, height])\n",
    "            \n",
    "            return hand_detections\n",
    "            \n",
    "        except Exception as e:\n",
    "            print(f\"❌ Erro na detecção MediaPipe: {e}\")\n",
    "            return []\n",
    "\n",
    "    def get_json_annotations_for_image(self, img_file, annotation_map):\n",
    "        \"\"\"Extrai anotações JSON para uma imagem específica\"\"\"\n",
    "        img_filename = img_file.name\n",
    "        img_stem = img_file.stem\n",
    "        \n",
    "        # Tentar diferentes formas de matching\n",
    "        annotations_data = None\n",
    "        \n",
    "        # 1. Nome completo\n",
    "        if img_filename in annotation_map:\n",
    "            annotations_data = annotation_map[img_filename]\n",
    "        # 2. Sem extensão\n",
    "        elif img_stem in annotation_map:\n",
    "            annotations_data = annotation_map[img_stem]\n",
    "        # 3. Com diferentes extensões\n",
    "        else:\n",
    "            for ext in ['.jpg', '.jpeg', '.png', '.bmp']:\n",
    "                test_name = f\"{img_stem}{ext}\"\n",
    "                if test_name in annotation_map:\n",
    "                    annotations_data = annotation_map[test_name]\n",
    "                    break\n",
    "        \n",
    "        if not annotations_data:\n",
    "            return []\n",
    "        \n",
    "        # Converter anotações JSON para formato YOLO\n",
    "        try:\n",
    "            if pil_available:\n",
    "                pil_image = Image.open(img_file)\n",
    "                w, h = pil_image.size\n",
    "            else:\n",
    "                # Fallback para estimativa\n",
    "                w, h = 640, 480\n",
    "            \n",
    "            return self.convert_json_to_yolo(annotations_data, w, h)\n",
    "        except Exception as e:\n",
    "            print(f\"❌ Erro ao converter anotações para {img_file.name}: {e}\")\n",
    "            return []\n",
    "\n",
    "    def process_hands_dataset(self, output_dir):\n",
    "        \"\"\"\n",
    "        Processa o dataset de mãos usando JSON primeiro, MediaPipe como fallback\n",
    "        \"\"\"\n",
    "        output_dir = Path(output_dir)\n",
    "        (output_dir / \"images\").mkdir(parents=True, exist_ok=True)\n",
    "        (output_dir / \"labels\").mkdir(parents=True, exist_ok=True)\n",
    "        \n",
    "        # Encontrar todas as imagens\n",
    "        all_images = self.find_all_images()\n",
    "        \n",
    "        if not all_images:\n",
    "            print(\"❌ Nenhuma imagem encontrada!\")\n",
    "            return 0\n",
    "        \n",
    "        # Carregar anotações JSON\n",
    "        annotations = self.load_hand_annotations()\n",
    "        \n",
    "        if not annotations:\n",
    "            print(\"⚠️ Não foi possível carregar annotation.json - usando apenas MediaPipe\")\n",
    "            annotation_map = {}\n",
    "        else:\n",
    "            annotation_map = self.create_annotation_mapping(annotations)\n",
    "        \n",
    "        processed_count = 0\n",
    "        json_count = 0\n",
    "        mediapipe_count = 0\n",
    "        \n",
    "        for img_file in all_images:\n",
    "            try:\n",
    "                # PRIMEIRO: Tentar usar anotações JSON\n",
    "                hand_detections = self.get_json_annotations_for_image(img_file, annotation_map)\n",
    "                \n",
    "                if hand_detections:\n",
    "                    json_count += 1\n",
    "                    print(f\"✅ JSON: {img_file.name} ({len(hand_detections)} mãos)\")\n",
    "                else:\n",
    "                    # FALLBACK: Usar MediaPipe se não houver anotações JSON\n",
    "                    hand_detections = self.create_hand_detection_mediapipe(img_file)\n",
    "                    if hand_detections:\n",
    "                        mediapipe_count += 1\n",
    "                        print(f\"🤖 MediaPipe: {img_file.name} ({len(hand_detections)} mãos)\")\n",
    "                \n",
    "                if hand_detections:\n",
    "                    # Copiar/converter imagem\n",
    "                    new_img_name = f\"hand_{processed_count:06d}.jpg\"\n",
    "                    \n",
    "                    if pil_available:\n",
    "                        if img_file.suffix.lower() != '.jpg':\n",
    "                            pil_image = Image.open(img_file).convert('RGB')\n",
    "                            pil_image.save(output_dir / \"images\" / new_img_name, 'JPEG')\n",
    "                        else:\n",
    "                            shutil.copy(img_file, output_dir / \"images\" / new_img_name)\n",
    "                    else:\n",
    "                        shutil.copy(img_file, output_dir / \"images\" / new_img_name)\n",
    "                    \n",
    "                    # Salvar labels\n",
    "                    label_file = output_dir / \"labels\" / f\"hand_{processed_count:06d}.txt\"\n",
    "                    with open(label_file, 'w') as f:\n",
    "                        for detection in hand_detections:\n",
    "                            line = ' '.join(map(str, detection))\n",
    "                            f.write(line + '\\n')\n",
    "                    \n",
    "                    processed_count += 1\n",
    "                    \n",
    "                    if processed_count % 50 == 0:\n",
    "                        print(f\"📊 Processadas {processed_count} imagens (JSON: {json_count}, MediaPipe: {mediapipe_count})\")\n",
    "            \n",
    "            except Exception as e:\n",
    "                print(f\"❌ Erro ao processar {img_file.name}: {e}\")\n",
    "                continue\n",
    "        \n",
    "        print(f\"\\n🎉 Dataset de mãos processado:\")\n",
    "        print(f\"   Total: {processed_count} imagens\")\n",
    "        print(f\"   JSON: {json_count} imagens\")\n",
    "        print(f\"   MediaPipe: {mediapipe_count} imagens\")\n",
    "        \n",
    "        return processed_count\n",
    "\n",
    "    def __del__(self):\n",
    "        \"\"\"Limpar recursos\"\"\"\n",
    "        if hasattr(self, 'hands') and self.mediapipe_available:\n",
    "            self.hands.close()\n",
    "\n",
    "class AdvancedYOLOTrainer:\n",
    "    def __init__(self, base_model):\n",
    "        self.base_model = base_model\n",
    "        if torch_available:\n",
    "            self.device = torch.device(\"cuda\" if torch.cuda.is_available() else \"cpu\")\n",
    "        else:\n",
    "            self.device = \"cpu\"\n",
    "        \n",
    "    def prepare_combined_dataset(self, surgical_data_path, hands_dataset_path):\n",
    "        \"\"\"\n",
    "        Prepara dataset combinado com instrumentos cirúrgicos e mãos\n",
    "        \"\"\"\n",
    "        print(\"=== Preparando Dataset Combinado ===\")\n",
    "        \n",
    "        # Diretório de saída\n",
    "        combined_dir = Path(\"combined_surgical_dataset\")\n",
    "        (combined_dir / \"images/train\").mkdir(parents=True, exist_ok=True)\n",
    "        (combined_dir / \"labels/train\").mkdir(parents=True, exist_ok=True)\n",
    "        \n",
    "        # 1. Processar dataset original de instrumentos\n",
    "        print(\"1. Processando dataset de instrumentos...\")\n",
    "        surgical_path = Path(surgical_data_path)\n",
    "        \n",
    "        instrument_count = 0\n",
    "        if (surgical_path / \"images/train\").exists():\n",
    "            for img_file in (surgical_path / \"images/train\").glob(\"*.jpg\"):\n",
    "                # Copiar imagem\n",
    "                shutil.copy(img_file, combined_dir / \"images/train\" / img_file.name)\n",
    "                \n",
    "                # Copiar/criar label\n",
    "                label_file = surgical_path / \"labels/train\" / f\"{img_file.stem}.txt\"\n",
    "                target_label = combined_dir / \"labels/train\" / f\"{img_file.stem}.txt\"\n",
    "                \n",
    "                if label_file.exists():\n",
    "                    shutil.copy(label_file, target_label)\n",
    "                else:\n",
    "                    target_label.touch()\n",
    "                \n",
    "                instrument_count += 1\n",
    "        \n",
    "        print(f\"✅ Instrumentos processados: {instrument_count}\")\n",
    "        \n",
    "        # 2. Processar dataset de mãos\n",
    "        print(\"2. Processando dataset de mãos...\")\n",
    "        hands_integrator = SurgicalHandsIntegrator(hands_dataset_path)\n",
    "        \n",
    "        # Processar mãos para diretório temporário\n",
    "        temp_hands_dir = Path(\"temp_hands_processed\")\n",
    "        hands_count = hands_integrator.process_hands_dataset(temp_hands_dir)\n",
    "        \n",
    "        # Mover imagens e labels processados para dataset combinado\n",
    "        if temp_hands_dir.exists():\n",
    "            for img_file in (temp_hands_dir / \"images\").glob(\"*.jpg\"):\n",
    "                shutil.move(img_file, combined_dir / \"images/train\" / img_file.name)\n",
    "            \n",
    "            for label_file in (temp_hands_dir / \"labels\").glob(\"*.txt\"):\n",
    "                shutil.move(label_file, combined_dir / \"labels/train\" / label_file.name)\n",
    "            \n",
    "            # Limpar diretório temporário\n",
    "            shutil.rmtree(temp_hands_dir)\n",
    "        \n",
    "        print(f\"✅ Mãos processadas: {hands_count}\")\n",
    "        \n",
    "        # 3. Criar configuração do dataset\n",
    "        total_images = instrument_count + hands_count\n",
    "        \n",
    "        data_config = {\n",
    "            'path': str(combined_dir.absolute()),\n",
    "            'train': 'images/train',\n",
    "            'val': 'images/train',  # Usar mesmo conjunto para validação\n",
    "            'nc': 6,\n",
    "            'names': ['needle', 'clamp', 'curved_scissor', 'straight_scissor', 'left_hand', 'right_hand']\n",
    "        }\n",
    "        \n",
    "        with open(combined_dir / \"data.yaml\", \"w\") as f:\n",
    "            yaml.dump(data_config, f)\n",
    "        \n",
    "        print(f\"\\n=== Dataset Combinado Criado ===\")\n",
    "        print(f\"📊 Total de imagens: {total_images}\")\n",
    "        print(f\"🔧 Instrumentos: {instrument_count}\")\n",
    "        print(f\"👋 Mãos: {hands_count}\")\n",
    "        print(f\"🏷️ Classes: {data_config['names']}\")\n",
    "        \n",
    "        return combined_dir\n",
    "\n",
    "    def create_advanced_config(self):\n",
    "        \"\"\"Configuração avançada para treino YOLO\"\"\"\n",
    "        config = {\n",
    "            'lr0': 0.001,\n",
    "            'lrf': 0.01,\n",
    "            'momentum': 0.98,\n",
    "            'weight_decay': 0.0005,\n",
    "            'warmup_epochs': 10,\n",
    "            'warmup_momentum': 0.8,\n",
    "            'warmup_bias_lr': 0.1,\n",
    "            'box': 7.5,\n",
    "            'cls': 0.5,\n",
    "            'dfl': 1.5,\n",
    "            'epochs': 150,\n",
    "            'batch': 8,\n",
    "            'imgsz': 640,\n",
    "            'patience': 50,\n",
    "            'save_period': 10,\n",
    "            'hsv_h': 0.015,\n",
    "            'hsv_s': 0.7,\n",
    "            'hsv_v': 0.4,\n",
    "            'degrees': 15.0,\n",
    "            'translate': 0.1,\n",
    "            'scale': 0.5,\n",
    "            'shear': 5.0,\n",
    "            'perspective': 0.0001,\n",
    "            'flipud': 0.0,\n",
    "            'fliplr': 0.5,\n",
    "            'mosaic': 1.0,\n",
    "            'mixup': 0.15,\n",
    "            'copy_paste': 0.3,\n",
    "            'dropout': 0.2,\n",
    "            'val': True,\n",
    "            'plots': True,\n",
    "            'verbose': True\n",
    "        }\n",
    "        return config\n",
    "\n",
    "    def train_with_advanced_features(self, data_path, use_optimization=True):\n",
    "        \"\"\"Treina o modelo com configurações avançadas\"\"\"\n",
    "        if not torch_available:\n",
    "            print(\"❌ PyTorch não disponível - não é possível treinar\")\n",
    "            return None, 0.0\n",
    "        \n",
    "        config = self.create_advanced_config()\n",
    "        \n",
    "        print(\"🚀 Iniciando treino com dataset combinado...\")\n",
    "        model = YOLO(self.base_model)\n",
    "        \n",
    "        results = model.train(\n",
    "            data=data_path,\n",
    "            **config\n",
    "        )\n",
    "        \n",
    "        best_map = results.results_dict.get('metrics/mAP50(B)', 0.0)\n",
    "        best_model_path = 'runs/detect/train/weights/best.pt'\n",
    "        \n",
    "        return best_model_path, best_map\n",
    "\n",
    "class SurgicalMultiTracker:\n",
    "    \"\"\"Classe para tracking de instrumentos e mãos\"\"\"\n",
    "    def __init__(self, model_path):\n",
    "        if torch_available:\n",
    "            self.model = YOLO(model_path)\n",
    "        else:\n",
    "            print(\"❌ PyTorch não disponível - tracking não disponível\")\n",
    "            self.model = None\n",
    "    \n",
    "    def track_video_with_hands(self, input_video, output_video):\n",
    "        \"\"\"Método placeholder para tracking de vídeo\"\"\"\n",
    "        if self.model is None:\n",
    "            print(\"❌ Modelo não carregado\")\n",
    "            return\n",
    "        \n",
    "        print(f\"🎥 Tracking de {input_video} para {output_video}\")\n",
    "        # Implementação do tracking aqui"
   ]
  },
  {
   "cell_type": "code",
   "execution_count": 11,
   "id": "978a4962-ca03-4cf5-8b6b-6f79945e3e59",
   "metadata": {},
   "outputs": [
    {
     "name": "stdout",
     "output_type": "stream",
     "text": [
      "📁 Preparando dataset original de instrumentos...\n",
      "=== Preparando Dataset Combinado ===\n",
      "1. Processando dataset de instrumentos...\n",
      "✅ Instrumentos processados: 3009\n",
      "2. Processando dataset de mãos...\n",
      "Procurando imagens em: surgical_hands_release/images\n",
      "Verificando pasta: 0318dd3e7e3_000200_000208\n",
      "  Encontradas 60 imagens\n",
      "Verificando pasta: K4WxM7z1PKo_000154_000202\n",
      "  Encontradas 60 imagens\n",
      "Verificando pasta: alzo8uZzhpk_000041_000049\n",
      "  Encontradas 60 imagens\n",
      "Verificando pasta: 9DhftZeReiI_000733_001020_1\n",
      "  Encontradas 150 imagens\n",
      "Verificando pasta: K4WxM7z1PKo_000327_000335\n",
      "  Encontradas 60 imagens\n",
      "Verificando pasta: eb984ec0cf5_000100_000108\n",
      "  Encontradas 60 imagens\n",
      "Verificando pasta: 3745b0bac16_000840_000848\n",
      "  Encontradas 60 imagens\n",
      "Verificando pasta: B5K_QYc_Y2o_000503_000511\n",
      "  Encontradas 60 imagens\n",
      "Verificando pasta: GkfnPAgdaUI_000128_000136\n",
      "  Encontradas 60 imagens\n",
      "Verificando pasta: 5uKdXnreV1s_000021_000029\n",
      "  Encontradas 60 imagens\n",
      "Verificando pasta: ZjjgFgisJwI_000145_000420_1\n",
      "  Encontradas 66 imagens\n",
      "Verificando pasta: fTFTk_q8dh0_000540_000548\n",
      "  Encontradas 60 imagens\n",
      "Verificando pasta: alzo8uZzhpk_000235_000243\n",
      "  Encontradas 60 imagens\n",
      "Verificando pasta: ZjjgFgisJwI_000050_000135\n",
      "  Encontradas 146 imagens\n",
      "Verificando pasta: 5uKdXnreV1s_000100_000108\n",
      "  Encontradas 60 imagens\n",
      "Verificando pasta: QokL8kNka9g_000911_000919\n",
      "  Encontradas 60 imagens\n",
      "Verificando pasta: v_AngiPw1wc_000034_000042\n",
      "  Encontradas 60 imagens\n",
      "Verificando pasta: 0318dd3e7e3_000509_000517\n",
      "  Encontradas 60 imagens\n",
      "Verificando pasta: 9DhftZeReiI_000008_000720_1\n",
      "  Encontradas 150 imagens\n",
      "Verificando pasta: HWpy-ZzKSQE_000121_000129\n",
      "  Encontradas 60 imagens\n",
      "Verificando pasta: TsG-g925r8s_000235_000243\n",
      "  Encontradas 60 imagens\n",
      "Verificando pasta: 09116df3238_000035_000043\n",
      "  Encontradas 60 imagens\n",
      "Verificando pasta: .ipynb_checkpoints\n",
      "  Encontradas 0 imagens\n",
      "Verificando pasta: G2lrwv61Mss_000145_000153\n",
      "  Encontradas 60 imagens\n",
      "Verificando pasta: 5449be235ad_000411_000419\n",
      "  Encontradas 60 imagens\n",
      "Verificando pasta: 9NM1_cC5PfI_000144_000152\n",
      "  Encontradas 60 imagens\n",
      "Verificando pasta: ZjjgFgisJwI_000145_000420_4\n",
      "  Encontradas 47 imagens\n",
      "Verificando pasta: 01560685f81_000940_000948\n",
      "  Encontradas 60 imagens\n",
      "Verificando pasta: QokL8kNka9g_000723_000731\n",
      "  Encontradas 60 imagens\n",
      "Verificando pasta: 9DhftZeReiI_000008_000720\n",
      "  Encontradas 150 imagens\n",
      "Verificando pasta: 0318dd3e7e3_000642_000650\n",
      "  Encontradas 60 imagens\n",
      "Verificando pasta: 3d384b2969e_000651_000659\n",
      "  Encontradas 60 imagens\n",
      "Verificando pasta: alzo8uZzhpk_000330_000338\n",
      "  Encontradas 60 imagens\n",
      "Verificando pasta: 01560685f81_000710_000718\n",
      "  Encontradas 60 imagens\n",
      "Verificando pasta: 5449be235ad_000456_000504\n",
      "  Encontradas 60 imagens\n",
      "Verificando pasta: G2lrwv61Mss_000053_000101\n",
      "  Encontradas 60 imagens\n",
      "Verificando pasta: 19P6qybcoUE_000125_000133\n",
      "  Encontradas 60 imagens\n",
      "Verificando pasta: 0318dd3e7e3_000115_000123\n",
      "  Encontradas 60 imagens\n",
      "Verificando pasta: 5449be235ad_000033_000041\n",
      "  Encontradas 60 imagens\n",
      "Verificando pasta: ZjjgFgisJwI_000145_000420\n",
      "  Encontradas 87 imagens\n",
      "Verificando pasta: fTFTk_q8dh0_000047_000055\n",
      "  Encontradas 56 imagens\n",
      "Verificando pasta: v_AngiPw1wc_000135_000143\n",
      "  Encontradas 60 imagens\n",
      "Verificando pasta: 68e2d14b311_000130_000138\n",
      "  Encontradas 60 imagens\n",
      "Verificando pasta: e45vsP9CM2c_000621_000629\n",
      "  Encontradas 60 imagens\n",
      "Verificando pasta: 5uKdXnreV1s_000046_000054\n",
      "  Encontradas 60 imagens\n",
      "Verificando pasta: fTFTk_q8dh0_000228_000236\n",
      "  Encontradas 60 imagens\n",
      "Verificando pasta: ZjjgFgisJwI_000145_000420_3\n",
      "  Encontradas 94 imagens\n",
      "Verificando pasta: ZjjgFgisJwI_000050_000135_1\n",
      "  Encontradas 148 imagens\n",
      "Verificando pasta: 01560685f81_000507_000515\n",
      "  Encontradas 60 imagens\n",
      "Verificando pasta: K4WxM7z1PKo_000354_000402\n",
      "  Encontradas 60 imagens\n",
      "Verificando pasta: 09116df3238_000012_000020\n",
      "  Encontradas 60 imagens\n",
      "Verificando pasta: QokL8kNka9g_000650_000658\n",
      "  Encontradas 60 imagens\n",
      "Verificando pasta: TsG-g925r8s_000200_000208\n",
      "  Encontradas 60 imagens\n",
      "Verificando pasta: B5K_QYc_Y2o_000423_000431\n",
      "  Encontradas 60 imagens\n",
      "Verificando pasta: alzo8uZzhpk_000512_000520\n",
      "  Encontradas 60 imagens\n",
      "Verificando pasta: 3d384b2969e_000506_000514\n",
      "  Encontradas 60 imagens\n",
      "Verificando pasta: fTFTk_q8dh0_000405_000413\n",
      "  Encontradas 60 imagens\n",
      "Verificando pasta: eb984ec0cf5_000222_000230\n",
      "  Encontradas 60 imagens\n",
      "Verificando pasta: 6iSraYGcHBk_000341_000349\n",
      "  Encontradas 60 imagens\n",
      "Verificando pasta: v_AngiPw1wc_000156_000204\n",
      "  Encontradas 52 imagens\n",
      "Verificando pasta: HWpy-ZzKSQE_000035_000043\n",
      "  Encontradas 60 imagens\n",
      "Verificando pasta: e45vsP9CM2c_000417_000425\n",
      "  Encontradas 60 imagens\n",
      "Verificando pasta: G2lrwv61Mss_000005_000013\n",
      "  Encontradas 60 imagens\n",
      "Verificando pasta: v_AngiPw1wc_000746_000754\n",
      "  Encontradas 60 imagens\n",
      "Verificando pasta: 9DhftZeReiI_000733_001020\n",
      "  Encontradas 150 imagens\n",
      "Verificando pasta: 8jXjg4uaES0_000058_000102\n",
      "  Encontradas 60 imagens\n",
      "Verificando pasta: ZjjgFgisJwI_000145_000420_2\n",
      "  Encontradas 62 imagens\n",
      "Verificando pasta: eb984ec0cf5_000313_000321\n",
      "  Encontradas 60 imagens\n",
      "Verificando pasta: 3d384b2969e_000914_000922\n",
      "  Encontradas 60 imagens\n",
      "Verificando pasta: a8c1424ebcd_000330_000338\n",
      "  Encontradas 60 imagens\n",
      "Verificando pasta: 6iSraYGcHBk_000422_000430\n",
      "  Encontradas 60 imagens\n",
      "Verificando pasta: TsG-g925r8s_000006_000014\n",
      "  Encontradas 60 imagens\n",
      "Verificando pasta: e45vsP9CM2c_000202_000210\n",
      "  Encontradas 60 imagens\n",
      "Verificando pasta: 9NM1_cC5PfI_000040_000048\n",
      "  Encontradas 60 imagens\n",
      "Verificando pasta: a7d419fca90_000206_000214\n",
      "  Encontradas 60 imagens\n",
      "Verificando pasta: eb984ec0cf5_000022_000030\n",
      "  Encontradas 60 imagens\n",
      "Verificando pasta: 5uKdXnreV1s_000228_000236\n",
      "  Encontradas 60 imagens\n",
      "Total de imagens encontradas: 5138\n",
      "Carregando anotações de: surgical_hands_release/annotations.json\n",
      "✅ Anotações carregadas com sucesso\n",
      "Tipo de dados: <class 'dict'>\n",
      "Chaves disponíveis: ['01560685f81_000507_000515', '01560685f81_000710_000718', '01560685f81_000940_000948', '0318dd3e7e3_000115_000123', '0318dd3e7e3_000200_000208', '0318dd3e7e3_000509_000517', '0318dd3e7e3_000642_000650', '09116df3238_000012_000020', '09116df3238_000035_000043', '19P6qybcoUE_000125_000133', '3745b0bac16_000840_000848', '3d384b2969e_000506_000514', '3d384b2969e_000651_000659', '3d384b2969e_000914_000922', '5449be235ad_000033_000041', '5449be235ad_000411_000419', '5449be235ad_000456_000504', '5uKdXnreV1s_000021_000029', '5uKdXnreV1s_000046_000054', '5uKdXnreV1s_000100_000108', '5uKdXnreV1s_000228_000236', '68e2d14b311_000130_000138', '6iSraYGcHBk_000341_000349', '6iSraYGcHBk_000422_000430', '8jXjg4uaES0_000058_000102', '9DhftZeReiI_000008_000720', '9DhftZeReiI_000008_000720_1', '9DhftZeReiI_000733_001020', '9DhftZeReiI_000733_001020_1', '9NM1_cC5PfI_000040_000048', '9NM1_cC5PfI_000144_000152', 'B5K_QYc_Y2o_000423_000431', 'B5K_QYc_Y2o_000503_000511', 'G2lrwv61Mss_000005_000013', 'G2lrwv61Mss_000053_000101', 'G2lrwv61Mss_000145_000153', 'GkfnPAgdaUI_000128_000136', 'HWpy-ZzKSQE_000035_000043', 'HWpy-ZzKSQE_000121_000129', 'K4WxM7z1PKo_000154_000202', 'K4WxM7z1PKo_000327_000335', 'K4WxM7z1PKo_000354_000402', 'QokL8kNka9g_000650_000658', 'QokL8kNka9g_000723_000731', 'QokL8kNka9g_000911_000919', 'TsG-g925r8s_000006_000014', 'TsG-g925r8s_000200_000208', 'TsG-g925r8s_000235_000243', 'ZjjgFgisJwI_000050_000135', 'ZjjgFgisJwI_000050_000135_1', 'ZjjgFgisJwI_000145_000420', 'ZjjgFgisJwI_000145_000420_1', 'ZjjgFgisJwI_000145_000420_2', 'ZjjgFgisJwI_000145_000420_3', 'ZjjgFgisJwI_000145_000420_4', 'a7d419fca90_000206_000214', 'a8c1424ebcd_000330_000338', 'alzo8uZzhpk_000041_000049', 'alzo8uZzhpk_000235_000243', 'alzo8uZzhpk_000330_000338', 'alzo8uZzhpk_000512_000520', 'e45vsP9CM2c_000202_000210', 'e45vsP9CM2c_000417_000425', 'e45vsP9CM2c_000621_000629', 'eb984ec0cf5_000022_000030', 'eb984ec0cf5_000100_000108', 'eb984ec0cf5_000222_000230', 'eb984ec0cf5_000313_000321', 'fTFTk_q8dh0_000047_000055', 'fTFTk_q8dh0_000228_000236', 'fTFTk_q8dh0_000405_000413', 'fTFTk_q8dh0_000540_000548', 'v_AngiPw1wc_000034_000042', 'v_AngiPw1wc_000135_000143', 'v_AngiPw1wc_000156_000204', 'v_AngiPw1wc_000746_000754']\n",
      "📋 Detectado formato direto\n",
      "📋 Mapeamento criado para 76 imagens\n"
     ]
    },
    {
     "name": "stderr",
     "output_type": "stream",
     "text": [
      "W0000 00:00:1748364160.341326  550048 inference_feedback_manager.cc:114] Feedback manager requires a model with a single signature inference. Disabling support for feedback tensors.\n",
      "W0000 00:00:1748364160.368483  550048 inference_feedback_manager.cc:114] Feedback manager requires a model with a single signature inference. Disabling support for feedback tensors.\n"
     ]
    },
    {
     "name": "stdout",
     "output_type": "stream",
     "text": [
      "🤖 MediaPipe: 001225.png (1 mãos)\n",
      "🤖 MediaPipe: 001214.png (2 mãos)\n",
      "🤖 MediaPipe: 001180.png (1 mãos)\n",
      "🤖 MediaPipe: 001166.png (2 mãos)\n",
      "🤖 MediaPipe: 001196.png (1 mãos)\n",
      "🤖 MediaPipe: 001197.png (1 mãos)\n",
      "🤖 MediaPipe: 001164.png (2 mãos)\n",
      "🤖 MediaPipe: 001162.png (2 mãos)\n",
      "🤖 MediaPipe: 001198.png (1 mãos)\n",
      "🤖 MediaPipe: 001174.png (1 mãos)\n",
      "🤖 MediaPipe: 001260.png (1 mãos)\n",
      "🤖 MediaPipe: 001301.png (1 mãos)\n",
      "🤖 MediaPipe: 001258.png (1 mãos)\n",
      "🤖 MediaPipe: 001215.png (1 mãos)\n",
      "🤖 MediaPipe: 001235.png (1 mãos)\n",
      "🤖 MediaPipe: 001292.png (1 mãos)\n",
      "🤖 MediaPipe: 001259.png (1 mãos)\n",
      "🤖 MediaPipe: 001169.png (1 mãos)\n",
      "🤖 MediaPipe: 001161.png (1 mãos)\n",
      "🤖 MediaPipe: 001191.png (1 mãos)\n",
      "🤖 MediaPipe: 001222.png (1 mãos)\n",
      "🤖 MediaPipe: 001195.png (1 mãos)\n",
      "🤖 MediaPipe: 001211.png (1 mãos)\n",
      "🤖 MediaPipe: 001188.png (1 mãos)\n",
      "🤖 MediaPipe: 001185.png (1 mãos)\n",
      "🤖 MediaPipe: 001204.png (1 mãos)\n",
      "🤖 MediaPipe: 001181.png (1 mãos)\n",
      "🤖 MediaPipe: 001218.png (1 mãos)\n",
      "🤖 MediaPipe: 001213.png (1 mãos)\n",
      "🤖 MediaPipe: 001178.png (2 mãos)\n",
      "🤖 MediaPipe: 001199.png (1 mãos)\n",
      "🤖 MediaPipe: 001165.png (2 mãos)\n",
      "🤖 MediaPipe: 001217.png (1 mãos)\n",
      "🤖 MediaPipe: 001172.png (1 mãos)\n",
      "🤖 MediaPipe: 001183.png (1 mãos)\n",
      "🤖 MediaPipe: 001177.png (1 mãos)\n",
      "🤖 MediaPipe: 001194.png (1 mãos)\n",
      "🤖 MediaPipe: 001288.png (1 mãos)\n",
      "🤖 MediaPipe: 001182.png (1 mãos)\n",
      "🤖 MediaPipe: 001184.png (1 mãos)\n",
      "🤖 MediaPipe: 001171.png (1 mãos)\n",
      "🤖 MediaPipe: 001190.png (1 mãos)\n",
      "🤖 MediaPipe: 001216.png (1 mãos)\n",
      "🤖 MediaPipe: 001201.png (1 mãos)\n",
      "🤖 MediaPipe: 001207.png (1 mãos)\n",
      "🤖 MediaPipe: 001248.png (1 mãos)\n",
      "🤖 MediaPipe: 001291.png (1 mãos)\n",
      "🤖 MediaPipe: 001243.png (1 mãos)\n",
      "🤖 MediaPipe: 001179.png (2 mãos)\n",
      "🤖 MediaPipe: 001168.png (1 mãos)\n",
      "📊 Processadas 50 imagens (JSON: 0, MediaPipe: 50)\n",
      "🤖 MediaPipe: 001203.png (1 mãos)\n",
      "🤖 MediaPipe: 001233.png (1 mãos)\n",
      "🤖 MediaPipe: 001224.png (1 mãos)\n",
      "🤖 MediaPipe: 001200.png (1 mãos)\n",
      "🤖 MediaPipe: 001189.png (1 mãos)\n",
      "🤖 MediaPipe: 001173.png (1 mãos)\n",
      "🤖 MediaPipe: 001163.png (2 mãos)\n",
      "🤖 MediaPipe: 001249.png (1 mãos)\n",
      "🤖 MediaPipe: 000058.png (1 mãos)\n",
      "🤖 MediaPipe: 000013.png (1 mãos)\n",
      "🤖 MediaPipe: 000014.png (1 mãos)\n",
      "🤖 MediaPipe: 000057.png (2 mãos)\n",
      "🤖 MediaPipe: 000051.png (1 mãos)\n",
      "🤖 MediaPipe: 000056.png (1 mãos)\n",
      "🤖 MediaPipe: 000059.png (1 mãos)\n",
      "🤖 MediaPipe: 000041.png (1 mãos)\n",
      "🤖 MediaPipe: 000016.png (1 mãos)\n",
      "🤖 MediaPipe: 000006.png (1 mãos)\n",
      "🤖 MediaPipe: 000008.png (1 mãos)\n",
      "🤖 MediaPipe: 000025.png (2 mãos)\n",
      "🤖 MediaPipe: 000031.png (1 mãos)\n",
      "🤖 MediaPipe: 000003.png (1 mãos)\n",
      "🤖 MediaPipe: 000030.png (2 mãos)\n",
      "🤖 MediaPipe: 000021.png (1 mãos)\n",
      "🤖 MediaPipe: 000013.png (1 mãos)\n",
      "🤖 MediaPipe: 000014.png (1 mãos)\n",
      "🤖 MediaPipe: 000007.png (1 mãos)\n",
      "🤖 MediaPipe: 000005.png (1 mãos)\n",
      "🤖 MediaPipe: 000027.png (2 mãos)\n",
      "🤖 MediaPipe: 000028.png (2 mãos)\n",
      "🤖 MediaPipe: 000024.png (1 mãos)\n",
      "🤖 MediaPipe: 000022.png (1 mãos)\n",
      "🤖 MediaPipe: 000012.png (1 mãos)\n",
      "🤖 MediaPipe: 000018.png (1 mãos)\n",
      "🤖 MediaPipe: 000023.png (1 mãos)\n",
      "🤖 MediaPipe: 000009.png (1 mãos)\n",
      "🤖 MediaPipe: 000020.png (1 mãos)\n",
      "🤖 MediaPipe: 000026.png (1 mãos)\n",
      "🤖 MediaPipe: 000037.png (1 mãos)\n",
      "🤖 MediaPipe: 000017.png (1 mãos)\n",
      "🤖 MediaPipe: 000010.png (1 mãos)\n",
      "🤖 MediaPipe: 000015.png (1 mãos)\n",
      "🤖 MediaPipe: 000019.png (1 mãos)\n",
      "🤖 MediaPipe: 000004.png (1 mãos)\n",
      "🤖 MediaPipe: 000045.png (1 mãos)\n",
      "🤖 MediaPipe: 000011.png (1 mãos)\n",
      "🤖 MediaPipe: 000058.png (1 mãos)\n",
      "🤖 MediaPipe: 000003.png (1 mãos)\n",
      "🤖 MediaPipe: 000002.png (1 mãos)\n",
      "🤖 MediaPipe: 000005.png (1 mãos)\n",
      "📊 Processadas 100 imagens (JSON: 0, MediaPipe: 100)\n",
      "🤖 MediaPipe: 000024.png (1 mãos)\n",
      "🤖 MediaPipe: 000023.png (1 mãos)\n",
      "🤖 MediaPipe: 000056.png (1 mãos)\n",
      "🤖 MediaPipe: 000026.png (1 mãos)\n",
      "🤖 MediaPipe: 000059.png (1 mãos)\n",
      "🤖 MediaPipe: 000017.png (1 mãos)\n",
      "🤖 MediaPipe: 000004.png (1 mãos)\n",
      "🤖 MediaPipe: 000006.png (1 mãos)\n",
      "🤖 MediaPipe: 000055.png (1 mãos)\n",
      "🤖 MediaPipe: 000043.png (1 mãos)\n",
      "🤖 MediaPipe: 000039.png (1 mãos)\n",
      "🤖 MediaPipe: 000008.png (1 mãos)\n",
      "🤖 MediaPipe: 000025.png (1 mãos)\n",
      "🤖 MediaPipe: 000052.png (1 mãos)\n",
      "🤖 MediaPipe: 000058.png (1 mãos)\n",
      "🤖 MediaPipe: 000060.png (1 mãos)\n",
      "🤖 MediaPipe: 000050.png (2 mãos)\n",
      "🤖 MediaPipe: 000032.png (1 mãos)\n",
      "🤖 MediaPipe: 000021.png (1 mãos)\n",
      "🤖 MediaPipe: 000040.png (1 mãos)\n",
      "🤖 MediaPipe: 000013.png (1 mãos)\n",
      "🤖 MediaPipe: 000057.png (1 mãos)\n",
      "🤖 MediaPipe: 000007.png (1 mãos)\n",
      "🤖 MediaPipe: 000005.png (1 mãos)\n",
      "🤖 MediaPipe: 000049.png (2 mãos)\n",
      "🤖 MediaPipe: 000033.png (1 mãos)\n",
      "🤖 MediaPipe: 000027.png (1 mãos)\n",
      "🤖 MediaPipe: 000038.png (1 mãos)\n",
      "🤖 MediaPipe: 000048.png (2 mãos)\n",
      "🤖 MediaPipe: 000028.png (1 mãos)\n",
      "🤖 MediaPipe: 000051.png (2 mãos)\n",
      "🤖 MediaPipe: 000035.png (1 mãos)\n",
      "🤖 MediaPipe: 000047.png (2 mãos)\n",
      "🤖 MediaPipe: 000036.png (1 mãos)\n",
      "🤖 MediaPipe: 000022.png (1 mãos)\n",
      "🤖 MediaPipe: 000012.png (1 mãos)\n",
      "🤖 MediaPipe: 000034.png (1 mãos)\n",
      "🤖 MediaPipe: 000054.png (1 mãos)\n",
      "🤖 MediaPipe: 000056.png (1 mãos)\n",
      "🤖 MediaPipe: 000026.png (2 mãos)\n",
      "🤖 MediaPipe: 000059.png (1 mãos)\n",
      "🤖 MediaPipe: 000037.png (1 mãos)\n",
      "🤖 MediaPipe: 000044.png (3 mãos)\n",
      "🤖 MediaPipe: 000041.png (1 mãos)\n",
      "🤖 MediaPipe: 000010.png (2 mãos)\n",
      "🤖 MediaPipe: 000015.png (1 mãos)\n",
      "🤖 MediaPipe: 000042.png (1 mãos)\n",
      "🤖 MediaPipe: 000004.png (2 mãos)\n",
      "🤖 MediaPipe: 000046.png (1 mãos)\n",
      "🤖 MediaPipe: 000045.png (1 mãos)\n",
      "📊 Processadas 150 imagens (JSON: 0, MediaPipe: 150)\n",
      "🤖 MediaPipe: 000011.png (1 mãos)\n",
      "🤖 MediaPipe: 000119.png (1 mãos)\n",
      "🤖 MediaPipe: 000118.png (1 mãos)\n",
      "🤖 MediaPipe: 000001.png (1 mãos)\n",
      "🤖 MediaPipe: 000037.png (1 mãos)\n",
      "🤖 MediaPipe: 000116.png (1 mãos)\n",
      "🤖 MediaPipe: 000108.png (1 mãos)\n",
      "🤖 MediaPipe: 000138.png (1 mãos)\n",
      "🤖 MediaPipe: 000137.png (1 mãos)\n",
      "🤖 MediaPipe: 000092.png (1 mãos)\n",
      "🤖 MediaPipe: 000144.png (1 mãos)\n",
      "🤖 MediaPipe: 000109.png (1 mãos)\n",
      "🤖 MediaPipe: 000111.png (1 mãos)\n",
      "🤖 MediaPipe: 000029.png (1 mãos)\n",
      "🤖 MediaPipe: 000089.png (1 mãos)\n",
      "🤖 MediaPipe: 000105.png (1 mãos)\n",
      "🤖 MediaPipe: 000110.png (1 mãos)\n",
      "🤖 MediaPipe: 000008.png (1 mãos)\n",
      "🤖 MediaPipe: 000002.png (1 mãos)\n",
      "🤖 MediaPipe: 000032.png (1 mãos)\n",
      "🤖 MediaPipe: 000040.png (1 mãos)\n",
      "🤖 MediaPipe: 000033.png (1 mãos)\n",
      "🤖 MediaPipe: 000038.png (1 mãos)\n",
      "🤖 MediaPipe: 000037.png (1 mãos)\n",
      "🤖 MediaPipe: 000041.png (1 mãos)\n",
      "🤖 MediaPipe: 000053.png (1 mãos)\n",
      "🤖 MediaPipe: 001824.png (1 mãos)\n",
      "🤖 MediaPipe: 001819.png (1 mãos)\n",
      "🤖 MediaPipe: 001802.png (1 mãos)\n",
      "🤖 MediaPipe: 001755.png (2 mãos)\n",
      "🤖 MediaPipe: 001809.png (1 mãos)\n",
      "🤖 MediaPipe: 001790.png (1 mãos)\n",
      "🤖 MediaPipe: 001815.png (1 mãos)\n",
      "🤖 MediaPipe: 001716.png (1 mãos)\n",
      "🤖 MediaPipe: 001794.png (2 mãos)\n",
      "🤖 MediaPipe: 001830.png (1 mãos)\n",
      "🤖 MediaPipe: 001712.png (1 mãos)\n",
      "🤖 MediaPipe: 001795.png (2 mãos)\n",
      "🤖 MediaPipe: 001749.png (1 mãos)\n",
      "🤖 MediaPipe: 001793.png (1 mãos)\n",
      "🤖 MediaPipe: 001801.png (1 mãos)\n",
      "🤖 MediaPipe: 001697.png (1 mãos)\n",
      "🤖 MediaPipe: 001810.png (1 mãos)\n",
      "🤖 MediaPipe: 001807.png (1 mãos)\n",
      "🤖 MediaPipe: 001721.png (1 mãos)\n",
      "🤖 MediaPipe: 001727.png (1 mãos)\n",
      "🤖 MediaPipe: 001791.png (2 mãos)\n",
      "🤖 MediaPipe: 001760.png (1 mãos)\n",
      "🤖 MediaPipe: 001806.png (1 mãos)\n",
      "🤖 MediaPipe: 001747.png (1 mãos)\n",
      "📊 Processadas 200 imagens (JSON: 0, MediaPipe: 200)\n",
      "🤖 MediaPipe: 001738.png (2 mãos)\n",
      "🤖 MediaPipe: 001803.png (1 mãos)\n",
      "🤖 MediaPipe: 001681.png (1 mãos)\n",
      "🤖 MediaPipe: 001804.png (1 mãos)\n",
      "🤖 MediaPipe: 001752.png (1 mãos)\n",
      "🤖 MediaPipe: 001719.png (1 mãos)\n",
      "🤖 MediaPipe: 001742.png (2 mãos)\n",
      "🤖 MediaPipe: 001826.png (1 mãos)\n",
      "🤖 MediaPipe: 001759.png (1 mãos)\n",
      "🤖 MediaPipe: 001734.png (2 mãos)\n",
      "🤖 MediaPipe: 001720.png (1 mãos)\n",
      "🤖 MediaPipe: 001689.png (1 mãos)\n",
      "🤖 MediaPipe: 001691.png (1 mãos)\n",
      "🤖 MediaPipe: 001735.png (2 mãos)\n",
      "🤖 MediaPipe: 001766.png (1 mãos)\n",
      "🤖 MediaPipe: 001808.png (2 mãos)\n",
      "🤖 MediaPipe: 001817.png (1 mãos)\n",
      "🤖 MediaPipe: 001706.png (2 mãos)\n",
      "🤖 MediaPipe: 001693.png (1 mãos)\n",
      "🤖 MediaPipe: 001821.png (1 mãos)\n",
      "🤖 MediaPipe: 001787.png (1 mãos)\n",
      "🤖 MediaPipe: 001694.png (1 mãos)\n",
      "🤖 MediaPipe: 001730.png (1 mãos)\n",
      "🤖 MediaPipe: 001705.png (1 mãos)\n",
      "🤖 MediaPipe: 001726.png (1 mãos)\n",
      "🤖 MediaPipe: 001725.png (1 mãos)\n",
      "🤖 MediaPipe: 001828.png (1 mãos)\n",
      "🤖 MediaPipe: 001753.png (1 mãos)\n",
      "🤖 MediaPipe: 001718.png (1 mãos)\n",
      "🤖 MediaPipe: 001740.png (2 mãos)\n",
      "🤖 MediaPipe: 001707.png (1 mãos)\n",
      "🤖 MediaPipe: 001722.png (1 mãos)\n",
      "🤖 MediaPipe: 001704.png (1 mãos)\n",
      "🤖 MediaPipe: 001711.png (1 mãos)\n",
      "🤖 MediaPipe: 001805.png (1 mãos)\n",
      "🤖 MediaPipe: 001792.png (2 mãos)\n",
      "🤖 MediaPipe: 001820.png (1 mãos)\n",
      "🤖 MediaPipe: 001702.png (1 mãos)\n",
      "🤖 MediaPipe: 001684.png (1 mãos)\n",
      "🤖 MediaPipe: 001751.png (1 mãos)\n",
      "🤖 MediaPipe: 001715.png (1 mãos)\n",
      "🤖 MediaPipe: 001714.png (1 mãos)\n",
      "🤖 MediaPipe: 001703.png (1 mãos)\n",
      "🤖 MediaPipe: 001733.png (1 mãos)\n",
      "🤖 MediaPipe: 001785.png (1 mãos)\n",
      "🤖 MediaPipe: 001789.png (1 mãos)\n",
      "🤖 MediaPipe: 001799.png (1 mãos)\n",
      "🤖 MediaPipe: 001701.png (2 mãos)\n",
      "🤖 MediaPipe: 001811.png (1 mãos)\n",
      "🤖 MediaPipe: 001814.png (1 mãos)\n",
      "📊 Processadas 250 imagens (JSON: 0, MediaPipe: 250)\n",
      "🤖 MediaPipe: 001744.png (2 mãos)\n",
      "🤖 MediaPipe: 001692.png (1 mãos)\n",
      "🤖 MediaPipe: 001717.png (1 mãos)\n",
      "🤖 MediaPipe: 001800.png (1 mãos)\n",
      "🤖 MediaPipe: 001758.png (1 mãos)\n",
      "🤖 MediaPipe: 001818.png (1 mãos)\n",
      "🤖 MediaPipe: 001741.png (2 mãos)\n",
      "🤖 MediaPipe: 001732.png (1 mãos)\n",
      "🤖 MediaPipe: 001823.png (1 mãos)\n",
      "🤖 MediaPipe: 001696.png (1 mãos)\n",
      "🤖 MediaPipe: 001708.png (1 mãos)\n",
      "🤖 MediaPipe: 001695.png (1 mãos)\n",
      "🤖 MediaPipe: 001780.png (1 mãos)\n",
      "🤖 MediaPipe: 001736.png (2 mãos)\n",
      "🤖 MediaPipe: 001754.png (1 mãos)\n",
      "🤖 MediaPipe: 001816.png (1 mãos)\n",
      "🤖 MediaPipe: 001685.png (1 mãos)\n",
      "🤖 MediaPipe: 001822.png (1 mãos)\n",
      "🤖 MediaPipe: 001786.png (1 mãos)\n",
      "🤖 MediaPipe: 001825.png (1 mãos)\n",
      "🤖 MediaPipe: 001709.png (1 mãos)\n",
      "🤖 MediaPipe: 001724.png (1 mãos)\n",
      "🤖 MediaPipe: 001731.png (1 mãos)\n",
      "🤖 MediaPipe: 001750.png (1 mãos)\n",
      "🤖 MediaPipe: 001743.png (2 mãos)\n",
      "🤖 MediaPipe: 001728.png (1 mãos)\n",
      "🤖 MediaPipe: 001812.png (1 mãos)\n",
      "🤖 MediaPipe: 001796.png (1 mãos)\n",
      "🤖 MediaPipe: 001687.png (1 mãos)\n",
      "🤖 MediaPipe: 001682.png (2 mãos)\n",
      "🤖 MediaPipe: 001813.png (1 mãos)\n",
      "🤖 MediaPipe: 001686.png (1 mãos)\n",
      "🤖 MediaPipe: 001762.png (1 mãos)\n",
      "🤖 MediaPipe: 001690.png (2 mãos)\n",
      "🤖 MediaPipe: 001763.png (1 mãos)\n",
      "🤖 MediaPipe: 001761.png (1 mãos)\n",
      "🤖 MediaPipe: 001779.png (1 mãos)\n",
      "🤖 MediaPipe: 001739.png (1 mãos)\n",
      "🤖 MediaPipe: 001737.png (1 mãos)\n",
      "🤖 MediaPipe: 001798.png (1 mãos)\n",
      "🤖 MediaPipe: 001713.png (1 mãos)\n",
      "🤖 MediaPipe: 001729.png (1 mãos)\n",
      "🤖 MediaPipe: 001764.png (1 mãos)\n",
      "🤖 MediaPipe: 001746.png (2 mãos)\n",
      "🤖 MediaPipe: 001788.png (1 mãos)\n",
      "🤖 MediaPipe: 001745.png (1 mãos)\n",
      "🤖 MediaPipe: 001723.png (1 mãos)\n",
      "🤖 MediaPipe: 001784.png (1 mãos)\n",
      "🤖 MediaPipe: 001710.png (1 mãos)\n",
      "🤖 MediaPipe: 001827.png (1 mãos)\n",
      "📊 Processadas 300 imagens (JSON: 0, MediaPipe: 300)\n",
      "🤖 MediaPipe: 000043.png (1 mãos)\n",
      "🤖 MediaPipe: 000022.png (1 mãos)\n",
      "🤖 MediaPipe: 000023.png (1 mãos)\n",
      "🤖 MediaPipe: 000016.png (1 mãos)\n",
      "🤖 MediaPipe: 000006.png (1 mãos)\n",
      "🤖 MediaPipe: 000055.png (1 mãos)\n",
      "🤖 MediaPipe: 000043.png (1 mãos)\n",
      "🤖 MediaPipe: 000008.png (1 mãos)\n",
      "🤖 MediaPipe: 000025.png (1 mãos)\n",
      "🤖 MediaPipe: 000032.png (1 mãos)\n",
      "🤖 MediaPipe: 000013.png (2 mãos)\n",
      "🤖 MediaPipe: 000014.png (1 mãos)\n",
      "🤖 MediaPipe: 000005.png (1 mãos)\n",
      "🤖 MediaPipe: 000049.png (1 mãos)\n",
      "🤖 MediaPipe: 000027.png (1 mãos)\n",
      "🤖 MediaPipe: 000048.png (1 mãos)\n",
      "🤖 MediaPipe: 000035.png (1 mãos)\n",
      "🤖 MediaPipe: 000047.png (1 mãos)\n",
      "🤖 MediaPipe: 000022.png (1 mãos)\n",
      "🤖 MediaPipe: 000012.png (1 mãos)\n",
      "🤖 MediaPipe: 000034.png (1 mãos)\n",
      "🤖 MediaPipe: 000009.png (1 mãos)\n",
      "🤖 MediaPipe: 000026.png (1 mãos)\n",
      "🤖 MediaPipe: 000059.png (1 mãos)\n",
      "🤖 MediaPipe: 000037.png (1 mãos)\n",
      "🤖 MediaPipe: 000017.png (1 mãos)\n",
      "🤖 MediaPipe: 000015.png (1 mãos)\n",
      "🤖 MediaPipe: 000042.png (1 mãos)\n",
      "🤖 MediaPipe: 000011.png (1 mãos)\n",
      "🤖 MediaPipe: 000043.png (1 mãos)\n",
      "🤖 MediaPipe: 000039.png (1 mãos)\n",
      "🤖 MediaPipe: 000025.png (1 mãos)\n",
      "🤖 MediaPipe: 000052.png (1 mãos)\n",
      "🤖 MediaPipe: 000060.png (1 mãos)\n",
      "🤖 MediaPipe: 000050.png (1 mãos)\n",
      "🤖 MediaPipe: 000030.png (1 mãos)\n",
      "🤖 MediaPipe: 000049.png (1 mãos)\n",
      "🤖 MediaPipe: 000029.png (1 mãos)\n",
      "🤖 MediaPipe: 000051.png (1 mãos)\n",
      "🤖 MediaPipe: 000035.png (1 mãos)\n",
      "🤖 MediaPipe: 000047.png (1 mãos)\n",
      "🤖 MediaPipe: 000036.png (1 mãos)\n",
      "🤖 MediaPipe: 000026.png (1 mãos)\n",
      "🤖 MediaPipe: 000059.png (1 mãos)\n",
      "🤖 MediaPipe: 000037.png (1 mãos)\n",
      "🤖 MediaPipe: 000044.png (1 mãos)\n",
      "🤖 MediaPipe: 000053.png (1 mãos)\n",
      "🤖 MediaPipe: 000046.png (1 mãos)\n",
      "🤖 MediaPipe: 000045.png (1 mãos)\n",
      "🤖 MediaPipe: 000042.png (1 mãos)\n",
      "📊 Processadas 350 imagens (JSON: 0, MediaPipe: 350)\n",
      "🤖 MediaPipe: 000051.png (1 mãos)\n",
      "🤖 MediaPipe: 000075.png (1 mãos)\n",
      "🤖 MediaPipe: 000076.png (1 mãos)\n",
      "🤖 MediaPipe: 000138.png (1 mãos)\n",
      "🤖 MediaPipe: 000141.png (1 mãos)\n",
      "🤖 MediaPipe: 000139.png (1 mãos)\n",
      "🤖 MediaPipe: 000027.png (1 mãos)\n",
      "🤖 MediaPipe: 000028.png (1 mãos)\n",
      "🤖 MediaPipe: 000008.png (1 mãos)\n",
      "🤖 MediaPipe: 000018.png (1 mãos)\n",
      "🤖 MediaPipe: 000020.png (1 mãos)\n",
      "🤖 MediaPipe: 000041.png (1 mãos)\n",
      "🤖 MediaPipe: 000019.png (1 mãos)\n",
      "🤖 MediaPipe: 000031.png (1 mãos)\n",
      "🤖 MediaPipe: 000036.png (1 mãos)\n",
      "🤖 MediaPipe: 000034.png (1 mãos)\n",
      "🤖 MediaPipe: 000057.png (1 mãos)\n",
      "🤖 MediaPipe: 000027.png (1 mãos)\n",
      "🤖 MediaPipe: 000004.png (1 mãos)\n",
      "🤖 MediaPipe: 000038.png (1 mãos)\n",
      "🤖 MediaPipe: 000016.png (2 mãos)\n",
      "🤖 MediaPipe: 000006.png (2 mãos)\n",
      "🤖 MediaPipe: 000055.png (1 mãos)\n",
      "🤖 MediaPipe: 000043.png (1 mãos)\n",
      "🤖 MediaPipe: 000039.png (1 mãos)\n",
      "🤖 MediaPipe: 000025.png (2 mãos)\n",
      "🤖 MediaPipe: 000052.png (2 mãos)\n",
      "🤖 MediaPipe: 000058.png (1 mãos)\n",
      "🤖 MediaPipe: 000060.png (1 mãos)\n",
      "🤖 MediaPipe: 000050.png (2 mãos)\n",
      "🤖 MediaPipe: 000031.png (1 mãos)\n",
      "🤖 MediaPipe: 000003.png (1 mãos)\n",
      "🤖 MediaPipe: 000002.png (2 mãos)\n",
      "🤖 MediaPipe: 000032.png (1 mãos)\n",
      "🤖 MediaPipe: 000021.png (1 mãos)\n",
      "🤖 MediaPipe: 000040.png (1 mãos)\n",
      "🤖 MediaPipe: 000014.png (2 mãos)\n",
      "🤖 MediaPipe: 000057.png (1 mãos)\n",
      "🤖 MediaPipe: 000007.png (1 mãos)\n",
      "🤖 MediaPipe: 000005.png (1 mãos)\n",
      "🤖 MediaPipe: 000049.png (1 mãos)\n",
      "🤖 MediaPipe: 000033.png (1 mãos)\n",
      "🤖 MediaPipe: 000029.png (1 mãos)\n",
      "🤖 MediaPipe: 000027.png (2 mãos)\n",
      "🤖 MediaPipe: 000028.png (1 mãos)\n",
      "🤖 MediaPipe: 000051.png (1 mãos)\n",
      "🤖 MediaPipe: 000024.png (1 mãos)\n",
      "🤖 MediaPipe: 000047.png (1 mãos)\n",
      "🤖 MediaPipe: 000022.png (1 mãos)\n",
      "🤖 MediaPipe: 000018.png (1 mãos)\n",
      "📊 Processadas 400 imagens (JSON: 0, MediaPipe: 400)\n",
      "🤖 MediaPipe: 000054.png (1 mãos)\n",
      "🤖 MediaPipe: 000001.png (2 mãos)\n",
      "🤖 MediaPipe: 000023.png (1 mãos)\n",
      "🤖 MediaPipe: 000020.png (1 mãos)\n",
      "🤖 MediaPipe: 000026.png (2 mãos)\n",
      "🤖 MediaPipe: 000059.png (2 mãos)\n",
      "🤖 MediaPipe: 000037.png (1 mãos)\n",
      "🤖 MediaPipe: 000044.png (1 mãos)\n",
      "🤖 MediaPipe: 000041.png (1 mãos)\n",
      "🤖 MediaPipe: 000017.png (1 mãos)\n",
      "🤖 MediaPipe: 000015.png (2 mãos)\n",
      "🤖 MediaPipe: 000019.png (2 mãos)\n",
      "🤖 MediaPipe: 000042.png (3 mãos)\n",
      "🤖 MediaPipe: 000004.png (2 mãos)\n",
      "🤖 MediaPipe: 000053.png (1 mãos)\n",
      "🤖 MediaPipe: 000046.png (2 mãos)\n",
      "🤖 MediaPipe: 000045.png (2 mãos)\n",
      "🤖 MediaPipe: 000016.png (1 mãos)\n",
      "🤖 MediaPipe: 000008.png (1 mãos)\n",
      "🤖 MediaPipe: 000038.png (1 mãos)\n",
      "🤖 MediaPipe: 000022.png (1 mãos)\n",
      "🤖 MediaPipe: 000017.png (1 mãos)\n",
      "🤖 MediaPipe: 000015.png (1 mãos)\n",
      "🤖 MediaPipe: 000006.png (1 mãos)\n",
      "🤖 MediaPipe: 000003.png (1 mãos)\n",
      "🤖 MediaPipe: 000002.png (1 mãos)\n",
      "🤖 MediaPipe: 000057.png (2 mãos)\n",
      "🤖 MediaPipe: 000007.png (1 mãos)\n",
      "🤖 MediaPipe: 000005.png (1 mãos)\n",
      "🤖 MediaPipe: 000009.png (1 mãos)\n",
      "🤖 MediaPipe: 000004.png (1 mãos)\n",
      "🤖 MediaPipe: 000058.png (1 mãos)\n",
      "🤖 MediaPipe: 000040.png (1 mãos)\n",
      "🤖 MediaPipe: 000057.png (1 mãos)\n",
      "🤖 MediaPipe: 000007.png (1 mãos)\n",
      "🤖 MediaPipe: 000056.png (1 mãos)\n",
      "🤖 MediaPipe: 000037.png (1 mãos)\n",
      "🤖 MediaPipe: 000041.png (1 mãos)\n",
      "🤖 MediaPipe: 000042.png (1 mãos)\n",
      "🤖 MediaPipe: 000055.png (1 mãos)\n",
      "🤖 MediaPipe: 000052.png (1 mãos)\n",
      "🤖 MediaPipe: 000016.png (1 mãos)\n",
      "🤖 MediaPipe: 000006.png (1 mãos)\n",
      "🤖 MediaPipe: 000025.png (1 mãos)\n",
      "🤖 MediaPipe: 000031.png (1 mãos)\n",
      "🤖 MediaPipe: 000003.png (1 mãos)\n",
      "🤖 MediaPipe: 000002.png (1 mãos)\n",
      "🤖 MediaPipe: 000021.png (1 mãos)\n",
      "🤖 MediaPipe: 000013.png (1 mãos)\n",
      "🤖 MediaPipe: 000014.png (1 mãos)\n",
      "📊 Processadas 450 imagens (JSON: 0, MediaPipe: 450)\n",
      "🤖 MediaPipe: 000005.png (1 mãos)\n",
      "🤖 MediaPipe: 000027.png (1 mãos)\n",
      "🤖 MediaPipe: 000028.png (1 mãos)\n",
      "🤖 MediaPipe: 000024.png (1 mãos)\n",
      "🤖 MediaPipe: 000022.png (1 mãos)\n",
      "🤖 MediaPipe: 000012.png (1 mãos)\n",
      "🤖 MediaPipe: 000018.png (1 mãos)\n",
      "🤖 MediaPipe: 000001.png (1 mãos)\n",
      "🤖 MediaPipe: 000023.png (1 mãos)\n",
      "🤖 MediaPipe: 000020.png (1 mãos)\n",
      "🤖 MediaPipe: 000026.png (1 mãos)\n",
      "🤖 MediaPipe: 000017.png (1 mãos)\n",
      "🤖 MediaPipe: 000010.png (1 mãos)\n",
      "🤖 MediaPipe: 000015.png (1 mãos)\n",
      "🤖 MediaPipe: 000019.png (1 mãos)\n",
      "🤖 MediaPipe: 000004.png (1 mãos)\n",
      "🤖 MediaPipe: 000011.png (1 mãos)\n",
      "🤖 MediaPipe: 000006.png (1 mãos)\n",
      "🤖 MediaPipe: 000008.png (1 mãos)\n",
      "🤖 MediaPipe: 000031.png (1 mãos)\n",
      "🤖 MediaPipe: 000030.png (1 mãos)\n",
      "🤖 MediaPipe: 000032.png (1 mãos)\n",
      "🤖 MediaPipe: 000021.png (1 mãos)\n",
      "🤖 MediaPipe: 000013.png (1 mãos)\n",
      "🤖 MediaPipe: 000014.png (1 mãos)\n",
      "🤖 MediaPipe: 000007.png (1 mãos)\n",
      "🤖 MediaPipe: 000029.png (1 mãos)\n",
      "🤖 MediaPipe: 000035.png (1 mãos)\n",
      "🤖 MediaPipe: 000036.png (1 mãos)\n",
      "🤖 MediaPipe: 000022.png (1 mãos)\n",
      "🤖 MediaPipe: 000012.png (1 mãos)\n",
      "🤖 MediaPipe: 000018.png (1 mãos)\n",
      "🤖 MediaPipe: 000001.png (1 mãos)\n",
      "🤖 MediaPipe: 000009.png (1 mãos)\n",
      "🤖 MediaPipe: 000026.png (1 mãos)\n",
      "🤖 MediaPipe: 000037.png (1 mãos)\n",
      "🤖 MediaPipe: 000010.png (1 mãos)\n",
      "🤖 MediaPipe: 000015.png (1 mãos)\n",
      "🤖 MediaPipe: 000004.png (1 mãos)\n",
      "🤖 MediaPipe: 000011.png (1 mãos)\n",
      "🤖 MediaPipe: 000246.png (2 mãos)\n",
      "🤖 MediaPipe: 000242.png (1 mãos)\n",
      "🤖 MediaPipe: 000244.png (1 mãos)\n",
      "🤖 MediaPipe: 000240.png (1 mãos)\n",
      "🤖 MediaPipe: 000211.png (1 mãos)\n",
      "🤖 MediaPipe: 000227.png (1 mãos)\n",
      "🤖 MediaPipe: 000247.png (2 mãos)\n",
      "🤖 MediaPipe: 000229.png (1 mãos)\n",
      "🤖 MediaPipe: 000241.png (1 mãos)\n",
      "🤖 MediaPipe: 000243.png (1 mãos)\n",
      "📊 Processadas 500 imagens (JSON: 0, MediaPipe: 500)\n",
      "🤖 MediaPipe: 000238.png (1 mãos)\n",
      "🤖 MediaPipe: 000239.png (1 mãos)\n",
      "🤖 MediaPipe: 000228.png (1 mãos)\n",
      "🤖 MediaPipe: 000245.png (1 mãos)\n",
      "🤖 MediaPipe: 000187.png (1 mãos)\n",
      "🤖 MediaPipe: 000299.png (1 mãos)\n",
      "🤖 MediaPipe: 000298.png (2 mãos)\n",
      "🤖 MediaPipe: 000317.png (1 mãos)\n",
      "🤖 MediaPipe: 000316.png (1 mãos)\n",
      "🤖 MediaPipe: 000006.png (1 mãos)\n",
      "🤖 MediaPipe: 000055.png (1 mãos)\n",
      "🤖 MediaPipe: 000058.png (1 mãos)\n",
      "🤖 MediaPipe: 000057.png (1 mãos)\n",
      "🤖 MediaPipe: 000007.png (1 mãos)\n",
      "🤖 MediaPipe: 000005.png (1 mãos)\n",
      "🤖 MediaPipe: 000054.png (1 mãos)\n",
      "🤖 MediaPipe: 000009.png (1 mãos)\n",
      "🤖 MediaPipe: 000056.png (1 mãos)\n",
      "🤖 MediaPipe: 000059.png (1 mãos)\n",
      "🤖 MediaPipe: 000053.png (1 mãos)\n",
      "🤖 MediaPipe: 000058.png (1 mãos)\n",
      "🤖 MediaPipe: 000016.png (1 mãos)\n",
      "🤖 MediaPipe: 000043.png (1 mãos)\n",
      "🤖 MediaPipe: 000039.png (1 mãos)\n",
      "🤖 MediaPipe: 000008.png (1 mãos)\n",
      "🤖 MediaPipe: 000050.png (1 mãos)\n",
      "🤖 MediaPipe: 000031.png (1 mãos)\n",
      "🤖 MediaPipe: 000030.png (1 mãos)\n",
      "🤖 MediaPipe: 000032.png (1 mãos)\n",
      "🤖 MediaPipe: 000021.png (1 mãos)\n",
      "🤖 MediaPipe: 000040.png (1 mãos)\n",
      "🤖 MediaPipe: 000033.png (1 mãos)\n",
      "🤖 MediaPipe: 000029.png (1 mãos)\n",
      "🤖 MediaPipe: 000038.png (1 mãos)\n",
      "🤖 MediaPipe: 000035.png (1 mãos)\n",
      "🤖 MediaPipe: 000036.png (1 mãos)\n",
      "🤖 MediaPipe: 000022.png (1 mãos)\n",
      "🤖 MediaPipe: 000034.png (1 mãos)\n",
      "🤖 MediaPipe: 000018.png (1 mãos)\n",
      "🤖 MediaPipe: 000001.png (1 mãos)\n",
      "🤖 MediaPipe: 000023.png (1 mãos)\n",
      "🤖 MediaPipe: 000020.png (1 mãos)\n",
      "🤖 MediaPipe: 000026.png (1 mãos)\n",
      "🤖 MediaPipe: 000037.png (1 mãos)\n",
      "🤖 MediaPipe: 000044.png (1 mãos)\n",
      "🤖 MediaPipe: 000041.png (1 mãos)\n",
      "🤖 MediaPipe: 000019.png (1 mãos)\n",
      "🤖 MediaPipe: 000042.png (1 mãos)\n",
      "🤖 MediaPipe: 000046.png (1 mãos)\n",
      "🤖 MediaPipe: 000045.png (1 mãos)\n",
      "📊 Processadas 550 imagens (JSON: 0, MediaPipe: 550)\n",
      "🤖 MediaPipe: 000055.png (1 mãos)\n",
      "🤖 MediaPipe: 000055.png (1 mãos)\n",
      "🤖 MediaPipe: 000058.png (1 mãos)\n",
      "🤖 MediaPipe: 000057.png (1 mãos)\n",
      "🤖 MediaPipe: 000029.png (1 mãos)\n",
      "🤖 MediaPipe: 000027.png (1 mãos)\n",
      "🤖 MediaPipe: 000048.png (1 mãos)\n",
      "🤖 MediaPipe: 000028.png (1 mãos)\n",
      "🤖 MediaPipe: 000009.png (1 mãos)\n",
      "🤖 MediaPipe: 000053.png (1 mãos)\n",
      "🤖 MediaPipe: 000006.png (1 mãos)\n",
      "🤖 MediaPipe: 000025.png (1 mãos)\n",
      "🤖 MediaPipe: 000003.png (1 mãos)\n",
      "🤖 MediaPipe: 000002.png (1 mãos)\n",
      "🤖 MediaPipe: 000030.png (1 mãos)\n",
      "🤖 MediaPipe: 000021.png (1 mãos)\n",
      "🤖 MediaPipe: 000007.png (1 mãos)\n",
      "🤖 MediaPipe: 000005.png (1 mãos)\n",
      "🤖 MediaPipe: 000029.png (1 mãos)\n",
      "🤖 MediaPipe: 000027.png (1 mãos)\n",
      "🤖 MediaPipe: 000048.png (1 mãos)\n",
      "🤖 MediaPipe: 000024.png (1 mãos)\n",
      "🤖 MediaPipe: 000001.png (1 mãos)\n",
      "🤖 MediaPipe: 000026.png (1 mãos)\n",
      "🤖 MediaPipe: 000010.png (1 mãos)\n",
      "🤖 MediaPipe: 000019.png (1 mãos)\n",
      "🤖 MediaPipe: 000004.png (1 mãos)\n",
      "🤖 MediaPipe: 000011.png (1 mãos)\n",
      "🤖 MediaPipe: 000016.png (1 mãos)\n",
      "🤖 MediaPipe: 000043.png (1 mãos)\n",
      "🤖 MediaPipe: 000025.png (1 mãos)\n",
      "🤖 MediaPipe: 000031.png (1 mãos)\n",
      "🤖 MediaPipe: 000030.png (1 mãos)\n",
      "🤖 MediaPipe: 000021.png (1 mãos)\n",
      "🤖 MediaPipe: 000013.png (1 mãos)\n",
      "🤖 MediaPipe: 000014.png (1 mãos)\n",
      "🤖 MediaPipe: 000027.png (1 mãos)\n",
      "🤖 MediaPipe: 000024.png (1 mãos)\n",
      "🤖 MediaPipe: 000022.png (1 mãos)\n",
      "🤖 MediaPipe: 000012.png (1 mãos)\n",
      "🤖 MediaPipe: 000018.png (1 mãos)\n",
      "🤖 MediaPipe: 000023.png (1 mãos)\n",
      "🤖 MediaPipe: 000020.png (1 mãos)\n",
      "🤖 MediaPipe: 000026.png (1 mãos)\n",
      "🤖 MediaPipe: 000017.png (1 mãos)\n",
      "🤖 MediaPipe: 000015.png (1 mãos)\n",
      "🤖 MediaPipe: 000019.png (1 mãos)\n",
      "🤖 MediaPipe: 000055.png (1 mãos)\n",
      "🤖 MediaPipe: 000043.png (1 mãos)\n",
      "🤖 MediaPipe: 000039.png (1 mãos)\n",
      "📊 Processadas 600 imagens (JSON: 0, MediaPipe: 600)\n",
      "🤖 MediaPipe: 000025.png (1 mãos)\n",
      "🤖 MediaPipe: 000052.png (1 mãos)\n",
      "🤖 MediaPipe: 000058.png (1 mãos)\n",
      "🤖 MediaPipe: 000060.png (2 mãos)\n",
      "🤖 MediaPipe: 000050.png (1 mãos)\n",
      "🤖 MediaPipe: 000031.png (1 mãos)\n",
      "🤖 MediaPipe: 000030.png (1 mãos)\n",
      "🤖 MediaPipe: 000032.png (1 mãos)\n",
      "🤖 MediaPipe: 000040.png (1 mãos)\n",
      "🤖 MediaPipe: 000014.png (1 mãos)\n",
      "🤖 MediaPipe: 000057.png (1 mãos)\n",
      "🤖 MediaPipe: 000049.png (1 mãos)\n",
      "🤖 MediaPipe: 000033.png (1 mãos)\n",
      "🤖 MediaPipe: 000029.png (1 mãos)\n",
      "🤖 MediaPipe: 000027.png (1 mãos)\n",
      "🤖 MediaPipe: 000038.png (1 mãos)\n",
      "🤖 MediaPipe: 000048.png (1 mãos)\n",
      "🤖 MediaPipe: 000028.png (1 mãos)\n",
      "🤖 MediaPipe: 000051.png (1 mãos)\n",
      "🤖 MediaPipe: 000024.png (1 mãos)\n",
      "🤖 MediaPipe: 000035.png (1 mãos)\n",
      "🤖 MediaPipe: 000047.png (1 mãos)\n",
      "🤖 MediaPipe: 000036.png (1 mãos)\n",
      "🤖 MediaPipe: 000034.png (1 mãos)\n",
      "🤖 MediaPipe: 000054.png (1 mãos)\n",
      "🤖 MediaPipe: 000056.png (1 mãos)\n",
      "🤖 MediaPipe: 000026.png (1 mãos)\n",
      "🤖 MediaPipe: 000059.png (1 mãos)\n",
      "🤖 MediaPipe: 000037.png (1 mãos)\n",
      "🤖 MediaPipe: 000044.png (1 mãos)\n",
      "🤖 MediaPipe: 000015.png (1 mãos)\n",
      "🤖 MediaPipe: 000042.png (1 mãos)\n",
      "🤖 MediaPipe: 000053.png (1 mãos)\n",
      "🤖 MediaPipe: 000046.png (1 mãos)\n",
      "🤖 MediaPipe: 000045.png (1 mãos)\n",
      "🤖 MediaPipe: 000016.png (1 mãos)\n",
      "🤖 MediaPipe: 000006.png (1 mãos)\n",
      "🤖 MediaPipe: 000060.png (1 mãos)\n",
      "🤖 MediaPipe: 000004.png (1 mãos)\n",
      "🤖 MediaPipe: 000018.png (1 mãos)\n",
      "🤖 MediaPipe: 000017.png (1 mãos)\n",
      "🤖 MediaPipe: 000019.png (1 mãos)\n",
      "🤖 MediaPipe: 000068.png (1 mãos)\n",
      "🤖 MediaPipe: 000075.png (1 mãos)\n",
      "🤖 MediaPipe: 000016.png (2 mãos)\n",
      "🤖 MediaPipe: 000085.png (1 mãos)\n",
      "🤖 MediaPipe: 000119.png (1 mãos)\n",
      "🤖 MediaPipe: 000067.png (1 mãos)\n",
      "🤖 MediaPipe: 000006.png (1 mãos)\n",
      "🤖 MediaPipe: 000117.png (1 mãos)\n",
      "📊 Processadas 650 imagens (JSON: 0, MediaPipe: 650)\n",
      "🤖 MediaPipe: 000055.png (1 mãos)\n",
      "🤖 MediaPipe: 000071.png (1 mãos)\n",
      "🤖 MediaPipe: 000124.png (2 mãos)\n",
      "🤖 MediaPipe: 000043.png (1 mãos)\n",
      "🤖 MediaPipe: 000076.png (1 mãos)\n",
      "🤖 MediaPipe: 000078.png (1 mãos)\n",
      "🤖 MediaPipe: 000039.png (1 mãos)\n",
      "🤖 MediaPipe: 000130.png (1 mãos)\n",
      "🤖 MediaPipe: 000079.png (1 mãos)\n",
      "🤖 MediaPipe: 000107.png (1 mãos)\n",
      "🤖 MediaPipe: 000008.png (2 mãos)\n",
      "🤖 MediaPipe: 000080.png (1 mãos)\n",
      "🤖 MediaPipe: 000086.png (1 mãos)\n",
      "🤖 MediaPipe: 000108.png (1 mãos)\n",
      "🤖 MediaPipe: 000128.png (1 mãos)\n",
      "🤖 MediaPipe: 000025.png (3 mãos)\n",
      "🤖 MediaPipe: 000074.png (2 mãos)\n",
      "🤖 MediaPipe: 000148.png (1 mãos)\n",
      "🤖 MediaPipe: 000052.png (1 mãos)\n",
      "🤖 MediaPipe: 000058.png (1 mãos)\n",
      "🤖 MediaPipe: 000136.png (1 mãos)\n",
      "🤖 MediaPipe: 000095.png (2 mãos)\n",
      "🤖 MediaPipe: 000090.png (1 mãos)\n",
      "🤖 MediaPipe: 000137.png (1 mãos)\n",
      "🤖 MediaPipe: 000060.png (1 mãos)\n",
      "🤖 MediaPipe: 000126.png (1 mãos)\n",
      "🤖 MediaPipe: 000113.png (1 mãos)\n",
      "🤖 MediaPipe: 000077.png (1 mãos)\n",
      "🤖 MediaPipe: 000098.png (1 mãos)\n",
      "🤖 MediaPipe: 000125.png (2 mãos)\n",
      "🤖 MediaPipe: 000145.png (1 mãos)\n",
      "🤖 MediaPipe: 000050.png (2 mãos)\n",
      "🤖 MediaPipe: 000031.png (1 mãos)\n",
      "🤖 MediaPipe: 000003.png (2 mãos)\n",
      "🤖 MediaPipe: 000002.png (2 mãos)\n",
      "🤖 MediaPipe: 000092.png (1 mãos)\n",
      "🤖 MediaPipe: 000144.png (1 mãos)\n",
      "🤖 MediaPipe: 000109.png (1 mãos)\n",
      "🤖 MediaPipe: 000030.png (2 mãos)\n",
      "🤖 MediaPipe: 000070.png (1 mãos)\n",
      "🤖 MediaPipe: 000032.png (1 mãos)\n",
      "🤖 MediaPipe: 000096.png (2 mãos)\n",
      "🤖 MediaPipe: 000021.png (1 mãos)\n",
      "🤖 MediaPipe: 000040.png (1 mãos)\n",
      "🤖 MediaPipe: 000143.png (1 mãos)\n",
      "🤖 MediaPipe: 000084.png (1 mãos)\n",
      "🤖 MediaPipe: 000013.png (2 mãos)\n",
      "🤖 MediaPipe: 000014.png (1 mãos)\n",
      "🤖 MediaPipe: 000057.png (1 mãos)\n",
      "🤖 MediaPipe: 000007.png (1 mãos)\n",
      "📊 Processadas 700 imagens (JSON: 0, MediaPipe: 700)\n",
      "🤖 MediaPipe: 000005.png (2 mãos)\n",
      "🤖 MediaPipe: 000103.png (1 mãos)\n",
      "🤖 MediaPipe: 000111.png (1 mãos)\n",
      "🤖 MediaPipe: 000049.png (1 mãos)\n",
      "🤖 MediaPipe: 000033.png (2 mãos)\n",
      "🤖 MediaPipe: 000066.png (1 mãos)\n",
      "🤖 MediaPipe: 000100.png (1 mãos)\n",
      "🤖 MediaPipe: 000029.png (1 mãos)\n",
      "🤖 MediaPipe: 000064.png (1 mãos)\n",
      "🤖 MediaPipe: 000027.png (1 mãos)\n",
      "🤖 MediaPipe: 000038.png (1 mãos)\n",
      "🤖 MediaPipe: 000121.png (1 mãos)\n",
      "🤖 MediaPipe: 000129.png (2 mãos)\n",
      "🤖 MediaPipe: 000048.png (1 mãos)\n",
      "🤖 MediaPipe: 000102.png (1 mãos)\n",
      "🤖 MediaPipe: 000028.png (1 mãos)\n",
      "🤖 MediaPipe: 000147.png (1 mãos)\n",
      "🤖 MediaPipe: 000051.png (1 mãos)\n",
      "🤖 MediaPipe: 000024.png (2 mãos)\n",
      "🤖 MediaPipe: 000093.png (1 mãos)\n",
      "🤖 MediaPipe: 000083.png (1 mãos)\n",
      "🤖 MediaPipe: 000035.png (1 mãos)\n",
      "🤖 MediaPipe: 000047.png (1 mãos)\n",
      "🤖 MediaPipe: 000036.png (1 mãos)\n",
      "🤖 MediaPipe: 000022.png (2 mãos)\n",
      "🤖 MediaPipe: 000012.png (2 mãos)\n",
      "🤖 MediaPipe: 000150.png (2 mãos)\n",
      "🤖 MediaPipe: 000069.png (1 mãos)\n",
      "🤖 MediaPipe: 000101.png (1 mãos)\n",
      "🤖 MediaPipe: 000034.png (2 mãos)\n",
      "🤖 MediaPipe: 000018.png (2 mãos)\n",
      "🤖 MediaPipe: 000062.png (1 mãos)\n",
      "🤖 MediaPipe: 000054.png (1 mãos)\n",
      "🤖 MediaPipe: 000072.png (1 mãos)\n",
      "🤖 MediaPipe: 000001.png (2 mãos)\n",
      "🤖 MediaPipe: 000146.png (1 mãos)\n",
      "🤖 MediaPipe: 000023.png (2 mãos)\n",
      "🤖 MediaPipe: 000094.png (1 mãos)\n",
      "🤖 MediaPipe: 000009.png (2 mãos)\n",
      "🤖 MediaPipe: 000115.png (1 mãos)\n",
      "🤖 MediaPipe: 000056.png (1 mãos)\n",
      "🤖 MediaPipe: 000020.png (2 mãos)\n",
      "🤖 MediaPipe: 000082.png (1 mãos)\n",
      "🤖 MediaPipe: 000088.png (1 mãos)\n",
      "🤖 MediaPipe: 000026.png (1 mãos)\n",
      "🤖 MediaPipe: 000131.png (1 mãos)\n",
      "🤖 MediaPipe: 000120.png (1 mãos)\n",
      "🤖 MediaPipe: 000059.png (1 mãos)\n",
      "🤖 MediaPipe: 000037.png (1 mãos)\n",
      "🤖 MediaPipe: 000044.png (1 mãos)\n",
      "📊 Processadas 750 imagens (JSON: 0, MediaPipe: 750)\n",
      "🤖 MediaPipe: 000089.png (1 mãos)\n",
      "🤖 MediaPipe: 000105.png (1 mãos)\n",
      "🤖 MediaPipe: 000041.png (1 mãos)\n",
      "🤖 MediaPipe: 000135.png (2 mãos)\n",
      "🤖 MediaPipe: 000017.png (2 mãos)\n",
      "🤖 MediaPipe: 000123.png (1 mãos)\n",
      "🤖 MediaPipe: 000142.png (1 mãos)\n",
      "🤖 MediaPipe: 000061.png (1 mãos)\n",
      "🤖 MediaPipe: 000073.png (1 mãos)\n",
      "🤖 MediaPipe: 000091.png (1 mãos)\n",
      "🤖 MediaPipe: 000010.png (1 mãos)\n",
      "🤖 MediaPipe: 000149.png (1 mãos)\n",
      "🤖 MediaPipe: 000015.png (2 mãos)\n",
      "🤖 MediaPipe: 000019.png (2 mãos)\n",
      "🤖 MediaPipe: 000104.png (1 mãos)\n",
      "🤖 MediaPipe: 000065.png (1 mãos)\n",
      "🤖 MediaPipe: 000042.png (1 mãos)\n",
      "🤖 MediaPipe: 000099.png (1 mãos)\n",
      "🤖 MediaPipe: 000087.png (1 mãos)\n",
      "🤖 MediaPipe: 000004.png (1 mãos)\n",
      "🤖 MediaPipe: 000110.png (1 mãos)\n",
      "🤖 MediaPipe: 000053.png (1 mãos)\n",
      "🤖 MediaPipe: 000112.png (1 mãos)\n",
      "🤖 MediaPipe: 000063.png (1 mãos)\n",
      "🤖 MediaPipe: 000122.png (1 mãos)\n",
      "🤖 MediaPipe: 000046.png (1 mãos)\n",
      "🤖 MediaPipe: 000097.png (1 mãos)\n",
      "🤖 MediaPipe: 000106.png (1 mãos)\n",
      "🤖 MediaPipe: 000045.png (1 mãos)\n",
      "🤖 MediaPipe: 000127.png (1 mãos)\n",
      "🤖 MediaPipe: 000114.png (1 mãos)\n",
      "🤖 MediaPipe: 000081.png (1 mãos)\n",
      "🤖 MediaPipe: 000011.png (2 mãos)\n",
      "🤖 MediaPipe: 000190.png (1 mãos)\n",
      "🤖 MediaPipe: 000185.png (1 mãos)\n",
      "🤖 MediaPipe: 000186.png (1 mãos)\n",
      "🤖 MediaPipe: 000188.png (1 mãos)\n",
      "🤖 MediaPipe: 000211.png (1 mãos)\n",
      "🤖 MediaPipe: 000227.png (1 mãos)\n",
      "🤖 MediaPipe: 000229.png (1 mãos)\n",
      "🤖 MediaPipe: 000191.png (1 mãos)\n",
      "🤖 MediaPipe: 000203.png (1 mãos)\n",
      "🤖 MediaPipe: 000176.png (1 mãos)\n",
      "🤖 MediaPipe: 000205.png (1 mãos)\n",
      "🤖 MediaPipe: 000200.png (1 mãos)\n",
      "🤖 MediaPipe: 000201.png (1 mãos)\n",
      "🤖 MediaPipe: 000178.png (1 mãos)\n",
      "🤖 MediaPipe: 000228.png (1 mãos)\n",
      "🤖 MediaPipe: 000055.png (1 mãos)\n",
      "🤖 MediaPipe: 000058.png (1 mãos)\n",
      "📊 Processadas 800 imagens (JSON: 0, MediaPipe: 800)\n",
      "🤖 MediaPipe: 000060.png (1 mãos)\n",
      "🤖 MediaPipe: 000057.png (1 mãos)\n",
      "🤖 MediaPipe: 000051.png (1 mãos)\n",
      "🤖 MediaPipe: 000054.png (1 mãos)\n",
      "🤖 MediaPipe: 000056.png (1 mãos)\n",
      "🤖 MediaPipe: 000059.png (1 mãos)\n",
      "🤖 MediaPipe: 000053.png (1 mãos)\n",
      "🤖 MediaPipe: 000055.png (1 mãos)\n",
      "🤖 MediaPipe: 000052.png (1 mãos)\n",
      "🤖 MediaPipe: 000060.png (1 mãos)\n",
      "🤖 MediaPipe: 000003.png (1 mãos)\n",
      "🤖 MediaPipe: 000002.png (1 mãos)\n",
      "🤖 MediaPipe: 000013.png (1 mãos)\n",
      "🤖 MediaPipe: 000014.png (1 mãos)\n",
      "🤖 MediaPipe: 000007.png (1 mãos)\n",
      "🤖 MediaPipe: 000029.png (1 mãos)\n",
      "🤖 MediaPipe: 000027.png (1 mãos)\n",
      "🤖 MediaPipe: 000038.png (1 mãos)\n",
      "🤖 MediaPipe: 000028.png (1 mãos)\n",
      "🤖 MediaPipe: 000051.png (1 mãos)\n",
      "🤖 MediaPipe: 000035.png (1 mãos)\n",
      "🤖 MediaPipe: 000036.png (1 mãos)\n",
      "🤖 MediaPipe: 000012.png (1 mãos)\n",
      "🤖 MediaPipe: 000001.png (1 mãos)\n",
      "🤖 MediaPipe: 000059.png (1 mãos)\n",
      "🤖 MediaPipe: 000037.png (1 mãos)\n",
      "🤖 MediaPipe: 000004.png (1 mãos)\n",
      "🤖 MediaPipe: 000053.png (1 mãos)\n",
      "🤖 MediaPipe: 000046.png (1 mãos)\n",
      "🤖 MediaPipe: 000016.png (1 mãos)\n",
      "🤖 MediaPipe: 000006.png (1 mãos)\n",
      "🤖 MediaPipe: 000055.png (1 mãos)\n",
      "🤖 MediaPipe: 000043.png (1 mãos)\n",
      "🤖 MediaPipe: 000039.png (1 mãos)\n",
      "🤖 MediaPipe: 000025.png (1 mãos)\n",
      "🤖 MediaPipe: 000058.png (2 mãos)\n",
      "🤖 MediaPipe: 000060.png (1 mãos)\n",
      "🤖 MediaPipe: 000050.png (1 mãos)\n",
      "🤖 MediaPipe: 000031.png (1 mãos)\n",
      "🤖 MediaPipe: 000003.png (1 mãos)\n",
      "🤖 MediaPipe: 000002.png (1 mãos)\n",
      "🤖 MediaPipe: 000030.png (1 mãos)\n",
      "🤖 MediaPipe: 000032.png (1 mãos)\n",
      "🤖 MediaPipe: 000021.png (1 mãos)\n",
      "🤖 MediaPipe: 000040.png (1 mãos)\n",
      "🤖 MediaPipe: 000013.png (1 mãos)\n",
      "🤖 MediaPipe: 000014.png (1 mãos)\n",
      "🤖 MediaPipe: 000057.png (1 mãos)\n",
      "🤖 MediaPipe: 000005.png (1 mãos)\n",
      "🤖 MediaPipe: 000033.png (1 mãos)\n",
      "📊 Processadas 850 imagens (JSON: 0, MediaPipe: 850)\n",
      "🤖 MediaPipe: 000029.png (1 mãos)\n",
      "🤖 MediaPipe: 000027.png (1 mãos)\n",
      "🤖 MediaPipe: 000028.png (1 mãos)\n",
      "🤖 MediaPipe: 000024.png (1 mãos)\n",
      "🤖 MediaPipe: 000035.png (1 mãos)\n",
      "🤖 MediaPipe: 000022.png (1 mãos)\n",
      "🤖 MediaPipe: 000012.png (1 mãos)\n",
      "🤖 MediaPipe: 000034.png (1 mãos)\n",
      "🤖 MediaPipe: 000018.png (1 mãos)\n",
      "🤖 MediaPipe: 000001.png (1 mãos)\n",
      "🤖 MediaPipe: 000023.png (1 mãos)\n",
      "🤖 MediaPipe: 000056.png (1 mãos)\n",
      "🤖 MediaPipe: 000020.png (1 mãos)\n",
      "🤖 MediaPipe: 000026.png (1 mãos)\n",
      "🤖 MediaPipe: 000059.png (2 mãos)\n",
      "🤖 MediaPipe: 000044.png (1 mãos)\n",
      "🤖 MediaPipe: 000041.png (1 mãos)\n",
      "🤖 MediaPipe: 000017.png (1 mãos)\n",
      "🤖 MediaPipe: 000015.png (1 mãos)\n",
      "🤖 MediaPipe: 000019.png (1 mãos)\n",
      "🤖 MediaPipe: 000042.png (1 mãos)\n",
      "🤖 MediaPipe: 000004.png (1 mãos)\n",
      "🤖 MediaPipe: 000011.png (1 mãos)\n",
      "🤖 MediaPipe: 000008.png (1 mãos)\n",
      "🤖 MediaPipe: 000025.png (1 mãos)\n",
      "🤖 MediaPipe: 000030.png (1 mãos)\n",
      "🤖 MediaPipe: 000013.png (1 mãos)\n",
      "🤖 MediaPipe: 000029.png (1 mãos)\n",
      "🤖 MediaPipe: 000027.png (1 mãos)\n",
      "🤖 MediaPipe: 000028.png (1 mãos)\n",
      "🤖 MediaPipe: 000024.png (1 mãos)\n",
      "🤖 MediaPipe: 000022.png (1 mãos)\n",
      "🤖 MediaPipe: 000012.png (1 mãos)\n",
      "🤖 MediaPipe: 000009.png (1 mãos)\n",
      "🤖 MediaPipe: 000026.png (1 mãos)\n",
      "🤖 MediaPipe: 000010.png (1 mãos)\n",
      "🤖 MediaPipe: 000011.png (1 mãos)\n",
      "🤖 MediaPipe: 000013.png (1 mãos)\n",
      "🤖 MediaPipe: 000046.png (1 mãos)\n",
      "\n",
      "🎉 Dataset de mãos processado:\n",
      "   Total: 889 imagens\n",
      "   JSON: 0 imagens\n",
      "   MediaPipe: 889 imagens\n",
      "✅ Mãos processadas: 889\n",
      "\n",
      "=== Dataset Combinado Criado ===\n",
      "📊 Total de imagens: 3898\n",
      "🔧 Instrumentos: 3009\n",
      "👋 Mãos: 889\n",
      "🏷️ Classes: ['needle', 'clamp', 'curved_scissor', 'straight_scissor', 'left_hand', 'right_hand']\n",
      "🚀 Iniciando treino com dataset combinado...\n",
      "New https://pypi.org/project/ultralytics/8.3.145 available 😃 Update with 'pip install -U ultralytics'\n",
      "Ultralytics 8.3.139 🚀 Python-3.10.16 torch-2.7.0+cu128 CUDA:0 (NVIDIA RTX A6000, 48548MiB)\n",
      "\u001b[34m\u001b[1mengine/trainer: \u001b[0magnostic_nms=False, amp=True, augment=False, auto_augment=randaugment, batch=8, bgr=0.0, box=7.5, cache=False, cfg=None, classes=None, close_mosaic=10, cls=0.5, conf=None, copy_paste=0.3, copy_paste_mode=flip, cos_lr=False, cutmix=0.0, data=combined_surgical_dataset/data.yaml, degrees=15.0, deterministic=True, device=None, dfl=1.5, dnn=False, dropout=0.2, dynamic=False, embed=None, epochs=150, erasing=0.4, exist_ok=False, fliplr=0.5, flipud=0.0, format=torchscript, fraction=1.0, freeze=None, half=False, hsv_h=0.015, hsv_s=0.7, hsv_v=0.4, imgsz=640, int8=False, iou=0.7, keras=False, kobj=1.0, line_width=None, lr0=0.001, lrf=0.01, mask_ratio=4, max_det=300, mixup=0.15, mode=train, model=yolo11n.pt, momentum=0.98, mosaic=1.0, multi_scale=False, name=train112, nbs=64, nms=False, opset=None, optimize=False, optimizer=auto, overlap_mask=True, patience=50, perspective=0.0001, plots=True, pose=12.0, pretrained=True, profile=False, project=None, rect=False, resume=False, retina_masks=False, save=True, save_conf=False, save_crop=False, save_dir=runs/detect/train112, save_frames=False, save_json=False, save_period=10, save_txt=False, scale=0.5, seed=0, shear=5.0, show=False, show_boxes=True, show_conf=True, show_labels=True, simplify=True, single_cls=False, source=None, split=val, stream_buffer=False, task=detect, time=None, tracker=botsort.yaml, translate=0.1, val=True, verbose=True, vid_stride=1, visualize=False, warmup_bias_lr=0.1, warmup_epochs=10, warmup_momentum=0.8, weight_decay=0.0005, workers=8, workspace=None\n",
      "Overriding model.yaml nc=80 with nc=6\n",
      "\n",
      "                   from  n    params  module                                       arguments                     \n",
      "  0                  -1  1       464  ultralytics.nn.modules.conv.Conv             [3, 16, 3, 2]                 \n",
      "  1                  -1  1      4672  ultralytics.nn.modules.conv.Conv             [16, 32, 3, 2]                \n",
      "  2                  -1  1      6640  ultralytics.nn.modules.block.C3k2            [32, 64, 1, False, 0.25]      \n",
      "  3                  -1  1     36992  ultralytics.nn.modules.conv.Conv             [64, 64, 3, 2]                \n",
      "  4                  -1  1     26080  ultralytics.nn.modules.block.C3k2            [64, 128, 1, False, 0.25]     \n",
      "  5                  -1  1    147712  ultralytics.nn.modules.conv.Conv             [128, 128, 3, 2]              \n",
      "  6                  -1  1     87040  ultralytics.nn.modules.block.C3k2            [128, 128, 1, True]           \n",
      "  7                  -1  1    295424  ultralytics.nn.modules.conv.Conv             [128, 256, 3, 2]              \n",
      "  8                  -1  1    346112  ultralytics.nn.modules.block.C3k2            [256, 256, 1, True]           \n",
      "  9                  -1  1    164608  ultralytics.nn.modules.block.SPPF            [256, 256, 5]                 \n",
      " 10                  -1  1    249728  ultralytics.nn.modules.block.C2PSA           [256, 256, 1]                 \n",
      " 11                  -1  1         0  torch.nn.modules.upsampling.Upsample         [None, 2, 'nearest']          \n",
      " 12             [-1, 6]  1         0  ultralytics.nn.modules.conv.Concat           [1]                           \n",
      " 13                  -1  1    111296  ultralytics.nn.modules.block.C3k2            [384, 128, 1, False]          \n",
      " 14                  -1  1         0  torch.nn.modules.upsampling.Upsample         [None, 2, 'nearest']          \n",
      " 15             [-1, 4]  1         0  ultralytics.nn.modules.conv.Concat           [1]                           \n",
      " 16                  -1  1     32096  ultralytics.nn.modules.block.C3k2            [256, 64, 1, False]           \n",
      " 17                  -1  1     36992  ultralytics.nn.modules.conv.Conv             [64, 64, 3, 2]                \n",
      " 18            [-1, 13]  1         0  ultralytics.nn.modules.conv.Concat           [1]                           \n",
      " 19                  -1  1     86720  ultralytics.nn.modules.block.C3k2            [192, 128, 1, False]          \n",
      " 20                  -1  1    147712  ultralytics.nn.modules.conv.Conv             [128, 128, 3, 2]              \n",
      " 21            [-1, 10]  1         0  ultralytics.nn.modules.conv.Concat           [1]                           \n",
      " 22                  -1  1    378880  ultralytics.nn.modules.block.C3k2            [384, 256, 1, True]           \n",
      " 23        [16, 19, 22]  1    431842  ultralytics.nn.modules.head.Detect           [6, [64, 128, 256]]           \n",
      "YOLO11n summary: 181 layers, 2,591,010 parameters, 2,590,994 gradients, 6.4 GFLOPs\n",
      "\n",
      "Transferred 448/499 items from pretrained weights\n",
      "Freezing layer 'model.23.dfl.conv.weight'\n",
      "\u001b[34m\u001b[1mAMP: \u001b[0mrunning Automatic Mixed Precision (AMP) checks...\n",
      "\u001b[34m\u001b[1mAMP: \u001b[0mchecks passed ✅\n",
      "\u001b[34m\u001b[1mtrain: \u001b[0mFast image access ✅ (ping: 0.0±0.0 ms, read: 1131.9±540.1 MB/s, size: 51.0 KB)\n"
     ]
    },
    {
     "name": "stderr",
     "output_type": "stream",
     "text": [
      "\u001b[34m\u001b[1mtrain: \u001b[0mScanning /mounts/grupo1/combined_surgical_dataset/labels/train... 3984 images, 0 backgrounds, 0 corrupt: 100%|██████████| 3984/3984 [00:04<00:00, 934.66it/s] \n"
     ]
    },
    {
     "name": "stdout",
     "output_type": "stream",
     "text": [
      "\u001b[34m\u001b[1mtrain: \u001b[0mNew cache created: /mounts/grupo1/combined_surgical_dataset/labels/train.cache\n",
      "\u001b[34m\u001b[1malbumentations: \u001b[0mBlur(p=0.01, blur_limit=(3, 7)), MedianBlur(p=0.01, blur_limit=(3, 7)), ToGray(p=0.01, method='weighted_average', num_output_channels=3), CLAHE(p=0.01, clip_limit=(1.0, 4.0), tile_grid_size=(8, 8))\n",
      "\u001b[34m\u001b[1mval: \u001b[0mFast image access ✅ (ping: 0.0±0.0 ms, read: 507.2±158.3 MB/s, size: 59.4 KB)\n"
     ]
    },
    {
     "name": "stderr",
     "output_type": "stream",
     "text": [
      "\u001b[34m\u001b[1mval: \u001b[0mScanning /mounts/grupo1/combined_surgical_dataset/labels/train.cache... 3984 images, 0 backgrounds, 0 corrupt: 100%|██████████| 3984/3984 [00:00<?, ?it/s]\n"
     ]
    },
    {
     "name": "stdout",
     "output_type": "stream",
     "text": [
      "Plotting labels to runs/detect/train112/labels.jpg... \n",
      "\u001b[34m\u001b[1moptimizer:\u001b[0m 'optimizer=auto' found, ignoring 'lr0=0.001' and 'momentum=0.98' and determining best 'optimizer', 'lr0' and 'momentum' automatically... \n",
      "\u001b[34m\u001b[1moptimizer:\u001b[0m AdamW(lr=0.001, momentum=0.9) with parameter groups 81 weight(decay=0.0), 88 weight(decay=0.0005), 87 bias(decay=0.0)\n",
      "Image sizes 640 train, 640 val\n",
      "Using 8 dataloader workers\n",
      "Logging results to \u001b[1mruns/detect/train112\u001b[0m\n",
      "Starting training for 150 epochs...\n",
      "\n",
      "      Epoch    GPU_mem   box_loss   cls_loss   dfl_loss  Instances       Size\n"
     ]
    },
    {
     "name": "stderr",
     "output_type": "stream",
     "text": [
      "      1/150       1.2G      1.739      3.303      1.733         20        640: 100%|██████████| 498/498 [01:02<00:00,  7.95it/s]\n",
      "                 Class     Images  Instances      Box(P          R      mAP50  mAP50-95): 100%|██████████| 249/249 [00:30<00:00,  8.13it/s]\n"
     ]
    },
    {
     "name": "stdout",
     "output_type": "stream",
     "text": [
      "                   all       3984       5287      0.426      0.666       0.49      0.264\n",
      "\n",
      "      Epoch    GPU_mem   box_loss   cls_loss   dfl_loss  Instances       Size\n"
     ]
    },
    {
     "name": "stderr",
     "output_type": "stream",
     "text": [
      "      2/150      1.39G      1.557      2.447      1.548         32        640: 100%|██████████| 498/498 [00:56<00:00,  8.81it/s]\n",
      "                 Class     Images  Instances      Box(P          R      mAP50  mAP50-95): 100%|██████████| 249/249 [00:30<00:00,  8.24it/s]\n"
     ]
    },
    {
     "name": "stdout",
     "output_type": "stream",
     "text": [
      "                   all       3984       5287      0.527      0.689      0.604      0.363\n",
      "\n",
      "      Epoch    GPU_mem   box_loss   cls_loss   dfl_loss  Instances       Size\n"
     ]
    },
    {
     "name": "stderr",
     "output_type": "stream",
     "text": [
      "      3/150      1.41G      1.502      2.123      1.512         27        640: 100%|██████████| 498/498 [00:57<00:00,  8.59it/s]\n",
      "                 Class     Images  Instances      Box(P          R      mAP50  mAP50-95): 100%|██████████| 249/249 [00:30<00:00,  8.29it/s]\n"
     ]
    },
    {
     "name": "stdout",
     "output_type": "stream",
     "text": [
      "                   all       3984       5287      0.521      0.727      0.658      0.406\n",
      "\n",
      "      Epoch    GPU_mem   box_loss   cls_loss   dfl_loss  Instances       Size\n"
     ]
    },
    {
     "name": "stderr",
     "output_type": "stream",
     "text": [
      "      4/150      1.41G      1.498      1.954      1.509         20        640: 100%|██████████| 498/498 [00:57<00:00,  8.70it/s]\n",
      "                 Class     Images  Instances      Box(P          R      mAP50  mAP50-95): 100%|██████████| 249/249 [00:29<00:00,  8.40it/s]\n"
     ]
    },
    {
     "name": "stdout",
     "output_type": "stream",
     "text": [
      "                   all       3984       5287      0.605      0.748       0.67        0.4\n",
      "\n",
      "      Epoch    GPU_mem   box_loss   cls_loss   dfl_loss  Instances       Size\n"
     ]
    },
    {
     "name": "stderr",
     "output_type": "stream",
     "text": [
      "      5/150      1.41G      1.493       1.84      1.507         28        640: 100%|██████████| 498/498 [00:55<00:00,  8.94it/s]\n",
      "                 Class     Images  Instances      Box(P          R      mAP50  mAP50-95): 100%|██████████| 249/249 [00:28<00:00,  8.68it/s]\n"
     ]
    },
    {
     "name": "stdout",
     "output_type": "stream",
     "text": [
      "                   all       3984       5287      0.538      0.699      0.611      0.367\n",
      "\n",
      "      Epoch    GPU_mem   box_loss   cls_loss   dfl_loss  Instances       Size\n"
     ]
    },
    {
     "name": "stderr",
     "output_type": "stream",
     "text": [
      "      6/150      1.41G       1.49      1.755      1.497         31        640: 100%|██████████| 498/498 [00:55<00:00,  8.90it/s]\n",
      "                 Class     Images  Instances      Box(P          R      mAP50  mAP50-95): 100%|██████████| 249/249 [00:29<00:00,  8.30it/s]\n"
     ]
    },
    {
     "name": "stdout",
     "output_type": "stream",
     "text": [
      "                   all       3984       5287      0.571      0.752       0.67       0.46\n",
      "\n",
      "      Epoch    GPU_mem   box_loss   cls_loss   dfl_loss  Instances       Size\n"
     ]
    },
    {
     "name": "stderr",
     "output_type": "stream",
     "text": [
      "      7/150      1.41G      1.468      1.677       1.48         27        640: 100%|██████████| 498/498 [00:55<00:00,  9.02it/s]\n",
      "                 Class     Images  Instances      Box(P          R      mAP50  mAP50-95): 100%|██████████| 249/249 [00:30<00:00,  8.19it/s]\n"
     ]
    },
    {
     "name": "stdout",
     "output_type": "stream",
     "text": [
      "                   all       3984       5287      0.624      0.769      0.712      0.483\n",
      "\n",
      "      Epoch    GPU_mem   box_loss   cls_loss   dfl_loss  Instances       Size\n"
     ]
    },
    {
     "name": "stderr",
     "output_type": "stream",
     "text": [
      "      8/150      1.41G      1.454       1.67      1.479         21        640: 100%|██████████| 498/498 [00:54<00:00,  9.08it/s]\n",
      "                 Class     Images  Instances      Box(P          R      mAP50  mAP50-95): 100%|██████████| 249/249 [00:29<00:00,  8.31it/s]"
     ]
    },
    {
     "name": "stdout",
     "output_type": "stream",
     "text": [
      "                   all       3984       5287      0.605       0.79      0.722      0.512\n"
     ]
    },
    {
     "name": "stderr",
     "output_type": "stream",
     "text": [
      "\n"
     ]
    },
    {
     "name": "stdout",
     "output_type": "stream",
     "text": [
      "\n",
      "      Epoch    GPU_mem   box_loss   cls_loss   dfl_loss  Instances       Size\n"
     ]
    },
    {
     "name": "stderr",
     "output_type": "stream",
     "text": [
      "      9/150      1.41G      1.438       1.62       1.47         23        640: 100%|██████████| 498/498 [00:56<00:00,  8.85it/s]\n",
      "                 Class     Images  Instances      Box(P          R      mAP50  mAP50-95): 100%|██████████| 249/249 [00:28<00:00,  8.70it/s]\n"
     ]
    },
    {
     "name": "stdout",
     "output_type": "stream",
     "text": [
      "                   all       3984       5287      0.656      0.767      0.706      0.454\n",
      "\n",
      "      Epoch    GPU_mem   box_loss   cls_loss   dfl_loss  Instances       Size\n"
     ]
    },
    {
     "name": "stderr",
     "output_type": "stream",
     "text": [
      "    111/150      1.41G     0.7693     0.6937      1.058         30        640: 100%|██████████| 498/498 [00:46<00:00, 10.72it/s]\n",
      "                 Class     Images  Instances      Box(P          R      mAP50  mAP50-95): 100%|██████████| 249/249 [00:19<00:00, 12.64it/s]"
     ]
    },
    {
     "name": "stdout",
     "output_type": "stream",
     "text": [
      "                   all       3984       5287      0.962      0.955      0.986      0.859\n"
     ]
    },
    {
     "name": "stderr",
     "output_type": "stream",
     "text": [
      "\n"
     ]
    },
    {
     "name": "stdout",
     "output_type": "stream",
     "text": [
      "\n",
      "      Epoch    GPU_mem   box_loss   cls_loss   dfl_loss  Instances       Size\n"
     ]
    },
    {
     "name": "stderr",
     "output_type": "stream",
     "text": [
      "    112/150      1.41G     0.7748     0.6976      1.062         35        640: 100%|██████████| 498/498 [00:48<00:00, 10.28it/s]\n",
      "                 Class     Images  Instances      Box(P          R      mAP50  mAP50-95): 100%|██████████| 249/249 [00:20<00:00, 12.38it/s]"
     ]
    },
    {
     "name": "stdout",
     "output_type": "stream",
     "text": [
      "                   all       3984       5287      0.963      0.958      0.986      0.868\n"
     ]
    },
    {
     "name": "stderr",
     "output_type": "stream",
     "text": [
      "\n"
     ]
    },
    {
     "name": "stdout",
     "output_type": "stream",
     "text": [
      "\n",
      "      Epoch    GPU_mem   box_loss   cls_loss   dfl_loss  Instances       Size\n"
     ]
    },
    {
     "name": "stderr",
     "output_type": "stream",
     "text": [
      "    113/150      1.41G     0.7627     0.6855      1.055         34        640: 100%|██████████| 498/498 [00:48<00:00, 10.31it/s]\n",
      "                 Class     Images  Instances      Box(P          R      mAP50  mAP50-95): 100%|██████████| 249/249 [00:20<00:00, 11.90it/s]"
     ]
    },
    {
     "name": "stdout",
     "output_type": "stream",
     "text": [
      "                   all       3984       5287       0.96      0.963      0.987      0.869\n"
     ]
    },
    {
     "name": "stderr",
     "output_type": "stream",
     "text": [
      "\n"
     ]
    },
    {
     "name": "stdout",
     "output_type": "stream",
     "text": [
      "\n",
      "      Epoch    GPU_mem   box_loss   cls_loss   dfl_loss  Instances       Size\n"
     ]
    },
    {
     "name": "stderr",
     "output_type": "stream",
     "text": [
      "    114/150      1.41G     0.7642     0.6947      1.063         28        640: 100%|██████████| 498/498 [00:47<00:00, 10.43it/s]\n",
      "                 Class     Images  Instances      Box(P          R      mAP50  mAP50-95): 100%|██████████| 249/249 [00:18<00:00, 13.14it/s]\n"
     ]
    },
    {
     "name": "stdout",
     "output_type": "stream",
     "text": [
      "                   all       3984       5287      0.964       0.96      0.987      0.876\n",
      "\n",
      "      Epoch    GPU_mem   box_loss   cls_loss   dfl_loss  Instances       Size\n"
     ]
    },
    {
     "name": "stderr",
     "output_type": "stream",
     "text": [
      "    115/150      1.41G     0.7566     0.6811      1.054         30        640: 100%|██████████| 498/498 [00:47<00:00, 10.44it/s]\n",
      "                 Class     Images  Instances      Box(P          R      mAP50  mAP50-95): 100%|██████████| 249/249 [00:19<00:00, 12.55it/s]\n"
     ]
    },
    {
     "name": "stdout",
     "output_type": "stream",
     "text": [
      "                   all       3984       5287      0.963      0.961      0.987      0.884\n",
      "\n",
      "      Epoch    GPU_mem   box_loss   cls_loss   dfl_loss  Instances       Size\n"
     ]
    },
    {
     "name": "stderr",
     "output_type": "stream",
     "text": [
      "    116/150      1.41G     0.7512     0.6748      1.049         28        640: 100%|██████████| 498/498 [00:49<00:00, 10.00it/s]\n",
      "                 Class     Images  Instances      Box(P          R      mAP50  mAP50-95): 100%|██████████| 249/249 [00:20<00:00, 12.22it/s]\n"
     ]
    },
    {
     "name": "stdout",
     "output_type": "stream",
     "text": [
      "                   all       3984       5287      0.963      0.963      0.987      0.886\n",
      "\n",
      "      Epoch    GPU_mem   box_loss   cls_loss   dfl_loss  Instances       Size\n"
     ]
    },
    {
     "name": "stderr",
     "output_type": "stream",
     "text": [
      "    117/150      1.41G     0.7508     0.6782      1.053         28        640: 100%|██████████| 498/498 [00:47<00:00, 10.38it/s]\n",
      "                 Class     Images  Instances      Box(P          R      mAP50  mAP50-95): 100%|██████████| 249/249 [00:19<00:00, 12.78it/s]"
     ]
    },
    {
     "name": "stdout",
     "output_type": "stream",
     "text": [
      "                   all       3984       5287      0.962      0.963      0.987       0.88\n"
     ]
    },
    {
     "name": "stderr",
     "output_type": "stream",
     "text": [
      "\n"
     ]
    },
    {
     "name": "stdout",
     "output_type": "stream",
     "text": [
      "\n",
      "      Epoch    GPU_mem   box_loss   cls_loss   dfl_loss  Instances       Size\n"
     ]
    },
    {
     "name": "stderr",
     "output_type": "stream",
     "text": [
      "    118/150      1.41G     0.7486     0.6748      1.048         24        640: 100%|██████████| 498/498 [00:47<00:00, 10.45it/s]\n",
      "                 Class     Images  Instances      Box(P          R      mAP50  mAP50-95): 100%|██████████| 249/249 [00:20<00:00, 12.32it/s]"
     ]
    },
    {
     "name": "stdout",
     "output_type": "stream",
     "text": [
      "                   all       3984       5287      0.963      0.965      0.987      0.886\n"
     ]
    },
    {
     "name": "stderr",
     "output_type": "stream",
     "text": [
      "\n"
     ]
    },
    {
     "name": "stdout",
     "output_type": "stream",
     "text": [
      "\n",
      "      Epoch    GPU_mem   box_loss   cls_loss   dfl_loss  Instances       Size\n"
     ]
    },
    {
     "name": "stderr",
     "output_type": "stream",
     "text": [
      "    119/150      1.41G     0.7449     0.6594      1.049         31        640: 100%|██████████| 498/498 [00:47<00:00, 10.48it/s]\n",
      "                 Class     Images  Instances      Box(P          R      mAP50  mAP50-95): 100%|██████████| 249/249 [00:19<00:00, 12.50it/s]"
     ]
    },
    {
     "name": "stdout",
     "output_type": "stream",
     "text": [
      "                   all       3984       5287       0.96      0.967      0.987      0.886\n"
     ]
    },
    {
     "name": "stderr",
     "output_type": "stream",
     "text": [
      "\n"
     ]
    },
    {
     "name": "stdout",
     "output_type": "stream",
     "text": [
      "\n",
      "      Epoch    GPU_mem   box_loss   cls_loss   dfl_loss  Instances       Size\n"
     ]
    },
    {
     "name": "stderr",
     "output_type": "stream",
     "text": [
      "    120/150      1.41G     0.7486     0.6722       1.05         31        640: 100%|██████████| 498/498 [00:47<00:00, 10.45it/s]\n",
      "                 Class     Images  Instances      Box(P          R      mAP50  mAP50-95): 100%|██████████| 249/249 [00:20<00:00, 12.15it/s]"
     ]
    },
    {
     "name": "stdout",
     "output_type": "stream",
     "text": [
      "                   all       3984       5287      0.964      0.964      0.987      0.888\n"
     ]
    },
    {
     "name": "stderr",
     "output_type": "stream",
     "text": [
      "\n"
     ]
    },
    {
     "name": "stdout",
     "output_type": "stream",
     "text": [
      "\n",
      "      Epoch    GPU_mem   box_loss   cls_loss   dfl_loss  Instances       Size\n"
     ]
    },
    {
     "name": "stderr",
     "output_type": "stream",
     "text": [
      "    121/150      1.41G     0.7392     0.6621      1.044         26        640: 100%|██████████| 498/498 [00:47<00:00, 10.45it/s]\n",
      "                 Class     Images  Instances      Box(P          R      mAP50  mAP50-95): 100%|██████████| 249/249 [00:19<00:00, 12.48it/s]\n"
     ]
    },
    {
     "name": "stdout",
     "output_type": "stream",
     "text": [
      "                   all       3984       5287      0.963      0.964      0.987      0.889\n",
      "\n",
      "      Epoch    GPU_mem   box_loss   cls_loss   dfl_loss  Instances       Size\n"
     ]
    },
    {
     "name": "stderr",
     "output_type": "stream",
     "text": [
      "    122/150      1.41G     0.7442      0.677      1.047         23        640: 100%|██████████| 498/498 [00:48<00:00, 10.34it/s]\n",
      "                 Class     Images  Instances      Box(P          R      mAP50  mAP50-95): 100%|██████████| 249/249 [00:20<00:00, 12.44it/s]"
     ]
    },
    {
     "name": "stdout",
     "output_type": "stream",
     "text": [
      "                   all       3984       5287      0.965      0.963      0.987      0.891\n"
     ]
    },
    {
     "name": "stderr",
     "output_type": "stream",
     "text": [
      "\n"
     ]
    },
    {
     "name": "stdout",
     "output_type": "stream",
     "text": [
      "\n",
      "      Epoch    GPU_mem   box_loss   cls_loss   dfl_loss  Instances       Size\n"
     ]
    },
    {
     "name": "stderr",
     "output_type": "stream",
     "text": [
      "    123/150      1.41G      0.734     0.6473       1.04         21        640: 100%|██████████| 498/498 [00:47<00:00, 10.40it/s]\n",
      "                 Class     Images  Instances      Box(P          R      mAP50  mAP50-95): 100%|██████████| 249/249 [00:19<00:00, 12.46it/s]"
     ]
    },
    {
     "name": "stdout",
     "output_type": "stream",
     "text": [
      "                   all       3984       5287      0.964      0.964      0.987      0.891\n"
     ]
    },
    {
     "name": "stderr",
     "output_type": "stream",
     "text": [
      "\n"
     ]
    },
    {
     "name": "stdout",
     "output_type": "stream",
     "text": [
      "\n",
      "      Epoch    GPU_mem   box_loss   cls_loss   dfl_loss  Instances       Size\n"
     ]
    },
    {
     "name": "stderr",
     "output_type": "stream",
     "text": [
      "    124/150      1.41G     0.7472     0.6714      1.046         31        640: 100%|██████████| 498/498 [00:48<00:00, 10.36it/s]\n",
      "                 Class     Images  Instances      Box(P          R      mAP50  mAP50-95): 100%|██████████| 249/249 [00:19<00:00, 12.46it/s]\n"
     ]
    },
    {
     "name": "stdout",
     "output_type": "stream",
     "text": [
      "                   all       3984       5287      0.966      0.962      0.987      0.891\n",
      "\n",
      "      Epoch    GPU_mem   box_loss   cls_loss   dfl_loss  Instances       Size\n"
     ]
    },
    {
     "name": "stderr",
     "output_type": "stream",
     "text": [
      "    125/150      1.41G     0.7312     0.6503      1.038         21        640: 100%|██████████| 498/498 [00:47<00:00, 10.40it/s]\n",
      "                 Class     Images  Instances      Box(P          R      mAP50  mAP50-95): 100%|██████████| 249/249 [00:19<00:00, 12.76it/s]\n"
     ]
    },
    {
     "name": "stdout",
     "output_type": "stream",
     "text": [
      "                   all       3984       5287      0.968      0.961      0.988      0.887\n",
      "\n",
      "      Epoch    GPU_mem   box_loss   cls_loss   dfl_loss  Instances       Size\n"
     ]
    },
    {
     "name": "stderr",
     "output_type": "stream",
     "text": [
      "    126/150      1.41G     0.7211     0.6382      1.032         23        640: 100%|██████████| 498/498 [00:47<00:00, 10.58it/s]\n",
      "                 Class     Images  Instances      Box(P          R      mAP50  mAP50-95): 100%|██████████| 249/249 [00:19<00:00, 12.57it/s]"
     ]
    },
    {
     "name": "stdout",
     "output_type": "stream",
     "text": [
      "                   all       3984       5287       0.97      0.962      0.988      0.888\n"
     ]
    },
    {
     "name": "stderr",
     "output_type": "stream",
     "text": [
      "\n"
     ]
    },
    {
     "name": "stdout",
     "output_type": "stream",
     "text": [
      "\n",
      "      Epoch    GPU_mem   box_loss   cls_loss   dfl_loss  Instances       Size\n"
     ]
    },
    {
     "name": "stderr",
     "output_type": "stream",
     "text": [
      "    127/150      1.41G     0.7288     0.6414      1.034         23        640: 100%|██████████| 498/498 [00:47<00:00, 10.50it/s]\n",
      "                 Class     Images  Instances      Box(P          R      mAP50  mAP50-95): 100%|██████████| 249/249 [00:20<00:00, 12.37it/s]"
     ]
    },
    {
     "name": "stdout",
     "output_type": "stream",
     "text": [
      "                   all       3984       5287      0.965      0.967      0.988      0.891\n"
     ]
    },
    {
     "name": "stderr",
     "output_type": "stream",
     "text": [
      "\n"
     ]
    },
    {
     "name": "stdout",
     "output_type": "stream",
     "text": [
      "\n",
      "      Epoch    GPU_mem   box_loss   cls_loss   dfl_loss  Instances       Size\n"
     ]
    },
    {
     "name": "stderr",
     "output_type": "stream",
     "text": [
      "    128/150      1.41G     0.7186     0.6382      1.035         20        640: 100%|██████████| 498/498 [00:47<00:00, 10.46it/s]\n",
      "                 Class     Images  Instances      Box(P          R      mAP50  mAP50-95): 100%|██████████| 249/249 [00:19<00:00, 12.52it/s]"
     ]
    },
    {
     "name": "stdout",
     "output_type": "stream",
     "text": [
      "                   all       3984       5287      0.962       0.97      0.988      0.891\n"
     ]
    },
    {
     "name": "stderr",
     "output_type": "stream",
     "text": [
      "\n"
     ]
    },
    {
     "name": "stdout",
     "output_type": "stream",
     "text": [
      "\n",
      "      Epoch    GPU_mem   box_loss   cls_loss   dfl_loss  Instances       Size\n"
     ]
    },
    {
     "name": "stderr",
     "output_type": "stream",
     "text": [
      "    129/150      1.41G      0.717      0.635      1.031         18        640: 100%|██████████| 498/498 [00:47<00:00, 10.44it/s]\n",
      "                 Class     Images  Instances      Box(P          R      mAP50  mAP50-95): 100%|██████████| 249/249 [00:20<00:00, 12.36it/s]"
     ]
    },
    {
     "name": "stdout",
     "output_type": "stream",
     "text": [
      "                   all       3984       5287      0.964      0.968      0.988      0.895\n"
     ]
    },
    {
     "name": "stderr",
     "output_type": "stream",
     "text": [
      "\n"
     ]
    },
    {
     "name": "stdout",
     "output_type": "stream",
     "text": [
      "\n",
      "      Epoch    GPU_mem   box_loss   cls_loss   dfl_loss  Instances       Size\n"
     ]
    },
    {
     "name": "stderr",
     "output_type": "stream",
     "text": [
      "    130/150      1.41G     0.7252      0.652      1.036         24        640: 100%|██████████| 498/498 [00:47<00:00, 10.48it/s]\n",
      "                 Class     Images  Instances      Box(P          R      mAP50  mAP50-95): 100%|██████████| 249/249 [00:19<00:00, 12.57it/s]"
     ]
    },
    {
     "name": "stdout",
     "output_type": "stream",
     "text": [
      "                   all       3984       5287      0.963      0.968      0.988      0.897\n"
     ]
    },
    {
     "name": "stderr",
     "output_type": "stream",
     "text": [
      "\n"
     ]
    },
    {
     "name": "stdout",
     "output_type": "stream",
     "text": [
      "\n",
      "      Epoch    GPU_mem   box_loss   cls_loss   dfl_loss  Instances       Size\n"
     ]
    },
    {
     "name": "stderr",
     "output_type": "stream",
     "text": [
      "    131/150      1.41G     0.7228     0.6426      1.038         30        640: 100%|██████████| 498/498 [00:47<00:00, 10.41it/s]\n",
      "                 Class     Images  Instances      Box(P          R      mAP50  mAP50-95): 100%|██████████| 249/249 [00:20<00:00, 12.24it/s]"
     ]
    },
    {
     "name": "stdout",
     "output_type": "stream",
     "text": [
      "                   all       3984       5287      0.963      0.968      0.988      0.896\n"
     ]
    },
    {
     "name": "stderr",
     "output_type": "stream",
     "text": [
      "\n"
     ]
    },
    {
     "name": "stdout",
     "output_type": "stream",
     "text": [
      "\n",
      "      Epoch    GPU_mem   box_loss   cls_loss   dfl_loss  Instances       Size\n"
     ]
    },
    {
     "name": "stderr",
     "output_type": "stream",
     "text": [
      "    132/150      1.41G     0.7175     0.6373      1.032         24        640: 100%|██████████| 498/498 [00:47<00:00, 10.53it/s]\n",
      "                 Class     Images  Instances      Box(P          R      mAP50  mAP50-95): 100%|██████████| 249/249 [00:20<00:00, 12.41it/s]"
     ]
    },
    {
     "name": "stdout",
     "output_type": "stream",
     "text": [
      "                   all       3984       5287      0.965      0.969      0.988      0.898\n"
     ]
    },
    {
     "name": "stderr",
     "output_type": "stream",
     "text": [
      "\n"
     ]
    },
    {
     "name": "stdout",
     "output_type": "stream",
     "text": [
      "\n",
      "      Epoch    GPU_mem   box_loss   cls_loss   dfl_loss  Instances       Size\n"
     ]
    },
    {
     "name": "stderr",
     "output_type": "stream",
     "text": [
      "    133/150      1.41G     0.7106     0.6335      1.029         26        640: 100%|██████████| 498/498 [00:48<00:00, 10.32it/s]\n",
      "                 Class     Images  Instances      Box(P          R      mAP50  mAP50-95): 100%|██████████| 249/249 [00:19<00:00, 12.57it/s]"
     ]
    },
    {
     "name": "stdout",
     "output_type": "stream",
     "text": [
      "                   all       3984       5287      0.967      0.967      0.988        0.9\n"
     ]
    },
    {
     "name": "stderr",
     "output_type": "stream",
     "text": [
      "\n"
     ]
    },
    {
     "name": "stdout",
     "output_type": "stream",
     "text": [
      "\n",
      "      Epoch    GPU_mem   box_loss   cls_loss   dfl_loss  Instances       Size\n"
     ]
    },
    {
     "name": "stderr",
     "output_type": "stream",
     "text": [
      "    134/150      1.41G     0.7206     0.6435      1.035         26        640: 100%|██████████| 498/498 [00:47<00:00, 10.39it/s]\n",
      "                 Class     Images  Instances      Box(P          R      mAP50  mAP50-95): 100%|██████████| 249/249 [00:19<00:00, 12.56it/s]"
     ]
    },
    {
     "name": "stdout",
     "output_type": "stream",
     "text": [
      "                   all       3984       5287      0.963      0.969      0.988        0.9\n"
     ]
    },
    {
     "name": "stderr",
     "output_type": "stream",
     "text": [
      "\n"
     ]
    },
    {
     "name": "stdout",
     "output_type": "stream",
     "text": [
      "\n",
      "      Epoch    GPU_mem   box_loss   cls_loss   dfl_loss  Instances       Size\n"
     ]
    },
    {
     "name": "stderr",
     "output_type": "stream",
     "text": [
      "    135/150      1.41G      0.714     0.6359      1.031         24        640: 100%|██████████| 498/498 [00:47<00:00, 10.41it/s]\n",
      "                 Class     Images  Instances      Box(P          R      mAP50  mAP50-95): 100%|██████████| 249/249 [00:19<00:00, 12.57it/s]"
     ]
    },
    {
     "name": "stdout",
     "output_type": "stream",
     "text": [
      "                   all       3984       5287      0.966      0.965      0.988        0.9\n"
     ]
    },
    {
     "name": "stderr",
     "output_type": "stream",
     "text": [
      "\n"
     ]
    },
    {
     "name": "stdout",
     "output_type": "stream",
     "text": [
      "\n",
      "      Epoch    GPU_mem   box_loss   cls_loss   dfl_loss  Instances       Size\n"
     ]
    },
    {
     "name": "stderr",
     "output_type": "stream",
     "text": [
      "    136/150      1.41G     0.7137     0.6263      1.031         22        640: 100%|██████████| 498/498 [00:47<00:00, 10.41it/s]\n",
      "                 Class     Images  Instances      Box(P          R      mAP50  mAP50-95): 100%|██████████| 249/249 [00:20<00:00, 12.20it/s]"
     ]
    },
    {
     "name": "stdout",
     "output_type": "stream",
     "text": [
      "                   all       3984       5287      0.967      0.968      0.988        0.9\n"
     ]
    },
    {
     "name": "stderr",
     "output_type": "stream",
     "text": [
      "\n"
     ]
    },
    {
     "name": "stdout",
     "output_type": "stream",
     "text": [
      "\n",
      "      Epoch    GPU_mem   box_loss   cls_loss   dfl_loss  Instances       Size\n"
     ]
    },
    {
     "name": "stderr",
     "output_type": "stream",
     "text": [
      "    137/150      1.41G     0.7069     0.6242      1.026         26        640: 100%|██████████| 498/498 [00:47<00:00, 10.43it/s]\n",
      "                 Class     Images  Instances      Box(P          R      mAP50  mAP50-95): 100%|██████████| 249/249 [00:19<00:00, 12.66it/s]"
     ]
    },
    {
     "name": "stdout",
     "output_type": "stream",
     "text": [
      "                   all       3984       5287       0.97      0.967      0.989        0.9\n"
     ]
    },
    {
     "name": "stderr",
     "output_type": "stream",
     "text": [
      "\n"
     ]
    },
    {
     "name": "stdout",
     "output_type": "stream",
     "text": [
      "\n",
      "      Epoch    GPU_mem   box_loss   cls_loss   dfl_loss  Instances       Size\n"
     ]
    },
    {
     "name": "stderr",
     "output_type": "stream",
     "text": [
      "    138/150      1.41G     0.7025      0.615      1.025         29        640: 100%|██████████| 498/498 [00:47<00:00, 10.54it/s]\n",
      "                 Class     Images  Instances      Box(P          R      mAP50  mAP50-95): 100%|██████████| 249/249 [00:19<00:00, 13.01it/s]\n"
     ]
    },
    {
     "name": "stdout",
     "output_type": "stream",
     "text": [
      "                   all       3984       5287      0.969      0.969      0.989      0.899\n",
      "\n",
      "      Epoch    GPU_mem   box_loss   cls_loss   dfl_loss  Instances       Size\n"
     ]
    },
    {
     "name": "stderr",
     "output_type": "stream",
     "text": [
      "    139/150      1.41G     0.7137     0.6292      1.034         24        640: 100%|██████████| 498/498 [00:48<00:00, 10.30it/s]\n",
      "                 Class     Images  Instances      Box(P          R      mAP50  mAP50-95): 100%|██████████| 249/249 [00:20<00:00, 12.29it/s]"
     ]
    },
    {
     "name": "stdout",
     "output_type": "stream",
     "text": [
      "                   all       3984       5287      0.973      0.967      0.989      0.897\n"
     ]
    },
    {
     "name": "stderr",
     "output_type": "stream",
     "text": [
      "\n"
     ]
    },
    {
     "name": "stdout",
     "output_type": "stream",
     "text": [
      "\n",
      "      Epoch    GPU_mem   box_loss   cls_loss   dfl_loss  Instances       Size\n"
     ]
    },
    {
     "name": "stderr",
     "output_type": "stream",
     "text": [
      "    140/150      1.41G     0.7131     0.6298      1.032         25        640: 100%|██████████| 498/498 [00:47<00:00, 10.38it/s]\n",
      "                 Class     Images  Instances      Box(P          R      mAP50  mAP50-95): 100%|██████████| 249/249 [00:19<00:00, 12.69it/s]\n"
     ]
    },
    {
     "name": "stdout",
     "output_type": "stream",
     "text": [
      "                   all       3984       5287      0.971      0.966      0.989      0.899\n",
      "Closing dataloader mosaic\n",
      "\u001b[34m\u001b[1malbumentations: \u001b[0mBlur(p=0.01, blur_limit=(3, 7)), MedianBlur(p=0.01, blur_limit=(3, 7)), ToGray(p=0.01, method='weighted_average', num_output_channels=3), CLAHE(p=0.01, clip_limit=(1.0, 4.0), tile_grid_size=(8, 8))\n",
      "\n",
      "      Epoch    GPU_mem   box_loss   cls_loss   dfl_loss  Instances       Size\n"
     ]
    },
    {
     "name": "stderr",
     "output_type": "stream",
     "text": [
      "    141/150      1.41G     0.5114     0.3511     0.8958         12        640: 100%|██████████| 498/498 [00:48<00:00, 10.26it/s]\n",
      "                 Class     Images  Instances      Box(P          R      mAP50  mAP50-95): 100%|██████████| 249/249 [00:20<00:00, 12.44it/s]"
     ]
    },
    {
     "name": "stdout",
     "output_type": "stream",
     "text": [
      "                   all       3984       5287      0.968       0.97      0.989        0.9\n"
     ]
    },
    {
     "name": "stderr",
     "output_type": "stream",
     "text": [
      "\n"
     ]
    },
    {
     "name": "stdout",
     "output_type": "stream",
     "text": [
      "\n",
      "      Epoch    GPU_mem   box_loss   cls_loss   dfl_loss  Instances       Size\n"
     ]
    },
    {
     "name": "stderr",
     "output_type": "stream",
     "text": [
      "    142/150      1.41G     0.5027     0.3351     0.8985         11        640: 100%|██████████| 498/498 [00:47<00:00, 10.53it/s]\n",
      "                 Class     Images  Instances      Box(P          R      mAP50  mAP50-95): 100%|██████████| 249/249 [00:20<00:00, 12.35it/s]\n"
     ]
    },
    {
     "name": "stdout",
     "output_type": "stream",
     "text": [
      "                   all       3984       5287      0.969      0.969      0.989      0.901\n",
      "\n",
      "      Epoch    GPU_mem   box_loss   cls_loss   dfl_loss  Instances       Size\n"
     ]
    },
    {
     "name": "stderr",
     "output_type": "stream",
     "text": [
      "    143/150      1.41G     0.4937     0.3265     0.8937         10        640: 100%|██████████| 498/498 [00:48<00:00, 10.31it/s]\n",
      "                 Class     Images  Instances      Box(P          R      mAP50  mAP50-95): 100%|██████████| 249/249 [00:20<00:00, 12.44it/s]\n"
     ]
    },
    {
     "name": "stdout",
     "output_type": "stream",
     "text": [
      "                   all       3984       5287      0.967       0.97      0.989        0.9\n",
      "\n",
      "      Epoch    GPU_mem   box_loss   cls_loss   dfl_loss  Instances       Size\n"
     ]
    },
    {
     "name": "stderr",
     "output_type": "stream",
     "text": [
      "    144/150      1.41G     0.4899      0.322     0.8917         10        640: 100%|██████████| 498/498 [00:47<00:00, 10.45it/s]\n",
      "                 Class     Images  Instances      Box(P          R      mAP50  mAP50-95): 100%|██████████| 249/249 [00:20<00:00, 12.33it/s]"
     ]
    },
    {
     "name": "stdout",
     "output_type": "stream",
     "text": [
      "                   all       3984       5287      0.967       0.97      0.989      0.901\n"
     ]
    },
    {
     "name": "stderr",
     "output_type": "stream",
     "text": [
      "\n"
     ]
    },
    {
     "name": "stdout",
     "output_type": "stream",
     "text": [
      "\n",
      "      Epoch    GPU_mem   box_loss   cls_loss   dfl_loss  Instances       Size\n"
     ]
    },
    {
     "name": "stderr",
     "output_type": "stream",
     "text": [
      "    145/150      1.41G     0.4878     0.3237     0.8871         10        640: 100%|██████████| 498/498 [00:47<00:00, 10.47it/s]\n",
      "                 Class     Images  Instances      Box(P          R      mAP50  mAP50-95): 100%|██████████| 249/249 [00:19<00:00, 12.64it/s]"
     ]
    },
    {
     "name": "stdout",
     "output_type": "stream",
     "text": [
      "                   all       3984       5287      0.965      0.972      0.989      0.901\n"
     ]
    },
    {
     "name": "stderr",
     "output_type": "stream",
     "text": [
      "\n"
     ]
    },
    {
     "name": "stdout",
     "output_type": "stream",
     "text": [
      "\n",
      "      Epoch    GPU_mem   box_loss   cls_loss   dfl_loss  Instances       Size\n"
     ]
    },
    {
     "name": "stderr",
     "output_type": "stream",
     "text": [
      "    146/150      1.41G     0.4845     0.3152     0.8927         12        640: 100%|██████████| 498/498 [00:47<00:00, 10.42it/s]\n",
      "                 Class     Images  Instances      Box(P          R      mAP50  mAP50-95): 100%|██████████| 249/249 [00:19<00:00, 12.50it/s]"
     ]
    },
    {
     "name": "stdout",
     "output_type": "stream",
     "text": [
      "                   all       3984       5287      0.971      0.966      0.989        0.9\n"
     ]
    },
    {
     "name": "stderr",
     "output_type": "stream",
     "text": [
      "\n"
     ]
    },
    {
     "name": "stdout",
     "output_type": "stream",
     "text": [
      "\n",
      "      Epoch    GPU_mem   box_loss   cls_loss   dfl_loss  Instances       Size\n"
     ]
    },
    {
     "name": "stderr",
     "output_type": "stream",
     "text": [
      "    147/150      1.41G     0.4817     0.3188     0.8894          9        640: 100%|██████████| 498/498 [00:47<00:00, 10.41it/s]\n",
      "                 Class     Images  Instances      Box(P          R      mAP50  mAP50-95): 100%|██████████| 249/249 [00:20<00:00, 12.01it/s]"
     ]
    },
    {
     "name": "stdout",
     "output_type": "stream",
     "text": [
      "                   all       3984       5287      0.973      0.965       0.99        0.9\n"
     ]
    },
    {
     "name": "stderr",
     "output_type": "stream",
     "text": [
      "\n"
     ]
    },
    {
     "name": "stdout",
     "output_type": "stream",
     "text": [
      "\n",
      "      Epoch    GPU_mem   box_loss   cls_loss   dfl_loss  Instances       Size\n"
     ]
    },
    {
     "name": "stderr",
     "output_type": "stream",
     "text": [
      "    148/150      1.41G     0.4756     0.3139     0.8879         13        640: 100%|██████████| 498/498 [00:47<00:00, 10.54it/s]\n",
      "                 Class     Images  Instances      Box(P          R      mAP50  mAP50-95): 100%|██████████| 249/249 [00:19<00:00, 12.56it/s]"
     ]
    },
    {
     "name": "stdout",
     "output_type": "stream",
     "text": [
      "                   all       3984       5287      0.969      0.968       0.99      0.901\n"
     ]
    },
    {
     "name": "stderr",
     "output_type": "stream",
     "text": [
      "\n"
     ]
    },
    {
     "name": "stdout",
     "output_type": "stream",
     "text": [
      "\n",
      "      Epoch    GPU_mem   box_loss   cls_loss   dfl_loss  Instances       Size\n"
     ]
    },
    {
     "name": "stderr",
     "output_type": "stream",
     "text": [
      "    149/150      1.41G      0.479     0.3174     0.8853         12        640: 100%|██████████| 498/498 [00:46<00:00, 10.71it/s]\n",
      "                 Class     Images  Instances      Box(P          R      mAP50  mAP50-95): 100%|██████████| 249/249 [00:19<00:00, 12.55it/s]"
     ]
    },
    {
     "name": "stdout",
     "output_type": "stream",
     "text": [
      "                   all       3984       5287      0.968       0.97       0.99      0.901\n"
     ]
    },
    {
     "name": "stderr",
     "output_type": "stream",
     "text": [
      "\n"
     ]
    },
    {
     "name": "stdout",
     "output_type": "stream",
     "text": [
      "\n",
      "      Epoch    GPU_mem   box_loss   cls_loss   dfl_loss  Instances       Size\n"
     ]
    },
    {
     "name": "stderr",
     "output_type": "stream",
     "text": [
      "    150/150      1.41G      0.474     0.3135     0.8872          9        640: 100%|██████████| 498/498 [00:48<00:00, 10.29it/s]\n",
      "                 Class     Images  Instances      Box(P          R      mAP50  mAP50-95): 100%|██████████| 249/249 [00:19<00:00, 12.64it/s]"
     ]
    },
    {
     "name": "stdout",
     "output_type": "stream",
     "text": [
      "                   all       3984       5287      0.969      0.969       0.99      0.903\n"
     ]
    },
    {
     "name": "stderr",
     "output_type": "stream",
     "text": [
      "\n"
     ]
    },
    {
     "name": "stdout",
     "output_type": "stream",
     "text": [
      "\n",
      "150 epochs completed in 2.856 hours.\n",
      "Optimizer stripped from runs/detect/train112/weights/last.pt, 5.5MB\n",
      "Optimizer stripped from runs/detect/train112/weights/best.pt, 5.5MB\n",
      "\n",
      "Validating runs/detect/train112/weights/best.pt...\n",
      "Ultralytics 8.3.139 🚀 Python-3.10.16 torch-2.7.0+cu128 CUDA:0 (NVIDIA RTX A6000, 48548MiB)\n",
      "YOLO11n summary (fused): 100 layers, 2,583,322 parameters, 0 gradients, 6.3 GFLOPs\n"
     ]
    },
    {
     "name": "stderr",
     "output_type": "stream",
     "text": [
      "                 Class     Images  Instances      Box(P          R      mAP50  mAP50-95): 100%|██████████| 249/249 [00:18<00:00, 13.52it/s]\n"
     ]
    },
    {
     "name": "stdout",
     "output_type": "stream",
     "text": [
      "                   all       3984       5287      0.969      0.969       0.99      0.902\n",
      "                needle       1038       1038      0.986      0.987      0.994      0.894\n",
      "                 clamp       1056       1056      0.961      0.977      0.991      0.873\n",
      "        curved_scissor        971        971      0.991      0.987      0.995      0.957\n",
      "      straight_scissor       1142       1142      0.995      0.996      0.995      0.959\n",
      "             left_hand        610        634      0.953      0.927      0.981      0.862\n",
      "            right_hand        429        446      0.931      0.938      0.983      0.869\n",
      "Speed: 0.1ms preprocess, 0.8ms inference, 0.0ms loss, 1.0ms postprocess per image\n",
      "Results saved to \u001b[1mruns/detect/train112\u001b[0m\n",
      "\n",
      "=== TREINO CONCLUÍDO ===\n",
      "🎯 Melhor mAP@0.5: 0.9897\n",
      "💾 Modelo salvo em: runs/detect/train/weights/best.pt\n",
      "\n",
      "=== SISTEMA DE TRACKING PRONTO ===\n",
      "🏷️ Classes detectáveis:\n",
      "  0: needle (agulha)\n",
      "  1: clamp (pinça)\n",
      "  2: curved_scissor (tesoura curva)\n",
      "  3: straight_scissor (tesoura reta)\n",
      "  4: left_hand (mão esquerda)\n",
      "  5: right_hand (mão direita)\n",
      "\n",
      "🚀 Para usar o tracking:\n",
      "tracker.track_video_with_hands('video_input.mp4', 'video_output.mp4')\n"
     ]
    }
   ],
   "source": [
    "def main():\n",
    "    \"\"\"Função principal\"\"\"\n",
    "    \n",
    "    # Configurações de caminhos\n",
    "    surgical_dataset_path = Path(\"yolo_dataset\")\n",
    "    hands_dataset_path = Path(\"surgical_hands_release\")\n",
    "    \n",
    "    # Verificar se os datasets existem\n",
    "    if not surgical_dataset_path.exists():\n",
    "        print(f\"❌ Dataset de instrumentos não encontrado: {surgical_dataset_path}\")\n",
    "        return\n",
    "    \n",
    "    if not hands_dataset_path.exists():\n",
    "        print(f\"❌ Dataset de mãos não encontrado: {hands_dataset_path}\")\n",
    "        return\n",
    "    \n",
    "    # Preparar dataset original se necessário\n",
    "    print(\"📁 Preparando dataset original de instrumentos...\")\n",
    "    yolo_dir = Path(\"yolo_dataset\")\n",
    "    if not yolo_dir.exists():\n",
    "        (yolo_dir / \"images/train\").mkdir(parents=True, exist_ok=True)\n",
    "        (yolo_dir / \"labels/train\").mkdir(parents=True, exist_ok=True)\n",
    "        \n",
    "        # Copiar dados originais\n",
    "        img_dir = surgical_dataset_path / \"Images\"\n",
    "        label_dir = surgical_dataset_path / \"Labels/label object names\"\n",
    "        \n",
    "        if img_dir.exists() and label_dir.exists():\n",
    "            for label_file in label_dir.glob(\"*.txt\"):\n",
    "                img_id = label_file.stem\n",
    "                img_file = img_dir / f\"{img_id}.jpg\"\n",
    "                if img_file.exists():\n",
    "                    shutil.copy(img_file, yolo_dir / \"images/train\" / f\"{img_id}.jpg\")\n",
    "                    shutil.copy(label_file, yolo_dir / \"labels/train\" / f\"{img_id}.txt\")\n",
    "    \n",
    "    # Inicializar trainer\n",
    "    trainer = AdvancedYOLOTrainer(\"yolo11n.pt\")\n",
    "    \n",
    "    # Preparar dataset combinado\n",
    "    combined_dataset_path = trainer.prepare_combined_dataset(\n",
    "        surgical_data_path=yolo_dir,\n",
    "        hands_dataset_path=hands_dataset_path\n",
    "    )\n",
    "    \n",
    "    # Treinar modelo se PyTorch estiver disponível\n",
    "    if torch_available:\n",
    "        data_config_path = combined_dataset_path / \"data.yaml\"\n",
    "        best_model_path, best_map = trainer.train_with_advanced_features(\n",
    "            data_path=data_config_path,\n",
    "            use_optimization=False\n",
    "        )\n",
    "        \n",
    "        print(f\"\\n=== TREINO CONCLUÍDO ===\")\n",
    "        print(f\"🎯 Melhor mAP@0.5: {best_map:.4f}\")\n",
    "        print(f\"💾 Modelo salvo em: {best_model_path}\")\n",
    "        \n",
    "        # Inicializar sistema de tracking\n",
    "        if best_model_path and Path(best_model_path).exists():\n",
    "            print(\"\\n=== SISTEMA DE TRACKING PRONTO ===\")\n",
    "            tracker = SurgicalMultiTracker(best_model_path)\n",
    "            print(\"🏷️ Classes detectáveis:\")\n",
    "            print(\"  0: needle (agulha)\")\n",
    "            print(\"  1: clamp (pinça)\")\n",
    "            print(\"  2: curved_scissor (tesoura curva)\")\n",
    "            print(\"  3: straight_scissor (tesoura reta)\")\n",
    "            print(\"  4: left_hand (mão esquerda)\")\n",
    "            print(\"  5: right_hand (mão direita)\")\n",
    "            \n",
    "            print(\"\\n🚀 Para usar o tracking:\")\n",
    "            print(\"tracker.track_video_with_hands('video_input.mp4', 'video_output.mp4')\")\n",
    "    else:\n",
    "        print(\"\\n⚠️ PyTorch não disponível - apenas processamento de dataset concluído\")\n",
    "        print(\"📦 Dataset combinado criado em:\", combined_dataset_path)\n",
    "\n",
    "if __name__ == \"__main__\":\n",
    "    main()\n"
   ]
  },
  {
   "cell_type": "code",
   "execution_count": 12,
   "id": "84d91a9c-0070-4af1-9321-f7bb16c765d1",
   "metadata": {},
   "outputs": [
    {
     "data": {
      "text/plain": [
       "'yoloTrackingWithHands.pt'"
      ]
     },
     "execution_count": 12,
     "metadata": {},
     "output_type": "execute_result"
    }
   ],
   "source": [
    "import shutil\n",
    "\n",
    "shutil.copy('runs/detect/train/weights/best.pt', 'yoloTrackingWithHands.pt')"
   ]
  },
  {
   "cell_type": "code",
   "execution_count": null,
   "id": "2e3b48f4-5b3b-4b64-87b9-4685474fe4b9",
   "metadata": {},
   "outputs": [],
   "source": []
  }
 ],
 "metadata": {
  "kernelspec": {
   "display_name": "Python 3 (ipykernel)",
   "language": "python",
   "name": "python3"
  },
  "language_info": {
   "codemirror_mode": {
    "name": "ipython",
    "version": 3
   },
   "file_extension": ".py",
   "mimetype": "text/x-python",
   "name": "python",
   "nbconvert_exporter": "python",
   "pygments_lexer": "ipython3",
   "version": "3.10.16"
  }
 },
 "nbformat": 4,
 "nbformat_minor": 5
}
